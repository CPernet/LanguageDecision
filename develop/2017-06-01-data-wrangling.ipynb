{
 "cells": [
  {
   "cell_type": "markdown",
   "metadata": {},
   "source": [
    "# Data Wrangling\n",
    "\n",
    "Explore the experimental data & convert to HDDM-ready format (CSV)"
   ]
  },
  {
   "cell_type": "markdown",
   "metadata": {},
   "source": [
    "## Fine-tune output for individual .mat files"
   ]
  },
  {
   "cell_type": "code",
   "execution_count": 1,
   "metadata": {
    "collapsed": false
   },
   "outputs": [],
   "source": [
    "import scipy.io as scio\n",
    "\n",
    "# Import .mat file as python object instead of numpy array to make life a little more bearable\n",
    "data = scio.loadmat('../data/data_18333.mat', struct_as_record=False)"
   ]
  },
  {
   "cell_type": "markdown",
   "metadata": {},
   "source": [
    "For now, let's focus on the following:  \n",
    "- Reaction time (rt)  \n",
    "- Response (0/1)  \n",
    "- Stimulus (1-4 for now)  \n",
    "\n",
    "This is similar to `examples/hddm_simple.csv`, used to play around with the HDDM library"
   ]
  },
  {
   "cell_type": "code",
   "execution_count": 2,
   "metadata": {
    "collapsed": false
   },
   "outputs": [],
   "source": [
    "dat_struct = data['data'][0,0]  # Actual data structure, owns to matlab weirdness"
   ]
  },
  {
   "cell_type": "markdown",
   "metadata": {},
   "source": [
    "Before outputing to CSV, data for each subject will go in a python dictionary in the form of key --> array. The plan is to then create an array of dictionaries for all patients, with each dictionary representing the data gathered for an individual"
   ]
  },
  {
   "cell_type": "code",
   "execution_count": 36,
   "metadata": {
    "collapsed": false
   },
   "outputs": [
    {
     "data": {
      "text/plain": [
       "[{'response': 1, 'rt': 2.4512633636236387, 'stim': 2},\n",
       " {'response': 1, 'rt': 1.18735081395198, 'stim': 1},\n",
       " {'response': 1, 'rt': 1.2590923631187252, 'stim': 3},\n",
       " {'response': 1, 'rt': 1.6991102252864039, 'stim': 4},\n",
       " {'response': 1, 'rt': 1.0747144389224559, 'stim': 1},\n",
       " {'response': 1, 'rt': 1.0452650363113207, 'stim': 1},\n",
       " {'response': 1, 'rt': 1.1684425454263874, 'stim': 4},\n",
       " {'response': 1, 'rt': 1.1043389724582084, 'stim': 1},\n",
       " {'response': 1, 'rt': 1.1543610957191959, 'stim': 1},\n",
       " {'response': 1, 'rt': 1.474297757495151, 'stim': 4},\n",
       " {'response': 1, 'rt': 1.4988657792455342, 'stim': 2},\n",
       " {'response': 1, 'rt': 0.9227490303092054, 'stim': 1},\n",
       " {'response': 1, 'rt': 1.2929393460972278, 'stim': 2},\n",
       " {'response': 1, 'rt': 1.6773387458683828, 'stim': 2},\n",
       " {'response': 1, 'rt': 1.356698573619724, 'stim': 3},\n",
       " {'response': 1, 'rt': 1.6131281121852226, 'stim': 2},\n",
       " {'response': 1, 'rt': 1.6206319541875018, 'stim': 1},\n",
       " {'response': 1, 'rt': 2.4685545022207407, 'stim': 2},\n",
       " {'response': 1, 'rt': 1.5810709507086358, 'stim': 4},\n",
       " {'response': 1, 'rt': 1.036619945257371, 'stim': 1},\n",
       " {'response': 0, 'rt': 2.5351076492470384, 'stim': 2},\n",
       " {'response': 1, 'rt': 1.3195649253557349, 'stim': 4},\n",
       " {'response': 1, 'rt': 1.1590146665153043, 'stim': 3},\n",
       " {'response': 1, 'rt': 1.215337105598337, 'stim': 3},\n",
       " {'response': 1, 'rt': 1.1673784051149596, 'stim': 1},\n",
       " {'response': 1, 'rt': 1.6868692699995336, 'stim': 3},\n",
       " {'response': 0, 'rt': 1.3511129122816783, 'stim': 2},\n",
       " {'response': 1, 'rt': 1.198768165123056, 'stim': 3},\n",
       " {'response': 1, 'rt': 1.3189391522596452, 'stim': 2},\n",
       " {'response': 1, 'rt': 1.0709707037322005, 'stim': 3},\n",
       " {'response': 1, 'rt': 1.0813238784971873, 'stim': 3},\n",
       " {'response': 1, 'rt': 1.323848668366736, 'stim': 4},\n",
       " {'response': 1, 'rt': 1.0924120527106425, 'stim': 1},\n",
       " {'response': 1, 'rt': 1.3424434638177445, 'stim': 4},\n",
       " {'response': 1, 'rt': 1.2543379126996115, 'stim': 4},\n",
       " {'response': 1, 'rt': 1.6467513426623555, 'stim': 3},\n",
       " {'response': 1, 'rt': 1.3343205140718055, 'stim': 4},\n",
       " {'response': 1, 'rt': 1.3907808862404636, 'stim': 2},\n",
       " {'response': 1, 'rt': 1.4221795764974559, 'stim': 4},\n",
       " {'response': 1, 'rt': 1.622097474425118, 'stim': 3},\n",
       " {'response': 1, 'rt': 1.0305463356271503, 'stim': 1},\n",
       " {'response': 1, 'rt': 1.6006016536384777, 'stim': 4},\n",
       " {'response': 1, 'rt': 1.2326766762807893, 'stim': 1},\n",
       " {'response': 1, 'rt': 1.2326387956645704, 'stim': 4},\n",
       " {'response': 1, 'rt': 0.9044590694443286, 'stim': 1},\n",
       " {'response': 1, 'rt': 1.3071337548753945, 'stim': 3},\n",
       " {'response': 1, 'rt': 0.9711064277335026, 'stim': 1},\n",
       " {'response': 1, 'rt': 0.9015778957887051, 'stim': 4},\n",
       " {'response': 1, 'rt': 0.8962703625102222, 'stim': 1},\n",
       " {'response': 1, 'rt': 1.1153374321152114, 'stim': 2},\n",
       " {'response': 1, 'rt': 1.109491124226679, 'stim': 1},\n",
       " {'response': 1, 'rt': 1.6244768366982498, 'stim': 2},\n",
       " {'response': 1, 'rt': 1.1040401595482763, 'stim': 4},\n",
       " {'response': 1, 'rt': 1.3546251227362518, 'stim': 3},\n",
       " {'response': 1, 'rt': 1.2751810192535231, 'stim': 2},\n",
       " {'response': 1, 'rt': 1.0831274487918563, 'stim': 1},\n",
       " {'response': 1, 'rt': 1.0851304893740235, 'stim': 2},\n",
       " {'response': 1, 'rt': 1.0878912655944077, 'stim': 1},\n",
       " {'response': 0, 'rt': 1.5389312831071038, 'stim': 2},\n",
       " {'response': 1, 'rt': 1.370743045060408, 'stim': 2},\n",
       " {'response': 1, 'rt': 1.0503686988463414, 'stim': 1},\n",
       " {'response': 1, 'rt': 1.3093640400506956, 'stim': 3},\n",
       " {'response': 1, 'rt': 1.1009325082968644, 'stim': 3},\n",
       " {'response': 1, 'rt': 1.58367754855135, 'stim': 2},\n",
       " {'response': 1, 'rt': 1.1758399974601161, 'stim': 3},\n",
       " {'response': 1, 'rt': 1.0715670782938105, 'stim': 4},\n",
       " {'response': 1, 'rt': 1.0906385125945235, 'stim': 2},\n",
       " {'response': 1, 'rt': 1.1570290984195708, 'stim': 2},\n",
       " {'response': 1, 'rt': 1.6366636901398124, 'stim': 3},\n",
       " {'response': 1, 'rt': 2.180596852472263, 'stim': 3},\n",
       " {'response': 1, 'rt': 1.5566133674665252, 'stim': 4},\n",
       " {'response': 1, 'rt': 1.1810804621363786, 'stim': 4},\n",
       " {'response': 1, 'rt': 0.9490283451250434, 'stim': 1},\n",
       " {'response': 1, 'rt': 1.159589315518133, 'stim': 3},\n",
       " {'response': 1, 'rt': 0.9990401725826814, 'stim': 3},\n",
       " {'response': 1, 'rt': 1.1620777477364754, 'stim': 4},\n",
       " {'response': 1, 'rt': 1.081655296288318, 'stim': 4},\n",
       " {'response': 1, 'rt': 1.2127085325464577, 'stim': 3},\n",
       " {'response': 1, 'rt': 1.3961218756162452, 'stim': 2},\n",
       " {'response': 1, 'rt': 1.604126737606748, 'stim': 4},\n",
       " {'response': 1, 'rt': 1.1000090893294328, 'stim': 1},\n",
       " {'response': 1, 'rt': 1.1430769613557459, 'stim': 4},\n",
       " {'response': 1, 'rt': 1.4711903318302575, 'stim': 4},\n",
       " {'response': 1, 'rt': 1.22265569833462, 'stim': 1},\n",
       " {'response': 1, 'rt': 1.1990032030053044, 'stim': 3},\n",
       " {'response': 1, 'rt': 1.5429644227137942, 'stim': 4},\n",
       " {'response': 1, 'rt': 1.1183984710196455, 'stim': 1},\n",
       " {'response': 0, 'rt': 2.000934147564294, 'stim': 2},\n",
       " {'response': 1, 'rt': 2.8733016008345658, 'stim': 1},\n",
       " {'response': 1, 'rt': 1.4895156978668638, 'stim': 1},\n",
       " {'response': 1, 'rt': 1.1773359689723293, 'stim': 2},\n",
       " {'response': 1, 'rt': 0.9692646760399839, 'stim': 1},\n",
       " {'response': 1, 'rt': 1.3795623346113643, 'stim': 4},\n",
       " {'response': 1, 'rt': 1.0675349643574918, 'stim': 2},\n",
       " {'response': 1, 'rt': 1.1584280674019283, 'stim': 1},\n",
       " {'response': 1, 'rt': 1.1819870312378953, 'stim': 2},\n",
       " {'response': 1, 'rt': 0.846290929386214, 'stim': 1},\n",
       " {'response': 1, 'rt': 1.1931626099944879, 'stim': 2},\n",
       " {'response': 1, 'rt': 2.1609560569349924, 'stim': 2},\n",
       " {'response': 1, 'rt': 1.1128083550843257, 'stim': 3},\n",
       " {'response': 1, 'rt': 0.9636110678129626, 'stim': 1},\n",
       " {'response': 1, 'rt': 0.9741936137074845, 'stim': 3},\n",
       " {'response': 0, 'rt': 0.992404116716898, 'stim': 2},\n",
       " {'response': 1, 'rt': 1.3390892847710347, 'stim': 2},\n",
       " {'response': 1, 'rt': 1.5869313623129528, 'stim': 3},\n",
       " {'response': 1, 'rt': 1.6274621534730613, 'stim': 4},\n",
       " {'response': 1, 'rt': 1.25126147370338, 'stim': 3},\n",
       " {'response': 1, 'rt': 1.1152437231594376, 'stim': 3},\n",
       " {'response': 1, 'rt': 1.2773974443466614, 'stim': 2},\n",
       " {'response': 1, 'rt': 1.7334597746130385, 'stim': 3},\n",
       " {'response': 1, 'rt': 1.1658990819432802, 'stim': 4},\n",
       " {'response': 1, 'rt': 1.445596510582618, 'stim': 4},\n",
       " {'response': 1, 'rt': 1.653597988763977, 'stim': 2},\n",
       " {'response': 1, 'rt': 1.341565138243368, 'stim': 3},\n",
       " {'response': 1, 'rt': 1.1416137120304484, 'stim': 4},\n",
       " {'response': 1, 'rt': 1.0558608226751858, 'stim': 3},\n",
       " {'response': 1, 'rt': 0.9784513450017585, 'stim': 3},\n",
       " {'response': 1, 'rt': 1.5092609643775177, 'stim': 4},\n",
       " {'response': 1, 'rt': 1.0849882490747405, 'stim': 1},\n",
       " {'response': 1, 'rt': 1.1435711990216078, 'stim': 4}]"
      ]
     },
     "execution_count": 36,
     "metadata": {},
     "output_type": "execute_result"
    }
   ],
   "source": [
    "\"\"\"\n",
    "Conversion from convoluted numpy array that scipy.io spits out to a more\n",
    "pythonic data structure.\n",
    "Leverage python instead of numpy for data manipulation, since the use of\n",
    "numpy isn't really necessary for this data.\n",
    "\"\"\"\n",
    "\n",
    "#subject['rt'] = dat_struct.rt1.tolist()[0]\n",
    "#subject['response'] = [x[0] for x in dat_struct.perf1.tolist()]\n",
    "#subject['stim'] = [x[0] for x in dat_struct.conditions1.tolist()]\n",
    "\n",
    "csv_keys = ['rt', 'response', 'stim']\n",
    "\n",
    "reaction_times = dat_struct.rt1.tolist()[0]\n",
    "responses = [x[0] for x in dat_struct.perf1.tolist()]\n",
    "stimuli = [x[0] for x in dat_struct.conditions1.tolist()]\n",
    "\n",
    "subject = []\n",
    "\n",
    "for exp_run in list(zip(reaction_times, responses, stimuli)):\n",
    "    trial = dict.fromkeys(csv_keys)\n",
    "    trial['rt'], trial['response'], trial['stim'] = exp_run\n",
    "    subject.append(trial)\n",
    "\n",
    "subject"
   ]
  },
  {
   "cell_type": "markdown",
   "metadata": {},
   "source": [
    "Now that the data is in a desirable format, we can dump it to a CSV file"
   ]
  },
  {
   "cell_type": "code",
   "execution_count": 39,
   "metadata": {
    "collapsed": true
   },
   "outputs": [],
   "source": [
    "import csv\n",
    "\n",
    "with open('../data/data_18333.csv', 'w') as f:\n",
    "    w = csv.DictWriter(f, csv_keys)\n",
    "    w.writeheader()\n",
    "    w.writerows(subject)"
   ]
  },
  {
   "cell_type": "markdown",
   "metadata": {},
   "source": [
    "## Convert all .mat files to .csv"
   ]
  },
  {
   "cell_type": "markdown",
   "metadata": {},
   "source": [
    "Convert data from .mat files to .csv files for use by the HDDM library"
   ]
  },
  {
   "cell_type": "code",
   "execution_count": 61,
   "metadata": {
    "collapsed": true
   },
   "outputs": [],
   "source": [
    "keys = ['rt', 'response', 'stim']"
   ]
  },
  {
   "cell_type": "code",
   "execution_count": 72,
   "metadata": {
    "collapsed": true,
    "scrolled": true
   },
   "outputs": [],
   "source": [
    "def mat2py(mat_path):\n",
    "    \"\"\"\n",
    "    Function to convert mat file to a pythonic data structure\n",
    "    Returns list of dictionaries mapping to spectific attributes\n",
    "    \"\"\"\n",
    "    data = scio.loadmat(mat_path, struct_as_record=False)\n",
    "    \n",
    "    dat_struct = data['data'][0,0]\n",
    "    \n",
    "    reaction_times = dat_struct.rt1.tolist()[0]\n",
    "    responses = [x[0] for x in dat_struct.perf1.tolist()]\n",
    "    stimuli = [x[0] for x in dat_struct.conditions1.tolist()]\n",
    "\n",
    "    subject = []\n",
    "\n",
    "    for exp_run in list(zip(reaction_times, responses, stimuli)):\n",
    "        trial = dict.fromkeys(keys)\n",
    "        trial['rt'], trial['response'], trial['stim'] = exp_run\n",
    "        subject.append(trial)\n",
    "    \n",
    "    return subject "
   ]
  },
  {
   "cell_type": "code",
   "execution_count": 75,
   "metadata": {
    "collapsed": true
   },
   "outputs": [],
   "source": [
    "import csv\n",
    "\n",
    "def subject2csv(subject, mat_path):\n",
    "    csv_path = mat_path.replace('.mat', '.csv')\n",
    "    with open(csv_path, 'w') as f:\n",
    "        w = csv.DictWriter(f, keys)\n",
    "        w.writeheader()\n",
    "        w.writerows(subject)"
   ]
  },
  {
   "cell_type": "code",
   "execution_count": 74,
   "metadata": {
    "collapsed": false
   },
   "outputs": [
    {
     "name": "stdout",
     "output_type": "stream",
     "text": [
      "../data/pilot_subjects/data_17991.csv\n",
      "../data/pilot_subjects/data_18288.csv\n",
      "../data/pilot_subjects/data_18325.csv\n",
      "../data/pilot_subjects/data_18333.csv\n",
      "../data/pilot_subjects/data_18334.csv\n",
      "../data/pilot_subjects/data_18350.csv\n",
      "../data/pilot_subjects/data_18547.csv\n",
      "../data/pilot_subjects/data_18619.csv\n",
      "../data/pilot_subjects/data_18864.csv\n",
      "../data/pilot_subjects/data_18919.csv\n",
      "../data/pilot_subjects/data_18977.csv\n",
      "../data/pilot_subjects/data_18978.csv\n",
      "../data/pilot_subjects/data_18979.csv\n",
      "../data/pilot_subjects/data_18988.csv\n",
      "../data/pilot_subjects/data_19686.csv\n",
      "../data/pilot_subjects/data_19687.csv\n"
     ]
    }
   ],
   "source": [
    "\"\"\"\n",
    "Iterate through all .mat files in data directory and \n",
    "convert them to csv format\n",
    "\"\"\"\n",
    "\n",
    "import os\n",
    "import glob\n",
    "\n",
    "data_dir = '../data/pilot_subjects/'\n",
    "\n",
    "mat_files = glob.glob(str(data_dir) + '*.mat')\n",
    "\n",
    "for mat in mat_files:\n",
    "    subject2csv(mat2py(mat), mat)"
   ]
  }
 ],
 "metadata": {
  "kernelspec": {
   "display_name": "Python 3",
   "language": "python",
   "name": "python3"
  },
  "language_info": {
   "codemirror_mode": {
    "name": "ipython",
    "version": 3
   },
   "file_extension": ".py",
   "mimetype": "text/x-python",
   "name": "python",
   "nbconvert_exporter": "python",
   "pygments_lexer": "ipython3",
   "version": "3.5.3"
  }
 },
 "nbformat": 4,
 "nbformat_minor": 2
}
