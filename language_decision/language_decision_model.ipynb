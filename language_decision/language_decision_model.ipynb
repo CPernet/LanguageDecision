{
 "cells": [
  {
   "cell_type": "markdown",
   "metadata": {
    "ein.tags": "worksheet-0",
    "slideshow": {
     "slide_type": "-"
    }
   },
   "source": [
    "# A Diffusion Decision Model for Language-based Decisions\n",
    "\n",
    "<img src=\"images/ddm_desc.jpeg\" width=\"600\">\n",
    "\n",
    "Here, we use the `hddm` (Python) library$^1$ to model language-based decision making based on response-time & accuracy data from a binary forced-choice decision task. During each trial, subjects were presented with a digital image of an item (visual stimulus) and a verbal description (auditory stimulus). At the end of each trial, subjects were asked to indicate whether the two types of stimuli agreed (i.e. visual and auditory stimulus pointed to the same object) or were different (i.e. non-matching sound and image). Auditory and visual stimuli pairs fell under four distinct categories, as summarised below:  \n",
    "- Condition 1 (**SS**): Same stimuli (see cat / hear cat)\n",
    "- Condition 2 (**CP**): Phonologically congruent (see cat / hear hat)\n",
    "- Condition 3 (**CS**): Semantically congruent (see cat / hear dog)\n",
    "- Condition 4 (**US**): Unrelated stimuli (see house / hear cat)"
   ]
  },
  {
   "cell_type": "code",
   "execution_count": 1,
   "metadata": {
    "autoscroll": false,
    "ein.tags": "worksheet-0",
    "slideshow": {
     "slide_type": "-"
    }
   },
   "outputs": [
    {
     "name": "stdout",
     "output_type": "stream",
     "text": [
      "/Users/celefthe/Programming/projects/language_decision\n"
     ]
    }
   ],
   "source": [
    "# Environment setup\n",
    "%matplotlib inline\n",
    "%cd /lang_dec\n",
    "# Imports\n",
    "import warnings; warnings.filterwarnings('ignore')\n",
    "import hddm\n",
    "import scipy\n",
    "import numpy as np\n",
    "import pandas as pd\n",
    "import matplotlib.pyplot as plt\n",
    "import seaborn as sns\n",
    "import bayesian_bootstrap.bootstrap as bootstrap\n",
    "from utils import model_tools, signal_detection"
   ]
  },
  {
   "cell_type": "code",
   "execution_count": 2,
   "metadata": {
    "autoscroll": false,
    "ein.tags": "worksheet-0",
    "slideshow": {
     "slide_type": "-"
    }
   },
   "outputs": [
    {
     "data": {
      "text/plain": [
       "<hddm.models.hddm_info.HDDM at 0x116568cf8>"
      ]
     },
     "execution_count": 2,
     "metadata": {},
     "output_type": "execute_result"
    }
   ],
   "source": [
    "# Import pilot models\n",
    "pilot_data = hddm.load_csv('/lang_dec/data/pilot_clean.csv')\n",
    "pilot_model = hddm.HDDM(pilot_data, depends_on={'v': 'stim'}, bias=True)\n",
    "pilot_model.load_db(dbname='language_decision/models/pilot', db='txt')\n",
    "\n",
    "pilot_model_lumped = hddm.HDDM(pilot_data)\n",
    "pilot_model_lumped.load_db(dbname='language_decision/models/pilot_lumped', db='txt')\n",
    "\n",
    "#pilot_model_threshold = hddm.HDDM(pilot_data, depends_on={'v': 'stim', 'a': 'stim'})\n",
    "#pilot_model_threshold.load_db(dbname='language_decision/models/pilot_threshold', db='txt')"
   ]
  },
  {
   "cell_type": "code",
   "execution_count": 3,
   "metadata": {
    "autoscroll": false,
    "ein.tags": "worksheet-0",
    "slideshow": {
     "slide_type": "-"
    }
   },
   "outputs": [
    {
     "data": {
      "text/plain": [
       "<hddm.models.hddm_info.HDDM at 0x116f89cf8>"
      ]
     },
     "execution_count": 3,
     "metadata": {},
     "output_type": "execute_result"
    }
   ],
   "source": [
    "# Import control models\n",
    "controls_data = hddm.load_csv('/lang_dec/data/controls_clean.csv')\n",
    "controls_model = hddm.HDDM(controls_data, depends_on={'v': 'stim'}, bias=True)\n",
    "controls_model.load_db(dbname='language_decision/models/controls', db='txt')\n",
    "\n",
    "controls_model_lumped = hddm.HDDM(controls_data)\n",
    "controls_model_lumped.load_db(dbname='language_decision/models/controls_lumped', db='txt')\n",
    "\n",
    "#controls_model_threshold = hddm.HDDM(controls_data, depends_on={'v': 'stim', 'a': 'stim'})\n",
    "#controls_model_threshold.load_db(dbname='language_decision/models/controls_threshold', db='txt')"
   ]
  },
  {
   "cell_type": "code",
   "execution_count": 4,
   "metadata": {
    "autoscroll": false,
    "ein.tags": "worksheet-0",
    "slideshow": {
     "slide_type": "-"
    }
   },
   "outputs": [
    {
     "data": {
      "text/plain": [
       "<hddm.models.hddm_info.HDDM at 0x1170ba518>"
      ]
     },
     "execution_count": 4,
     "metadata": {},
     "output_type": "execute_result"
    }
   ],
   "source": [
    "# Import patient models\n",
    "patients_data = hddm.load_csv('/lang_dec/data/patients_clean.csv')\n",
    "patients_model = hddm.HDDM(patients_data, depends_on={'v': 'stim'}, bias=True)\n",
    "patients_model.load_db(dbname='language_decision/models/patients', db='txt')\n",
    "\n",
    "patients_model_lumped = hddm.HDDM(patients_data)\n",
    "patients_model_lumped.load_db(dbname='language_decision/models/patients_lumped', db='txt')\n",
    "\n",
    "#patients_model_threshold = hddm.HDDM(patients_data, depends_on={'v': 'stim', 'a': 'stim'})\n",
    "#patients_model_threshold.load_db(dbname='language_decision/models/patients_threshold', db='txt')"
   ]
  },
  {
   "cell_type": "code",
   "execution_count": 5,
   "metadata": {
    "autoscroll": false,
    "collapsed": true,
    "ein.tags": "worksheet-0",
    "slideshow": {
     "slide_type": "-"
    }
   },
   "outputs": [],
   "source": [
    "# Bootstrap function\n",
    "def bayes_bootstrap(observed, stat_function, replications, resample_size):\n",
    "    data_bs = bootstrap.bayesian_bootstrap(\n",
    "        list(filter(None, observed)), stat_function, replications, resample_size)\n",
    "    return {\n",
    "        'bootstrap_data': data_bs,\n",
    "        'central_tendency': {\n",
    "            str(stat_function.__name__): stat_function(data_bs)\n",
    "        },\n",
    "        'CIs': {\n",
    "            'high':  scipy.stats.mstats.mquantiles(data_bs, prob=[0.975])[0],\n",
    "            'low': scipy.stats.mstats.mquantiles(data_bs, prob=[0.025])[0]\n",
    "        } if stat_function.__name__ == 'median' else {\n",
    "            'high':  stat_function(data_bs) + (1.96 * scipy.std(data_bs)),\n",
    "            'low': stat_function(data_bs) - (1.96 * scipy.std(data_bs))\n",
    "        }\n",
    "    }"
   ]
  },
  {
   "cell_type": "code",
   "execution_count": 6,
   "metadata": {
    "autoscroll": false,
    "collapsed": true,
    "ein.tags": "worksheet-0",
    "slideshow": {
     "slide_type": "-"
    }
   },
   "outputs": [],
   "source": [
    "# Bootstrap comparison function\n",
    "def compare_bootstrap_medians(sample1, sample2):\n",
    "    median_diffs = [x - y for x in sample1 for y in sample2]\n",
    "    return {\n",
    "        'median_diffs': median_diffs,\n",
    "        'central_tendency': scipy.median(median_diffs),\n",
    "        'CIs': {\n",
    "            'high':  scipy.stats.mstats.mquantiles(median_diffs, prob=[0.975])[0],\n",
    "            'low': scipy.stats.mstats.mquantiles(median_diffs, prob=[0.025])[0]\n",
    "        }\n",
    "    }"
   ]
  },
  {
   "cell_type": "markdown",
   "metadata": {
    "ein.tags": "worksheet-0",
    "slideshow": {
     "slide_type": "-"
    }
   },
   "source": [
    "## Performance Comparison"
   ]
  },
  {
   "cell_type": "code",
   "execution_count": 7,
   "metadata": {
    "autoscroll": false,
    "collapsed": true,
    "ein.tags": "worksheet-0",
    "slideshow": {
     "slide_type": "-"
    }
   },
   "outputs": [],
   "source": [
    "# Gather data\n",
    "\n",
    "pilot_us = pilot_data.loc[pilot_data['stim'] == 'US']\n",
    "pilot_ss = pilot_data.loc[pilot_data['stim'] == 'SS']\n",
    "pilot_cp = pilot_data.loc[pilot_data['stim'] == 'CP']\n",
    "pilot_cs = pilot_data.loc[pilot_data['stim'] == 'CS']\n",
    "\n",
    "controls_us = controls_data.loc[controls_data['stim'] == 'US']\n",
    "controls_ss = controls_data.loc[controls_data['stim'] == 'SS']\n",
    "controls_cp = controls_data.loc[controls_data['stim'] == 'CP']\n",
    "controls_cs = controls_data.loc[controls_data['stim'] == 'CS']\n",
    "\n",
    "patients_us = patients_data.loc[patients_data['stim'] == 'US']\n",
    "patients_ss = patients_data.loc[patients_data['stim'] == 'SS']\n",
    "patients_cp = patients_data.loc[patients_data['stim'] == 'CP']\n",
    "patients_cs = patients_data.loc[patients_data['stim'] == 'CS']"
   ]
  },
  {
   "cell_type": "markdown",
   "metadata": {
    "ein.tags": "worksheet-0",
    "slideshow": {
     "slide_type": "-"
    }
   },
   "source": [
    "### Reaction Time"
   ]
  },
  {
   "cell_type": "code",
   "execution_count": 124,
   "metadata": {
    "autoscroll": false,
    "ein.tags": "worksheet-0",
    "slideshow": {
     "slide_type": "-"
    }
   },
   "outputs": [
    {
     "name": "stdout",
     "output_type": "stream",
     "text": [
      "N_pilot = 16\n",
      "N_controls = 6\n",
      "Pilot medians:\n",
      "\t SS:1.0177292088\n",
      "\t CP:1.20372684853\n",
      "\t CS:1.10076620218\n",
      "\t US:1.04213379743\n",
      "Controls medians:\n",
      "\t SS:1.08752833395\n",
      "\t CP:1.20626424568\n",
      "\t CS:1.19874492421\n",
      "\t US:1.13699611987\n",
      "Patient medians:\n",
      "\t SS:1.43588068862\n",
      "\t CP:1.69737381073\n",
      "\t CS:1.80817536085\n",
      "\t US:1.68778825953\n"
     ]
    },
    {
     "data": {
      "image/png": "[encoded data removed]",
      "text/plain": [
       "<matplotlib.figure.Figure at 0x10bf0c940>"
      ]
     },
     "metadata": {},
     "output_type": "display_data"
    }
   ],
   "source": [
    "plt.figure(1)\n",
    "\n",
    "plt.subplot(221)\n",
    "vp_rt_ctrl = sns.violinplot(\n",
    "    data=[controls_ss.rt.values, controls_cp.rt.values, \n",
    "          controls_cs.rt.values, controls_us.rt.values], \n",
    "    inner='box')\n",
    "vp_rt_ctrl.set_xticklabels(['SS','CP','CS', 'US'])\n",
    "vp_rt_ctrl.set_xlabel(\"Stimulus Category\")\n",
    "vp_rt_ctrl.set_ylabel(\"Reaction Time (s)\")\n",
    "vp_rt_ctrl.set_title(\"Elderly Controls\")\n",
    "# statistical annotation\n",
    "x1, x2, x3, x4 = 0, 1, 2, 3   # columns (first column: 0, see plt.xticks())\n",
    "y, h, col = 4.05, 0.05, 'k'\n",
    "#Significant\n",
    "plt.plot([x1, x1, x2, x2], [y, y+h, y+h, y], lw=1.5, c=col)\n",
    "plt.plot([x1, x1, x3, x3], [y, y+h, y+h, y], lw=1.5, c=col)\n",
    "plt.plot([x1, x1, x4, x4], [y, y+h, y+h, y], lw=1.5, c=col)\n",
    "plt.text((x1+x2)*.5, y+h, \"*\", ha='center', va='bottom', color=col)\n",
    "plt.ylim(0, 4.60)\n",
    "\n",
    "plt.subplot(222)\n",
    "vp_rt_ptns = sns.violinplot(\n",
    "    data=[patients_ss.rt.values, patients_cp.rt.values, \n",
    "          patients_cs.rt.values, patients_us.rt.values], \n",
    "    inner='box')\n",
    "vp_rt_ptns.set_xticklabels(['SS','CP','CS', 'US'])\n",
    "vp_rt_ptns.set_xlabel(\"Stimulus Category\")\n",
    "vp_rt_ptns.set_ylabel(\"Reaction Time (s)\")\n",
    "vp_rt_ptns.set_title(\"Elderly Patients\")\n",
    "# statistical annotation\n",
    "x1, x2, x3, x4 = 0, 1, 2, 3   # columns (first column: 0, see plt.xticks())\n",
    "y, h, col = 4.25, 0.05, 'k'\n",
    "#Significant\n",
    "plt.plot([x1, x1, x2, x2], [y, y+h, y+h, y], lw=1.5, c=col)\n",
    "plt.plot([x1, x1, x3, x3], [y, y+h, y+h, y], lw=1.5, c=col)\n",
    "plt.plot([x1, x1, x4, x4], [y, y+h, y+h, y], lw=1.5, c=col)\n",
    "plt.text((x1+x2)*.5, y+h, \"*\", ha='center', va='bottom', color=col)\n",
    "plt.ylim(0, 4.60)\n",
    "\n",
    "plt.subplot(223)\n",
    "vp_rt_plt = sns.violinplot(\n",
    "    data=[pilot_ss.rt.values, pilot_cp.rt.values, pilot_cs.rt.values, pilot_us.rt.values], \n",
    "    inner='box')\n",
    "vp_rt_plt.set_xticklabels(['SS','CP','CS', 'US'])\n",
    "vp_rt_plt.set_xlabel(\"Stimulus Category\")\n",
    "vp_rt_plt.set_ylabel(\"Reaction Time (s)\")\n",
    "vp_rt_plt.set_title(\"Young\")\n",
    "plt.ylim(0, 4.60)\n",
    "# statistical annotation\n",
    "x1, x2, x3, x4 = 0, 1, 2, 3   # columns (first column: 0, see plt.xticks())\n",
    "y, h, col = 4.05, 0.05, 'k'\n",
    "#Significant\n",
    "plt.plot([x1, x1, x2, x2], [y, y+h, y+h, y], lw=1.5, c=col)\n",
    "plt.plot([x1, x1, x3, x3], [y, y+h, y+h, y], lw=1.5, c=col)\n",
    "plt.plot([x1, x1, x4, x4], [y, y+h, y+h, y], lw=1.5, c=col)\n",
    "plt.text((x1+x2)*.5, y+h, \"*\", ha='center', va='bottom', color=col)\n",
    "\n",
    "plt.subplots_adjust(top=2.5, bottom=0.001, left=0.10, right=2.5, hspace=0.30,\n",
    "                    wspace=0.15)\n",
    "\n",
    "\n",
    "print(\"N_pilot = \" + str(len(set(pilot_data.subj_idx))))\n",
    "print(\"N_controls = \" + str(len(set(controls_data.subj_idx))))\n",
    "\n",
    "print(\"Pilot medians:\")\n",
    "print(\"\\t SS:\" + str(scipy.median(pilot_ss.rt.values)))\n",
    "print(\"\\t CP:\" + str(scipy.median(pilot_cp.rt.values)))\n",
    "print(\"\\t CS:\" + str(scipy.median(pilot_cs.rt.values)))\n",
    "print(\"\\t US:\" + str(scipy.median(pilot_us.rt.values)))\n",
    "\n",
    "print(\"Controls medians:\")\n",
    "print(\"\\t SS:\" + str(scipy.median(controls_ss.rt.values)))\n",
    "print(\"\\t CP:\" + str(scipy.median(controls_cp.rt.values)))\n",
    "print(\"\\t CS:\" + str(scipy.median(controls_cs.rt.values)))\n",
    "print(\"\\t US:\" + str(scipy.median(controls_us.rt.values)))\n",
    "\n",
    "print(\"Patient medians:\")\n",
    "print(\"\\t SS:\" + str(scipy.median(patients_ss.rt.values)))\n",
    "print(\"\\t CP:\" + str(scipy.median(patients_cp.rt.values)))\n",
    "print(\"\\t CS:\" + str(scipy.median(patients_cs.rt.values)))\n",
    "print(\"\\t US:\" + str(scipy.median(patients_us.rt.values)))"
   ]
  },
  {
   "cell_type": "code",
   "execution_count": 10,
   "metadata": {
    "autoscroll": false,
    "collapsed": true,
    "ein.tags": "worksheet-0",
    "slideshow": {
     "slide_type": "-"
    }
   },
   "outputs": [],
   "source": [
    "rt_comps = dict()"
   ]
  },
  {
   "cell_type": "code",
   "execution_count": 129,
   "metadata": {
    "autoscroll": false,
    "ein.tags": "worksheet-0",
    "slideshow": {
     "slide_type": "-"
    }
   },
   "outputs": [
    {
     "name": "stdout",
     "output_type": "stream",
     "text": [
      "controls\n",
      "ss_cs\n",
      "{'CIs': {'low': 0.099510060484133148, 'high': 0.11712019733414313}, 'central_tendency': {'median': 0.10775729840315762}}\n",
      "ss_cp\n",
      "{'CIs': {'low': 0.11252954218161926, 'high': 0.13030634585760703}, 'central_tendency': {'median': 0.1219901352542363}}\n",
      "ss_us\n",
      "{'CIs': {'low': 0.049197064934541984, 'high': 0.063114956223817117}, 'central_tendency': {'median': 0.05588531372086436}}\n",
      "--------------------\n",
      "pilot_controls\n",
      "us\n",
      "{'CIs': {'low': 0.067217717473522537, 'high': 0.075719666857572615}, 'central_tendency': {'median': 0.071644066755652602}}\n",
      "cp\n",
      "{'CIs': {'low': 0.067213465211475656, 'high': 0.075732170024561896}, 'central_tendency': {'median': 0.071594170937942236}}\n",
      "ss\n",
      "{'CIs': {'low': 0.067263889550740613, 'high': 0.075872322605174528}, 'central_tendency': {'median': 0.07181934910340726}}\n",
      "cs\n",
      "{'CIs': {'low': 0.067290146482134855, 'high': 0.075591179492014368}, 'central_tendency': {'median': 0.071743240810974274}}\n",
      "--------------------\n",
      "pilot\n",
      "ss_cs\n",
      "{'CIs': {'low': 0.073783205822983339, 'high': 0.079659070755213279}, 'central_tendency': {'median': 0.076602441513273362}}\n",
      "ss_cp\n",
      "{'CIs': {'low': 0.16038673141884374, 'high': 0.16698965363138646}, 'central_tendency': {'median': 0.16381164673077817}}\n",
      "ss_us\n",
      "{'CIs': {'low': 0.022407778585182996, 'high': 0.027373195997997687}, 'central_tendency': {'median': 0.024965266840354272}}\n",
      "--------------------\n",
      "patients\n",
      "ss_cs\n",
      "{'CIs': {'low': 0.29599476976612082, 'high': 0.31917081819254445}, 'central_tendency': {'median': 0.30766554123056267}}\n",
      "ss_cp\n",
      "{'CIs': {'low': 0.2350414122118572, 'high': 0.25700254479819007}, 'central_tendency': {'median': 0.24646836028887248}}\n",
      "ss_us\n",
      "{'CIs': {'low': 0.19675814170354564, 'high': 0.21911037398669286}, 'central_tendency': {'median': 0.2080033543101083}}\n",
      "--------------------\n",
      "controls_patients\n",
      "us\n",
      "{'CIs': {'low': 0.49753372910130694, 'high': 0.52314437979941997}, 'central_tendency': {'median': 0.51096195127047395}}\n",
      "cp\n",
      "{'CIs': {'low': 0.42348480835153168, 'high': 0.44968687309863531}, 'central_tendency': {'median': 0.43764282144593381}}\n",
      "ss\n",
      "{'CIs': {'low': 0.32040392983589755, 'high': 0.33719697209113753}, 'central_tendency': {'median': 0.32881700199277469}}\n",
      "cs\n",
      "{'CIs': {'low': 0.52794412770992949, 'high': 0.55523939797497168}, 'central_tendency': {'median': 0.54114360916037196}}\n",
      "--------------------\n"
     ]
    }
   ],
   "source": [
    "# Collate analysis data (actual analysis follows below)\n",
    "for subj in rt_comps.keys():\n",
    "    print(subj)\n",
    "    for stim in rt_comps[subj].keys():\n",
    "        print(stim)\n",
    "        print({x: rt_comps[subj][stim][x] for x in rt_comps[subj][stim].keys() if x != 'bootstrap_data'})\n",
    "    print('--------------------')"
   ]
  },
  {
   "cell_type": "markdown",
   "metadata": {
    "ein.tags": "worksheet-0",
    "slideshow": {
     "slide_type": "-"
    }
   },
   "source": [
    "#### Bootstrap Median Differences Between Subject Groups"
   ]
  },
  {
   "cell_type": "markdown",
   "metadata": {
    "ein.tags": "worksheet-0",
    "slideshow": {
     "slide_type": "-"
    }
   },
   "source": [
    "##### Pilot vs Controls"
   ]
  },
  {
   "cell_type": "code",
   "execution_count": 12,
   "metadata": {
    "autoscroll": false,
    "collapsed": true,
    "ein.tags": "worksheet-0",
    "slideshow": {
     "slide_type": "-"
    }
   },
   "outputs": [],
   "source": [
    "subj_group = 'pilot_controls'\n",
    "rt_comps[subj_group] = dict()"
   ]
  },
  {
   "cell_type": "code",
   "execution_count": 13,
   "metadata": {
    "autoscroll": false,
    "ein.tags": "worksheet-0",
    "slideshow": {
     "slide_type": "-"
    }
   },
   "outputs": [
    {
     "name": "stdout",
     "output_type": "stream",
     "text": [
      "{'low': 0.067263889550740613, 'high': 0.075872322605174528}\n",
      "{'median': 0.07181934910340726}\n"
     ]
    }
   ],
   "source": [
    "subj_group = 'pilot_controls'\n",
    "stim_group = 'ss'\n",
    "diffs = [y - x for x in pilot_ss.rt.values for y in controls_ss.rt.values]\n",
    "\n",
    "rt_comps[subj_group][stim_group] = bayes_bootstrap(diffs, scipy.median, 1000, len(diffs))\n",
    "\n",
    "\n",
    "#plt.hist(rt_comps[subj_group][stim_group]['bootstrap_data'])\n",
    "print(rt_comps[subj_group][stim_group]['CIs'])\n",
    "print(rt_comps[subj_group][stim_group]['central_tendency'])"
   ]
  },
  {
   "cell_type": "code",
   "execution_count": 14,
   "metadata": {
    "autoscroll": false,
    "ein.tags": "worksheet-0",
    "slideshow": {
     "slide_type": "-"
    }
   },
   "outputs": [
    {
     "name": "stdout",
     "output_type": "stream",
     "text": [
      "{'low': 0.067290146482134855, 'high': 0.075591179492014368}\n",
      "{'median': 0.071743240810974274}\n"
     ]
    }
   ],
   "source": [
    "subj_group = 'pilot_controls'\n",
    "stim_group = 'cs'\n",
    "diffs = [y - x for x in pilot_ss.rt.values for y in controls_ss.rt.values]\n",
    "\n",
    "rt_comps[subj_group][stim_group] = bayes_bootstrap(diffs, scipy.median, 1000, len(diffs))\n",
    "\n",
    "\n",
    "#plt.hist(rt_comps[subj_group][stim_group]['bootstrap_data'])\n",
    "print(rt_comps[subj_group][stim_group]['CIs'])\n",
    "print(rt_comps[subj_group][stim_group]['central_tendency'])"
   ]
  },
  {
   "cell_type": "code",
   "execution_count": 15,
   "metadata": {
    "autoscroll": false,
    "ein.tags": "worksheet-0",
    "slideshow": {
     "slide_type": "-"
    }
   },
   "outputs": [
    {
     "name": "stdout",
     "output_type": "stream",
     "text": [
      "{'low': 0.067213465211475656, 'high': 0.075732170024561896}\n",
      "{'median': 0.071594170937942236}\n"
     ]
    }
   ],
   "source": [
    "subj_group = 'pilot_controls'\n",
    "stim_group = 'cp'\n",
    "diffs = [y - x for x in pilot_ss.rt.values for y in controls_ss.rt.values]\n",
    "\n",
    "rt_comps[subj_group][stim_group] = bayes_bootstrap(diffs, scipy.median, 1000, len(diffs))\n",
    "\n",
    "\n",
    "#plt.hist(rt_comps[subj_group][stim_group]['bootstrap_data'])\n",
    "print(rt_comps[subj_group][stim_group]['CIs'])\n",
    "print(rt_comps[subj_group][stim_group]['central_tendency'])"
   ]
  },
  {
   "cell_type": "code",
   "execution_count": 16,
   "metadata": {
    "autoscroll": false,
    "ein.tags": "worksheet-0",
    "slideshow": {
     "slide_type": "-"
    }
   },
   "outputs": [
    {
     "name": "stdout",
     "output_type": "stream",
     "text": [
      "{'low': 0.067217717473522537, 'high': 0.075719666857572615}\n",
      "{'median': 0.071644066755652602}\n"
     ]
    }
   ],
   "source": [
    "subj_group = 'pilot_controls'\n",
    "stim_group = 'us'\n",
    "diffs = [y - x for x in pilot_ss.rt.values for y in controls_ss.rt.values]\n",
    "\n",
    "rt_comps[subj_group][stim_group] = bayes_bootstrap(diffs, scipy.median, 1000, len(diffs))\n",
    "\n",
    "\n",
    "#plt.hist(rt_comps[subj_group][stim_group]['bootstrap_data'])\n",
    "print(rt_comps[subj_group][stim_group]['CIs'])\n",
    "print(rt_comps[subj_group][stim_group]['central_tendency'])"
   ]
  },
  {
   "cell_type": "markdown",
   "metadata": {
    "ein.tags": "worksheet-0",
    "slideshow": {
     "slide_type": "-"
    }
   },
   "source": [
    "##### Controls vs Patients"
   ]
  },
  {
   "cell_type": "code",
   "execution_count": 17,
   "metadata": {
    "autoscroll": false,
    "collapsed": true,
    "ein.tags": "worksheet-0",
    "slideshow": {
     "slide_type": "-"
    }
   },
   "outputs": [],
   "source": [
    "subj_group = 'controls_patients'\n",
    "rt_comps[subj_group] = dict()"
   ]
  },
  {
   "cell_type": "code",
   "execution_count": 18,
   "metadata": {
    "autoscroll": false,
    "ein.tags": "worksheet-0",
    "slideshow": {
     "slide_type": "-"
    }
   },
   "outputs": [
    {
     "name": "stdout",
     "output_type": "stream",
     "text": [
      "{'low': 0.32040392983589755, 'high': 0.33719697209113753}\n",
      "{'median': 0.32881700199277469}\n"
     ]
    }
   ],
   "source": [
    "subj_group = 'controls_patients'\n",
    "stim_group = 'ss'\n",
    "diffs = [y - x for x in controls_ss.rt.values for y in patients_ss.rt.values]\n",
    "\n",
    "rt_comps[subj_group][stim_group] = bayes_bootstrap(diffs, scipy.median, 1000, len(diffs))\n",
    "\n",
    "#plt.hist(rt_comps[subj_group][stim_group]['bootstrap_data'])\n",
    "print(rt_comps[subj_group][stim_group]['CIs'])\n",
    "print(rt_comps[subj_group][stim_group]['central_tendency'])"
   ]
  },
  {
   "cell_type": "code",
   "execution_count": 19,
   "metadata": {
    "autoscroll": false,
    "ein.tags": "worksheet-0",
    "slideshow": {
     "slide_type": "-"
    }
   },
   "outputs": [
    {
     "name": "stdout",
     "output_type": "stream",
     "text": [
      "{'low': 0.52794412770992949, 'high': 0.55523939797497168}\n",
      "{'median': 0.54114360916037196}\n"
     ]
    }
   ],
   "source": [
    "subj_group = 'controls_patients'\n",
    "stim_group = 'cs'\n",
    "diffs = [y - x for x in controls_cs.rt.values for y in patients_cs.rt.values]\n",
    "\n",
    "rt_comps[subj_group][stim_group] = bayes_bootstrap(diffs, scipy.median, 1000, len(diffs))\n",
    "\n",
    "#plt.hist(rt_comps[subj_group][stim_group]['bootstrap_data'])\n",
    "print(rt_comps[subj_group][stim_group]['CIs'])\n",
    "print(rt_comps[subj_group][stim_group]['central_tendency'])"
   ]
  },
  {
   "cell_type": "code",
   "execution_count": 20,
   "metadata": {
    "autoscroll": false,
    "ein.tags": "worksheet-0",
    "slideshow": {
     "slide_type": "-"
    }
   },
   "outputs": [
    {
     "name": "stdout",
     "output_type": "stream",
     "text": [
      "{'low': 0.42348480835153168, 'high': 0.44968687309863531}\n",
      "{'median': 0.43764282144593381}\n"
     ]
    }
   ],
   "source": [
    "subj_group = 'controls_patients'\n",
    "stim_group = 'cp'\n",
    "diffs = [y - x for x in controls_cp.rt.values for y in patients_cp.rt.values]\n",
    "\n",
    "rt_comps[subj_group][stim_group] = bayes_bootstrap(diffs, scipy.median, 1000, len(diffs))\n",
    "\n",
    "#plt.hist(rt_comps[subj_group][stim_group]['bootstrap_data'])\n",
    "print(rt_comps[subj_group][stim_group]['CIs'])\n",
    "print(rt_comps[subj_group][stim_group]['central_tendency'])"
   ]
  },
  {
   "cell_type": "code",
   "execution_count": 21,
   "metadata": {
    "autoscroll": false,
    "ein.tags": "worksheet-0",
    "slideshow": {
     "slide_type": "-"
    }
   },
   "outputs": [
    {
     "name": "stdout",
     "output_type": "stream",
     "text": [
      "{'low': 0.49753372910130694, 'high': 0.52314437979941997}\n",
      "{'median': 0.51096195127047395}\n"
     ]
    }
   ],
   "source": [
    "subj_group = 'controls_patients'\n",
    "stim_group = 'us'\n",
    "diffs = [y - x for x in controls_us.rt.values for y in patients_us.rt.values]\n",
    "\n",
    "rt_comps[subj_group][stim_group] = bayes_bootstrap(diffs, scipy.median, 1000, len(diffs))\n",
    "\n",
    "#plt.hist(rt_comps[subj_group][stim_group]['bootstrap_data'])\n",
    "print(rt_comps[subj_group][stim_group]['CIs'])\n",
    "print(rt_comps[subj_group][stim_group]['central_tendency'])"
   ]
  },
  {
   "cell_type": "markdown",
   "metadata": {
    "ein.tags": "worksheet-0",
    "slideshow": {
     "slide_type": "-"
    }
   },
   "source": [
    "#### Bootstrap Median Differences Between Stimuli Groups (Incogruency Effect Only)"
   ]
  },
  {
   "cell_type": "markdown",
   "metadata": {
    "ein.tags": "worksheet-0",
    "slideshow": {
     "slide_type": "-"
    }
   },
   "source": [
    "##### Pilot"
   ]
  },
  {
   "cell_type": "code",
   "execution_count": 22,
   "metadata": {
    "autoscroll": false,
    "collapsed": true,
    "ein.tags": "worksheet-0",
    "slideshow": {
     "slide_type": "-"
    }
   },
   "outputs": [],
   "source": [
    "subj_group = 'pilot'\n",
    "rt_comps[subj_group] = dict()"
   ]
  },
  {
   "cell_type": "code",
   "execution_count": 23,
   "metadata": {
    "autoscroll": false,
    "ein.tags": "worksheet-0",
    "slideshow": {
     "slide_type": "-"
    }
   },
   "outputs": [
    {
     "name": "stdout",
     "output_type": "stream",
     "text": [
      "{'low': 0.022407778585182996, 'high': 0.027373195997997687}\n",
      "{'median': 0.024965266840354272}\n"
     ]
    }
   ],
   "source": [
    "subj_group = 'pilot'\n",
    "stim_group = 'ss_us'\n",
    "diffs = [y - x for x in pilot_ss.rt.values for y in pilot_us.rt.values]\n",
    "\n",
    "rt_comps[subj_group][stim_group] = bayes_bootstrap(diffs, scipy.median, 1000, len(diffs))\n",
    "\n",
    "#plt.hist(rt_comps[subj_group][stim_group]['bootstrap_data'])\n",
    "print(rt_comps[subj_group][stim_group]['CIs'])\n",
    "print(rt_comps[subj_group][stim_group]['central_tendency'])"
   ]
  },
  {
   "cell_type": "code",
   "execution_count": 24,
   "metadata": {
    "autoscroll": false,
    "ein.tags": "worksheet-0",
    "slideshow": {
     "slide_type": "-"
    }
   },
   "outputs": [
    {
     "name": "stdout",
     "output_type": "stream",
     "text": [
      "{'low': 0.073783205822983339, 'high': 0.079659070755213279}\n",
      "{'median': 0.076602441513273362}\n"
     ]
    }
   ],
   "source": [
    "subj_group = 'pilot'\n",
    "stim_group = 'ss_cs'\n",
    "diffs = [y - x for x in pilot_ss.rt.values for y in pilot_cs.rt.values]\n",
    "\n",
    "rt_comps[subj_group][stim_group] = bayes_bootstrap(diffs, scipy.median, 1000, len(diffs))\n",
    "\n",
    "#plt.hist(rt_comps[subj_group][stim_group]['bootstrap_data'])\n",
    "print(rt_comps[subj_group][stim_group]['CIs'])\n",
    "print(rt_comps[subj_group][stim_group]['central_tendency'])"
   ]
  },
  {
   "cell_type": "code",
   "execution_count": 25,
   "metadata": {
    "autoscroll": false,
    "ein.tags": "worksheet-0",
    "slideshow": {
     "slide_type": "-"
    }
   },
   "outputs": [
    {
     "name": "stdout",
     "output_type": "stream",
     "text": [
      "{'low': 0.16038673141884374, 'high': 0.16698965363138646}\n",
      "{'median': 0.16381164673077817}\n"
     ]
    }
   ],
   "source": [
    "subj_group = 'pilot'\n",
    "stim_group = 'ss_cp'\n",
    "diffs = [y - x for x in pilot_ss.rt.values for y in pilot_cp.rt.values]\n",
    "\n",
    "rt_comps[subj_group][stim_group] = bayes_bootstrap(diffs, scipy.median, 1000, len(diffs))\n",
    "\n",
    "#plt.hist(rt_comps[subj_group][stim_group]['bootstrap_data'])\n",
    "print(rt_comps[subj_group][stim_group]['CIs'])\n",
    "print(rt_comps[subj_group][stim_group]['central_tendency'])"
   ]
  },
  {
   "cell_type": "markdown",
   "metadata": {
    "ein.tags": "worksheet-0",
    "slideshow": {
     "slide_type": "-"
    }
   },
   "source": [
    "##### Controls"
   ]
  },
  {
   "cell_type": "code",
   "execution_count": 26,
   "metadata": {
    "autoscroll": false,
    "collapsed": true,
    "ein.tags": "worksheet-0",
    "slideshow": {
     "slide_type": "-"
    }
   },
   "outputs": [],
   "source": [
    "subj_group = 'controls'\n",
    "rt_comps[subj_group] = dict()"
   ]
  },
  {
   "cell_type": "code",
   "execution_count": 27,
   "metadata": {
    "autoscroll": false,
    "ein.tags": "worksheet-0",
    "slideshow": {
     "slide_type": "-"
    }
   },
   "outputs": [
    {
     "name": "stdout",
     "output_type": "stream",
     "text": [
      "{'low': 0.049197064934541984, 'high': 0.063114956223817117}\n",
      "{'median': 0.05588531372086436}\n"
     ]
    }
   ],
   "source": [
    "subj_group = 'controls'\n",
    "stim_group = 'ss_us'\n",
    "diffs = [y - x for x in controls_ss.rt.values for y in controls_us.rt.values]\n",
    "\n",
    "rt_comps[subj_group][stim_group] = bayes_bootstrap(diffs, scipy.median, 1000, len(diffs))\n",
    "\n",
    "#plt.hist(rt_comps[subj_group][stim_group]['bootstrap_data'])\n",
    "print(rt_comps[subj_group][stim_group]['CIs'])\n",
    "print(rt_comps[subj_group][stim_group]['central_tendency'])"
   ]
  },
  {
   "cell_type": "code",
   "execution_count": 28,
   "metadata": {
    "autoscroll": false,
    "ein.tags": "worksheet-0",
    "slideshow": {
     "slide_type": "-"
    }
   },
   "outputs": [
    {
     "name": "stdout",
     "output_type": "stream",
     "text": [
      "{'low': 0.099510060484133148, 'high': 0.11712019733414313}\n",
      "{'median': 0.10775729840315762}\n"
     ]
    }
   ],
   "source": [
    "subj_group = 'controls'\n",
    "stim_group = 'ss_cs'\n",
    "diffs = [y - x for x in controls_ss.rt.values for y in controls_cs.rt.values]\n",
    "\n",
    "rt_comps[subj_group][stim_group] = bayes_bootstrap(diffs, scipy.median, 1000, len(diffs))\n",
    "\n",
    "#plt.hist(rt_comps[subj_group][stim_group]['bootstrap_data'])\n",
    "print(rt_comps[subj_group][stim_group]['CIs'])\n",
    "print(rt_comps[subj_group][stim_group]['central_tendency'])"
   ]
  },
  {
   "cell_type": "code",
   "execution_count": 29,
   "metadata": {
    "autoscroll": false,
    "ein.tags": "worksheet-0",
    "slideshow": {
     "slide_type": "-"
    }
   },
   "outputs": [
    {
     "name": "stdout",
     "output_type": "stream",
     "text": [
      "{'low': 0.11252954218161926, 'high': 0.13030634585760703}\n",
      "{'median': 0.1219901352542363}\n"
     ]
    }
   ],
   "source": [
    "subj_group = 'controls'\n",
    "stim_group = 'ss_cp'\n",
    "diffs = [y - x for x in controls_ss.rt.values for y in controls_cp.rt.values]\n",
    "\n",
    "rt_comps[subj_group][stim_group] = bayes_bootstrap(diffs, scipy.median, 1000, len(diffs))\n",
    "\n",
    "#plt.hist(rt_comps[subj_group][stim_group]['bootstrap_data'])\n",
    "print(rt_comps[subj_group][stim_group]['CIs'])\n",
    "print(rt_comps[subj_group][stim_group]['central_tendency'])"
   ]
  },
  {
   "cell_type": "markdown",
   "metadata": {
    "ein.tags": "worksheet-0",
    "slideshow": {
     "slide_type": "-"
    }
   },
   "source": [
    "##### Patients"
   ]
  },
  {
   "cell_type": "code",
   "execution_count": 30,
   "metadata": {
    "autoscroll": false,
    "collapsed": true,
    "ein.tags": "worksheet-0",
    "slideshow": {
     "slide_type": "-"
    }
   },
   "outputs": [],
   "source": [
    "subj_group = 'patients'\n",
    "rt_comps[subj_group] = dict()"
   ]
  },
  {
   "cell_type": "code",
   "execution_count": 31,
   "metadata": {
    "autoscroll": false,
    "ein.tags": "worksheet-0",
    "slideshow": {
     "slide_type": "-"
    }
   },
   "outputs": [
    {
     "name": "stdout",
     "output_type": "stream",
     "text": [
      "{'low': 0.19675814170354564, 'high': 0.21911037398669286}\n",
      "{'median': 0.2080033543101083}\n"
     ]
    }
   ],
   "source": [
    "subj_group = 'patients'\n",
    "stim_group = 'ss_us'\n",
    "diffs = [y - x for x in patients_ss.rt.values for y in patients_us.rt.values]\n",
    "\n",
    "rt_comps[subj_group][stim_group] = bayes_bootstrap(diffs, scipy.median, 1000, len(diffs))\n",
    "\n",
    "#plt.hist(rt_comps[subj_group][stim_group]['bootstrap_data'])\n",
    "print(rt_comps[subj_group][stim_group]['CIs'])\n",
    "print(rt_comps[subj_group][stim_group]['central_tendency'])"
   ]
  },
  {
   "cell_type": "code",
   "execution_count": 32,
   "metadata": {
    "autoscroll": false,
    "ein.tags": "worksheet-0",
    "slideshow": {
     "slide_type": "-"
    }
   },
   "outputs": [
    {
     "name": "stdout",
     "output_type": "stream",
     "text": [
      "{'low': 0.29599476976612082, 'high': 0.31917081819254445}\n",
      "{'median': 0.30766554123056267}\n"
     ]
    }
   ],
   "source": [
    "subj_group = 'patients'\n",
    "stim_group = 'ss_cs'\n",
    "diffs = [y - x for x in patients_ss.rt.values for y in patients_cs.rt.values]\n",
    "\n",
    "rt_comps[subj_group][stim_group] = bayes_bootstrap(diffs, scipy.median, 1000, len(diffs))\n",
    "\n",
    "#plt.hist(rt_comps[subj_group][stim_group]['bootstrap_data'])\n",
    "print(rt_comps[subj_group][stim_group]['CIs'])\n",
    "print(rt_comps[subj_group][stim_group]['central_tendency'])"
   ]
  },
  {
   "cell_type": "code",
   "execution_count": 33,
   "metadata": {
    "autoscroll": false,
    "ein.tags": "worksheet-0",
    "slideshow": {
     "slide_type": "-"
    }
   },
   "outputs": [
    {
     "name": "stdout",
     "output_type": "stream",
     "text": [
      "{'low': 0.2350414122118572, 'high': 0.25700254479819007}\n",
      "{'median': 0.24646836028887248}\n"
     ]
    }
   ],
   "source": [
    "subj_group = 'patients'\n",
    "stim_group = 'ss_cp'\n",
    "diffs = [y - x for x in patients_ss.rt.values for y in patients_cp.rt.values]\n",
    "\n",
    "rt_comps[subj_group][stim_group] = bayes_bootstrap(diffs, scipy.median, 1000, len(diffs))\n",
    "\n",
    "#plt.hist(rt_comps[subj_group][stim_group]['bootstrap_data'])\n",
    "print(rt_comps[subj_group][stim_group]['CIs'])\n",
    "print(rt_comps[subj_group][stim_group]['central_tendency'])"
   ]
  },
  {
   "cell_type": "markdown",
   "metadata": {
    "ein.tags": "worksheet-0",
    "slideshow": {
     "slide_type": "-"
    }
   },
   "source": [
    "### Accuracy"
   ]
  },
  {
   "cell_type": "code",
   "execution_count": 34,
   "metadata": {
    "autoscroll": false,
    "collapsed": true,
    "ein.tags": "worksheet-0",
    "slideshow": {
     "slide_type": "-"
    }
   },
   "outputs": [],
   "source": [
    "def get_accuracies(subjects):\n",
    "    accuracies = []\n",
    "    grouped_subjects = subjects.groupby('subj_idx')\n",
    "    for subject in [grouped_subjects.get_group(x) for x in grouped_subjects.groups]:\n",
    "        accuracies.append(len([x for x in subject.response.values if x >= 1]) / len(subject.response.values))\n",
    "    return accuracies"
   ]
  },
  {
   "cell_type": "code",
   "execution_count": 35,
   "metadata": {
    "autoscroll": false,
    "collapsed": true,
    "ein.tags": "worksheet-0",
    "slideshow": {
     "slide_type": "-"
    }
   },
   "outputs": [],
   "source": [
    "pilot_ss_accuracies = get_accuracies(pilot_ss)\n",
    "pilot_cp_accuracies = get_accuracies(pilot_cp)\n",
    "pilot_cs_accuracies = get_accuracies(pilot_cs)\n",
    "pilot_us_accuracies = get_accuracies(pilot_us)\n",
    "\n",
    "controls_ss_accuracies = get_accuracies(controls_ss)\n",
    "controls_cp_accuracies = get_accuracies(controls_cp)\n",
    "controls_cs_accuracies = get_accuracies(controls_cs)\n",
    "controls_us_accuracies = get_accuracies(controls_us)\n",
    "\n",
    "patients_ss_accuracies = get_accuracies(patients_ss) \n",
    "patients_cp_accuracies = get_accuracies(patients_cp)\n",
    "patients_cs_accuracies = get_accuracies(patients_cs)\n",
    "patients_us_accuracies = get_accuracies(patients_us)"
   ]
  },
  {
   "cell_type": "code",
   "execution_count": 128,
   "metadata": {
    "autoscroll": false,
    "ein.tags": "worksheet-0",
    "slideshow": {
     "slide_type": "-"
    }
   },
   "outputs": [
    {
     "data": {
      "image/png": "[encoded data removed]",
      "text/plain": [
       "<matplotlib.figure.Figure at 0x11ac691d0>"
      ]
     },
     "metadata": {},
     "output_type": "display_data"
    },
    {
     "name": "stdout",
     "output_type": "stream",
     "text": [
      "N_pilot = 16\n",
      "N_controls = 6\n",
      "N_patients = 10\n",
      "Pilot medians:\n",
      "\t SS:0.983333333333\n",
      "\t CP:0.933333333333\n",
      "\t CS:1.0\n",
      "\t US:1.0\n",
      "Controls medians:\n",
      "\t SS:0.95\n",
      "\t CP:0.830459770115\n",
      "\t CS:0.933333333333\n",
      "\t US:1.0\n",
      "Patient medians:\n",
      "\t SS:0.923850574713\n",
      "\t CP:0.625\n",
      "\t CS:0.644252873563\n",
      "\t US:0.888095238095\n"
     ]
    }
   ],
   "source": [
    "plt.figure(1)\n",
    "\n",
    "plt.subplot(221)\n",
    "box_acc_ctrl = sns.boxplot(\n",
    "    data=[controls_ss_accuracies, controls_cp_accuracies, \n",
    "          controls_cs_accuracies, controls_us_accuracies])\n",
    "box_acc_ctrl.set_xticklabels(['SS','CP','CS', 'US'])\n",
    "box_acc_ctrl.set_xlabel(\"Stimulus Category\")\n",
    "box_acc_ctrl.set_ylabel(\"Accuracy\")\n",
    "box_acc_ctrl.set_title(\"Elderly Controls\")\n",
    "plt.ylim(0, 1.15)\n",
    "# statistical annotation\n",
    "x1, x2, x3, x4 = 0, 1, 2, 3   # columns (first column: 0, see plt.xticks())\n",
    "y, h, col = 1.03, 0.02, 'k'\n",
    "#Significant\n",
    "plt.plot([x1, x1, x2, x2], [y, y+h, y+h, y], lw=1.5, c=col)\n",
    "plt.plot([x1, x1, x4, x4], [y, y+h, y+h, y], lw=1.5, c=col)\n",
    "plt.text((x1+x2)*.5, y+h, \"*\", ha='center', va='bottom', color=col)\n",
    "# NS\n",
    "y, h, col = 0.5, 0.02, 'k'\n",
    "plt.plot([x1, x1, x3, x3], [y, y-h, y-h, y], lw=1.5, c=col)\n",
    "plt.text((x1+x3)*.5, y-h, \"ns\", ha='center', va='top', color=col)\n",
    "\n",
    "\n",
    "plt.subplot(222)\n",
    "box_acc_ptns = sns.boxplot(\n",
    "    data=[patients_ss_accuracies, patients_cp_accuracies, \n",
    "          patients_cs_accuracies, patients_us_accuracies])\n",
    "box_acc_ptns.set_xticklabels(['SS','CP','CS', 'US'])\n",
    "box_acc_ptns.set_xlabel(\"Stimulus Category\")\n",
    "box_acc_ptns.set_ylabel(\"Accuracy\")\n",
    "box_acc_ptns.set_title(\"Elderly Patients\")\n",
    "plt.ylim(0, 1.15)\n",
    "# statistical annotation\n",
    "x1, x2, x3, x4 = 0, 1, 2, 3   # columns (first column: 0, see plt.xticks())\n",
    "y, h, col = 1.03, 0.02, 'k'\n",
    "#Significant\n",
    "plt.plot([x1, x1, x2, x2], [y, y+h, y+h, y], lw=1.5, c=col)\n",
    "plt.plot([x1, x1, x3, x3], [y, y+h, y+h, y], lw=1.5, c=col)\n",
    "plt.text((x1+x2)*.5, y+h, \"*\", ha='center', va='bottom', color=col)\n",
    "# NS\n",
    "y, h, col = 1.05, 0.05, 'k'\n",
    "plt.plot([x1, x1, x4, x4], [y, y+h, y+h, y], lw=1.5, c=col)\n",
    "plt.text((x1+x4)*.5, y+h, \"ns\", ha='center', va='bottom', color=col)\n",
    "\n",
    "plt.subplot(223)\n",
    "box_acc_plt = sns.boxplot(\n",
    "    data=[pilot_ss_accuracies, pilot_cp_accuracies, pilot_cs_accuracies, pilot_us_accuracies])\n",
    "box_acc_plt.set_xticklabels(['SS','CP','CS', 'US'])\n",
    "box_acc_plt.set_xlabel(\"Stimulus Category\")\n",
    "box_acc_plt.set_ylabel(\"Accuracy\")\n",
    "box_acc_plt.set_title(\"Young\")\n",
    "plt.ylim(0, 1.15)\n",
    "# statistical annotation\n",
    "x1, x2, x3, x4 = 0, 1, 2, 3   # columns (first column: 0, see plt.xticks())\n",
    "y, h, col = 1.03, 0.02, 'k'\n",
    "#Significant\n",
    "plt.plot([x1, x1, x2, x2], [y, y+h, y+h, y], lw=1.5, c=col)\n",
    "plt.plot([x1, x1, x4, x4], [y, y+h, y+h, y], lw=1.5, c=col)\n",
    "plt.text((x1+x2)*.5, y+h, \"*\", ha='center', va='bottom', color=col)\n",
    "# NS\n",
    "y, h, col = 0.8, 0.02, 'k'\n",
    "plt.plot([x1, x1, x3, x3], [y, y-h, y-h, y], lw=1.5, c=col)\n",
    "plt.text((x1+x3)*.5, y-h, \"ns\", ha='center', va='top', color=col)\n",
    "\n",
    "plt.subplots_adjust(top=2.5, bottom=0.001, left=0.10, right=2.5, hspace=0.30,\n",
    "                    wspace=0.15)\n",
    "\n",
    "\n",
    "plt.show()\n",
    "print(\"N_pilot = \" + str(len(set(pilot_data.subj_idx))))\n",
    "print(\"N_controls = \" + str(len(set(controls_data.subj_idx))))\n",
    "print(\"N_patients = \" + str(len(set(patients_data.subj_idx))))\n",
    "\n",
    "print(\"Pilot medians:\")\n",
    "print(\"\\t SS:\" + str(scipy.median(pilot_ss_accuracies)))\n",
    "print(\"\\t CP:\" + str(scipy.median(pilot_cp_accuracies)))\n",
    "print(\"\\t CS:\" + str(scipy.median(pilot_cs_accuracies)))\n",
    "print(\"\\t US:\" + str(scipy.median(pilot_us_accuracies)))\n",
    "\n",
    "print(\"Controls medians:\")\n",
    "print(\"\\t SS:\" + str(scipy.median(controls_ss_accuracies)))\n",
    "print(\"\\t CP:\" + str(scipy.median(controls_cp_accuracies)))\n",
    "print(\"\\t CS:\" + str(scipy.median(controls_cs_accuracies)))\n",
    "print(\"\\t US:\" + str(scipy.median(controls_us_accuracies)))\n",
    "\n",
    "print(\"Patient medians:\")\n",
    "print(\"\\t SS:\" + str(scipy.median(patients_ss_accuracies)))\n",
    "print(\"\\t CP:\" + str(scipy.median(patients_cp_accuracies)))\n",
    "print(\"\\t CS:\" + str(scipy.median(patients_cs_accuracies)))\n",
    "print(\"\\t US:\" + str(scipy.median(patients_us_accuracies)))"
   ]
  },
  {
   "cell_type": "code",
   "execution_count": 38,
   "metadata": {
    "autoscroll": false,
    "collapsed": true,
    "ein.tags": "worksheet-0",
    "slideshow": {
     "slide_type": "-"
    }
   },
   "outputs": [],
   "source": [
    "acc_comps = dict()"
   ]
  },
  {
   "cell_type": "code",
   "execution_count": 127,
   "metadata": {
    "autoscroll": false,
    "ein.tags": "worksheet-0",
    "slideshow": {
     "slide_type": "-"
    }
   },
   "outputs": [
    {
     "name": "stdout",
     "output_type": "stream",
     "text": [
      "controls\n",
      "ss_cs\n",
      "{'CIs': {'low': -0.083333333333333315, 'high': 0.033333333333333326}, 'central_tendency': {'median': 0.0011494252873562871}}\n",
      "ss_cp\n",
      "{'CIs': {'low': 0.085632183908046, 'high': 0.40000000000000002}, 'central_tendency': {'median': 0.1333333333333333}}\n",
      "ss_us\n",
      "{'CIs': {'low': -0.11666666666666664, 'high': -0.033333333333333326}, 'central_tendency': {'median': -0.033333333333333326}}\n",
      "--------------------\n",
      "pilot_controls\n",
      "us\n",
      "{'CIs': {'low': -0.033333333333333326, 'high': 0.19999999999999996}, 'central_tendency': {'median': 0.16666666666666663}}\n",
      "cp\n",
      "{'CIs': {'low': 0.099999999999999978, 'high': 0.2195402298850575}, 'central_tendency': {'median': 0.1333333333333333}}\n",
      "ss\n",
      "{'CIs': {'low': 0.033333333333333326, 'high': 0.1333333333333333}, 'central_tendency': {'median': 0.066666666666666652}}\n",
      "cs\n",
      "{'CIs': {'low': 0.034482758620689613, 'high': 0.066666666666666652}, 'central_tendency': {'median': 0.066666666666666652}}\n",
      "--------------------\n",
      "pilot\n",
      "ss_cs\n",
      "{'CIs': {'low': -0.033333333333333326, 'high': 0.0011494252873562871}, 'central_tendency': {'median': -0.033333333333333326}}\n",
      "ss_cp\n",
      "{'CIs': {'low': 0.066666666666666652, 'high': 0.099999999999999978}, 'central_tendency': {'median': 0.066666666666666652}}\n",
      "ss_us\n",
      "{'CIs': {'low': -0.033333333333333326, 'high': -0.033333333333333326}, 'central_tendency': {'median': -0.033333333333333326}}\n",
      "--------------------\n",
      "patients\n",
      "ss_cs\n",
      "{'CIs': {'low': 0.11343660968660971, 'high': 0.3666666666666667}, 'central_tendency': {'median': 0.2614942528735632}}\n",
      "ss_cp\n",
      "{'CIs': {'low': 0.21149425287356327, 'high': 0.34482758620689657}, 'central_tendency': {'median': 0.28045977011494261}}\n",
      "ss_us\n",
      "{'CIs': {'low': -0.066666666666666652, 'high': 0.21314285714285819}, 'central_tendency': {'median': -0.00512820512820511}}\n",
      "--------------------\n",
      "controls_patients\n",
      "us\n",
      "{'CIs': {'low': 0.19047619047619047, 'high': 0.83333333333333337}, 'central_tendency': {'median': 0.46666666666666667}}\n",
      "cp\n",
      "{'CIs': {'low': 0.064491379310344793, 'high': 0.31149425287356325}, 'central_tendency': {'median': 0.19999999999999996}}\n",
      "ss\n",
      "{'CIs': {'low': -0.033333333333333326, 'high': 0.07407407407407407}, 'central_tendency': {'median': 0.033333333333333326}}\n",
      "cs\n",
      "{'CIs': {'low': 0.15740740740740738, 'high': 0.65769230769230769}, 'central_tendency': {'median': 0.30000000000000004}}\n",
      "--------------------\n"
     ]
    }
   ],
   "source": [
    "# Collate analysis data (actual analysis follows below)\n",
    "for subj in acc_comps.keys():\n",
    "    print(subj)\n",
    "    for stim in acc_comps[subj].keys():\n",
    "        print(stim)\n",
    "        print({x: acc_comps[subj][stim][x] for x in acc_comps[subj][stim].keys() if x != 'bootstrap_data'})\n",
    "    print('--------------------')"
   ]
  },
  {
   "cell_type": "markdown",
   "metadata": {
    "ein.tags": "worksheet-0",
    "slideshow": {
     "slide_type": "-"
    }
   },
   "source": [
    "#### Bootstrap Median Differences Between Subject Groups"
   ]
  },
  {
   "cell_type": "markdown",
   "metadata": {
    "ein.tags": "worksheet-0",
    "slideshow": {
     "slide_type": "-"
    }
   },
   "source": [
    "##### Pilot vs Controls"
   ]
  },
  {
   "cell_type": "code",
   "execution_count": 40,
   "metadata": {
    "autoscroll": false,
    "collapsed": true,
    "ein.tags": "worksheet-0",
    "slideshow": {
     "slide_type": "-"
    }
   },
   "outputs": [],
   "source": [
    "subj_group = 'pilot_controls'\n",
    "acc_comps[subj_group] = dict()"
   ]
  },
  {
   "cell_type": "code",
   "execution_count": 41,
   "metadata": {
    "autoscroll": false,
    "ein.tags": "worksheet-0",
    "slideshow": {
     "slide_type": "-"
    }
   },
   "outputs": [
    {
     "name": "stdout",
     "output_type": "stream",
     "text": [
      "{'low': 0.033333333333333326, 'high': 0.1333333333333333}\n",
      "{'median': 0.066666666666666652}\n"
     ]
    }
   ],
   "source": [
    "subj_group = 'pilot_controls'\n",
    "stim_group = 'ss'\n",
    "diffs = [x - y for x in pilot_ss_accuracies for y in controls_ss_accuracies]\n",
    "\n",
    "acc_comps[subj_group][stim_group] = bayes_bootstrap(diffs, scipy.median, 1000, len(diffs))\n",
    "\n",
    "#plt.hist(rt_comps[subj_group][stim_group]['bootstrap_data'])\n",
    "print(acc_comps[subj_group][stim_group]['CIs'])\n",
    "print(acc_comps[subj_group][stim_group]['central_tendency'])"
   ]
  },
  {
   "cell_type": "code",
   "execution_count": 42,
   "metadata": {
    "autoscroll": false,
    "ein.tags": "worksheet-0",
    "slideshow": {
     "slide_type": "-"
    }
   },
   "outputs": [
    {
     "name": "stdout",
     "output_type": "stream",
     "text": [
      "{'low': 0.034482758620689613, 'high': 0.066666666666666652}\n",
      "{'median': 0.066666666666666652}\n"
     ]
    }
   ],
   "source": [
    "subj_group = 'pilot_controls'\n",
    "stim_group = 'cs'\n",
    "diffs = [x - y for x in pilot_cs_accuracies for y in controls_cs_accuracies]\n",
    "\n",
    "acc_comps[subj_group][stim_group] = bayes_bootstrap(diffs, scipy.median, 1000, len(diffs))\n",
    "\n",
    "#plt.hist(acc_comps[subj_group][stim_group]['bootstrap_data'])\n",
    "print(acc_comps[subj_group][stim_group]['CIs'])\n",
    "print(acc_comps[subj_group][stim_group]['central_tendency'])"
   ]
  },
  {
   "cell_type": "code",
   "execution_count": 43,
   "metadata": {
    "autoscroll": false,
    "ein.tags": "worksheet-0",
    "slideshow": {
     "slide_type": "-"
    }
   },
   "outputs": [
    {
     "name": "stdout",
     "output_type": "stream",
     "text": [
      "{'low': 0.099999999999999978, 'high': 0.2195402298850575}\n",
      "{'median': 0.1333333333333333}\n"
     ]
    }
   ],
   "source": [
    "subj_group = 'pilot_controls'\n",
    "stim_group = 'cp'\n",
    "diffs = [x - y for x in pilot_cp_accuracies for y in controls_cp_accuracies]\n",
    "\n",
    "acc_comps[subj_group][stim_group] = bayes_bootstrap(diffs, scipy.median, 1000, len(diffs))\n",
    "\n",
    "#plt.hist(acc_comps[subj_group][stim_group]['bootstrap_data'])\n",
    "print(acc_comps[subj_group][stim_group]['CIs'])\n",
    "print(acc_comps[subj_group][stim_group]['central_tendency'])"
   ]
  },
  {
   "cell_type": "code",
   "execution_count": 44,
   "metadata": {
    "autoscroll": false,
    "ein.tags": "worksheet-0",
    "slideshow": {
     "slide_type": "-"
    }
   },
   "outputs": [
    {
     "name": "stdout",
     "output_type": "stream",
     "text": [
      "{'low': -0.033333333333333326, 'high': 0.19999999999999996}\n",
      "{'median': 0.16666666666666663}\n"
     ]
    }
   ],
   "source": [
    "subj_group = 'pilot_controls'\n",
    "stim_group = 'us'\n",
    "diffs = [x - y for x in pilot_us_accuracies for y in controls_us_accuracies]\n",
    "\n",
    "acc_comps[subj_group][stim_group] = bayes_bootstrap(diffs, scipy.median, 1000, len(diffs))\n",
    "\n",
    "#plt.hist(rt_comps[subj_group][stim_group]['bootstrap_data'])\n",
    "print(acc_comps[subj_group][stim_group]['CIs'])\n",
    "print(acc_comps[subj_group][stim_group]['central_tendency'])"
   ]
  },
  {
   "cell_type": "markdown",
   "metadata": {
    "ein.tags": "worksheet-0",
    "slideshow": {
     "slide_type": "-"
    }
   },
   "source": [
    "##### Controls vs Patients"
   ]
  },
  {
   "cell_type": "code",
   "execution_count": 45,
   "metadata": {
    "autoscroll": false,
    "collapsed": true,
    "ein.tags": "worksheet-0",
    "slideshow": {
     "slide_type": "-"
    }
   },
   "outputs": [],
   "source": [
    "subj_group = 'controls_patients'\n",
    "acc_comps[subj_group] = dict()"
   ]
  },
  {
   "cell_type": "code",
   "execution_count": 46,
   "metadata": {
    "autoscroll": false,
    "ein.tags": "worksheet-0",
    "slideshow": {
     "slide_type": "-"
    }
   },
   "outputs": [
    {
     "name": "stdout",
     "output_type": "stream",
     "text": [
      "{'low': -0.033333333333333326, 'high': 0.07407407407407407}\n",
      "{'median': 0.033333333333333326}\n"
     ]
    }
   ],
   "source": [
    "subj_group = 'controls_patients'\n",
    "stim_group = 'ss'\n",
    "diffs = [y - x for x in patients_ss_accuracies for y in controls_ss_accuracies]\n",
    "\n",
    "acc_comps[subj_group][stim_group] = bayes_bootstrap(diffs, scipy.median, 1000, len(diffs))\n",
    "\n",
    "#plt.hist(rt_comps[subj_group][stim_group]['bootstrap_data'])\n",
    "print(acc_comps[subj_group][stim_group]['CIs'])\n",
    "print(acc_comps[subj_group][stim_group]['central_tendency'])"
   ]
  },
  {
   "cell_type": "code",
   "execution_count": 47,
   "metadata": {
    "autoscroll": false,
    "ein.tags": "worksheet-0",
    "slideshow": {
     "slide_type": "-"
    }
   },
   "outputs": [
    {
     "name": "stdout",
     "output_type": "stream",
     "text": [
      "{'low': 0.15740740740740738, 'high': 0.65769230769230769}\n",
      "{'median': 0.30000000000000004}\n"
     ]
    }
   ],
   "source": [
    "subj_group = 'controls_patients'\n",
    "stim_group = 'cs'\n",
    "diffs = [y - x for x in patients_cs_accuracies for y in controls_cs_accuracies]\n",
    "\n",
    "acc_comps[subj_group][stim_group] = bayes_bootstrap(diffs, scipy.median, 1000, len(diffs))\n",
    "\n",
    "#plt.hist(rt_comps[subj_group][stim_group]['bootstrap_data'])\n",
    "print(acc_comps[subj_group][stim_group]['CIs'])\n",
    "print(acc_comps[subj_group][stim_group]['central_tendency'])"
   ]
  },
  {
   "cell_type": "code",
   "execution_count": 48,
   "metadata": {
    "autoscroll": false,
    "ein.tags": "worksheet-0",
    "slideshow": {
     "slide_type": "-"
    }
   },
   "outputs": [
    {
     "name": "stdout",
     "output_type": "stream",
     "text": [
      "{'low': 0.064491379310344793, 'high': 0.31149425287356325}\n",
      "{'median': 0.19999999999999996}\n"
     ]
    }
   ],
   "source": [
    "subj_group = 'controls_patients'\n",
    "stim_group = 'cp'\n",
    "diffs = [y - x for x in patients_cp_accuracies for y in controls_cp_accuracies]\n",
    "\n",
    "acc_comps[subj_group][stim_group] = bayes_bootstrap(diffs, scipy.median, 1000, len(diffs))\n",
    "\n",
    "#plt.hist(rt_comps[subj_group][stim_group]['bootstrap_data'])\n",
    "print(acc_comps[subj_group][stim_group]['CIs'])\n",
    "print(acc_comps[subj_group][stim_group]['central_tendency'])"
   ]
  },
  {
   "cell_type": "code",
   "execution_count": 49,
   "metadata": {
    "autoscroll": false,
    "ein.tags": "worksheet-0",
    "slideshow": {
     "slide_type": "-"
    }
   },
   "outputs": [
    {
     "name": "stdout",
     "output_type": "stream",
     "text": [
      "{'low': 0.19047619047619047, 'high': 0.83333333333333337}\n",
      "{'median': 0.46666666666666667}\n"
     ]
    }
   ],
   "source": [
    "subj_group = 'controls_patients'\n",
    "stim_group = 'us'\n",
    "diffs = [y - x for x in patients_us_accuracies for y in controls_us_accuracies]\n",
    "\n",
    "acc_comps[subj_group][stim_group] = bayes_bootstrap(diffs, scipy.median, 1000, len(diffs))\n",
    "\n",
    "#plt.hist(rt_comps[subj_group][stim_group]['bootstrap_data'])\n",
    "print(acc_comps[subj_group][stim_group]['CIs'])\n",
    "print(acc_comps[subj_group][stim_group]['central_tendency'])"
   ]
  },
  {
   "cell_type": "markdown",
   "metadata": {
    "ein.tags": "worksheet-0",
    "slideshow": {
     "slide_type": "-"
    }
   },
   "source": [
    "#### Bootstrap Median Differences Between Stimuli Categories (Within Subject Groups, Incogruency Only) "
   ]
  },
  {
   "cell_type": "markdown",
   "metadata": {
    "ein.tags": "worksheet-0",
    "slideshow": {
     "slide_type": "-"
    }
   },
   "source": [
    "##### Pilot"
   ]
  },
  {
   "cell_type": "code",
   "execution_count": 50,
   "metadata": {
    "autoscroll": false,
    "collapsed": true,
    "ein.tags": "worksheet-0",
    "slideshow": {
     "slide_type": "-"
    }
   },
   "outputs": [],
   "source": [
    "subj_group = 'pilot'\n",
    "acc_comps[subj_group] = dict()"
   ]
  },
  {
   "cell_type": "code",
   "execution_count": 51,
   "metadata": {
    "autoscroll": false,
    "ein.tags": "worksheet-0",
    "slideshow": {
     "slide_type": "-"
    }
   },
   "outputs": [
    {
     "name": "stdout",
     "output_type": "stream",
     "text": [
      "{'low': -0.033333333333333326, 'high': -0.033333333333333326}\n",
      "{'median': -0.033333333333333326}\n"
     ]
    }
   ],
   "source": [
    "subj_group = 'pilot'\n",
    "stim_group = 'ss_us'\n",
    "diffs = [x - y for x in pilot_ss_accuracies for y in pilot_us_accuracies]\n",
    "\n",
    "acc_comps[subj_group][stim_group] = bayes_bootstrap(diffs, scipy.median, 1000, len(diffs))\n",
    "\n",
    "#plt.hist(rt_comps[subj_group][stim_group]['bootstrap_data'])\n",
    "print(acc_comps[subj_group][stim_group]['CIs'])\n",
    "print(acc_comps[subj_group][stim_group]['central_tendency'])"
   ]
  },
  {
   "cell_type": "code",
   "execution_count": 52,
   "metadata": {
    "autoscroll": false,
    "ein.tags": "worksheet-0",
    "slideshow": {
     "slide_type": "-"
    }
   },
   "outputs": [
    {
     "name": "stdout",
     "output_type": "stream",
     "text": [
      "{'low': -0.033333333333333326, 'high': 0.0011494252873562871}\n",
      "{'median': -0.033333333333333326}\n"
     ]
    }
   ],
   "source": [
    "subj_group = 'pilot'\n",
    "stim_group = 'ss_cs'\n",
    "diffs = [x - y for x in pilot_ss_accuracies for y in pilot_cs_accuracies]\n",
    "\n",
    "acc_comps[subj_group][stim_group] = bayes_bootstrap(diffs, scipy.median, 1000, len(diffs))\n",
    "\n",
    "#plt.hist(rt_comps[subj_group][stim_group]['bootstrap_data'])\n",
    "print(acc_comps[subj_group][stim_group]['CIs'])\n",
    "print(acc_comps[subj_group][stim_group]['central_tendency'])"
   ]
  },
  {
   "cell_type": "code",
   "execution_count": 53,
   "metadata": {
    "autoscroll": false,
    "ein.tags": "worksheet-0",
    "slideshow": {
     "slide_type": "-"
    }
   },
   "outputs": [
    {
     "name": "stdout",
     "output_type": "stream",
     "text": [
      "{'low': 0.066666666666666652, 'high': 0.099999999999999978}\n",
      "{'median': 0.066666666666666652}\n"
     ]
    }
   ],
   "source": [
    "subj_group = 'pilot'\n",
    "stim_group = 'ss_cp'\n",
    "diffs = [x - y for x in pilot_ss_accuracies for y in pilot_cp_accuracies]\n",
    "\n",
    "acc_comps[subj_group][stim_group] = bayes_bootstrap(diffs, scipy.median, 1000, len(diffs))\n",
    "\n",
    "#plt.hist(rt_comps[subj_group][stim_group]['bootstrap_data'])\n",
    "print(acc_comps[subj_group][stim_group]['CIs'])\n",
    "print(acc_comps[subj_group][stim_group]['central_tendency'])"
   ]
  },
  {
   "cell_type": "markdown",
   "metadata": {
    "ein.tags": "worksheet-0",
    "slideshow": {
     "slide_type": "-"
    }
   },
   "source": [
    "##### Controls"
   ]
  },
  {
   "cell_type": "code",
   "execution_count": 54,
   "metadata": {
    "autoscroll": false,
    "collapsed": true,
    "ein.tags": "worksheet-0",
    "slideshow": {
     "slide_type": "-"
    }
   },
   "outputs": [],
   "source": [
    "subj_group = 'controls'\n",
    "acc_comps[subj_group] = dict()"
   ]
  },
  {
   "cell_type": "code",
   "execution_count": 55,
   "metadata": {
    "autoscroll": false,
    "ein.tags": "worksheet-0",
    "slideshow": {
     "slide_type": "-"
    }
   },
   "outputs": [
    {
     "name": "stdout",
     "output_type": "stream",
     "text": [
      "{'low': -0.11666666666666664, 'high': -0.033333333333333326}\n",
      "{'median': -0.033333333333333326}\n"
     ]
    }
   ],
   "source": [
    "subj_group = 'controls'\n",
    "stim_group = 'ss_us'\n",
    "diffs = [x - y for x in controls_ss_accuracies for y in controls_us_accuracies]\n",
    "\n",
    "acc_comps[subj_group][stim_group] = bayes_bootstrap(diffs, scipy.median, 1000, len(diffs))\n",
    "\n",
    "#plt.hist(rt_comps[subj_group][stim_group]['bootstrap_data'])\n",
    "print(acc_comps[subj_group][stim_group]['CIs'])\n",
    "print(acc_comps[subj_group][stim_group]['central_tendency'])"
   ]
  },
  {
   "cell_type": "code",
   "execution_count": 56,
   "metadata": {
    "autoscroll": false,
    "ein.tags": "worksheet-0",
    "slideshow": {
     "slide_type": "-"
    }
   },
   "outputs": [
    {
     "name": "stdout",
     "output_type": "stream",
     "text": [
      "{'low': -0.083333333333333315, 'high': 0.033333333333333326}\n",
      "{'median': 0.0011494252873562871}\n"
     ]
    }
   ],
   "source": [
    "subj_group = 'controls'\n",
    "stim_group = 'ss_cs'\n",
    "diffs = [x - y for x in controls_ss_accuracies for y in controls_cs_accuracies]\n",
    "\n",
    "acc_comps[subj_group][stim_group] = bayes_bootstrap(diffs, scipy.median, 1000, len(diffs))\n",
    "\n",
    "#plt.hist(rt_comps[subj_group][stim_group]['bootstrap_data'])\n",
    "print(acc_comps[subj_group][stim_group]['CIs'])\n",
    "print(acc_comps[subj_group][stim_group]['central_tendency'])"
   ]
  },
  {
   "cell_type": "code",
   "execution_count": 57,
   "metadata": {
    "autoscroll": false,
    "ein.tags": "worksheet-0",
    "slideshow": {
     "slide_type": "-"
    }
   },
   "outputs": [
    {
     "name": "stdout",
     "output_type": "stream",
     "text": [
      "{'low': 0.085632183908046, 'high': 0.40000000000000002}\n",
      "{'median': 0.1333333333333333}\n"
     ]
    }
   ],
   "source": [
    "subj_group = 'controls'\n",
    "stim_group = 'ss_cp'\n",
    "diffs = [x - y for x in controls_ss_accuracies for y in controls_cp_accuracies]\n",
    "\n",
    "acc_comps[subj_group][stim_group] = bayes_bootstrap(diffs, scipy.median, 1000, len(diffs))\n",
    "\n",
    "#plt.hist(rt_comps[subj_group][stim_group]['bootstrap_data'])\n",
    "print(acc_comps[subj_group][stim_group]['CIs'])\n",
    "print(acc_comps[subj_group][stim_group]['central_tendency'])"
   ]
  },
  {
   "cell_type": "markdown",
   "metadata": {
    "ein.tags": "worksheet-0",
    "slideshow": {
     "slide_type": "-"
    }
   },
   "source": [
    "##### Patients"
   ]
  },
  {
   "cell_type": "code",
   "execution_count": 58,
   "metadata": {
    "autoscroll": false,
    "collapsed": true,
    "ein.tags": "worksheet-0",
    "slideshow": {
     "slide_type": "-"
    }
   },
   "outputs": [],
   "source": [
    "subj_group = 'patients'\n",
    "acc_comps[subj_group] = dict()"
   ]
  },
  {
   "cell_type": "code",
   "execution_count": 59,
   "metadata": {
    "autoscroll": false,
    "ein.tags": "worksheet-0",
    "slideshow": {
     "slide_type": "-"
    }
   },
   "outputs": [
    {
     "name": "stdout",
     "output_type": "stream",
     "text": [
      "{'low': -0.066666666666666652, 'high': 0.21314285714285819}\n",
      "{'median': -0.00512820512820511}\n"
     ]
    }
   ],
   "source": [
    "subj_group = 'patients'\n",
    "stim_group = 'ss_us'\n",
    "diffs = [x - y for x in patients_ss_accuracies for y in patients_us_accuracies]\n",
    "\n",
    "acc_comps[subj_group][stim_group] = bayes_bootstrap(diffs, scipy.median, 1000, len(diffs))\n",
    "\n",
    "#plt.hist(rt_comps[subj_group][stim_group]['bootstrap_data'])\n",
    "print(acc_comps[subj_group][stim_group]['CIs'])\n",
    "print(acc_comps[subj_group][stim_group]['central_tendency'])"
   ]
  },
  {
   "cell_type": "code",
   "execution_count": 60,
   "metadata": {
    "autoscroll": false,
    "ein.tags": "worksheet-0",
    "slideshow": {
     "slide_type": "-"
    }
   },
   "outputs": [
    {
     "name": "stdout",
     "output_type": "stream",
     "text": [
      "{'low': 0.11343660968660971, 'high': 0.3666666666666667}\n",
      "{'median': 0.2614942528735632}\n"
     ]
    }
   ],
   "source": [
    "stim_group = 'ss_cs'\n",
    "diffs = [x - y for x in patients_ss_accuracies for y in patients_cs_accuracies]\n",
    "\n",
    "acc_comps[subj_group][stim_group] = bayes_bootstrap(diffs, scipy.median, 1000, len(diffs))\n",
    "\n",
    "#plt.hist(rt_comps[subj_group][stim_group]['bootstrap_data'])\n",
    "print(acc_comps[subj_group][stim_group]['CIs'])\n",
    "print(acc_comps[subj_group][stim_group]['central_tendency'])"
   ]
  },
  {
   "cell_type": "code",
   "execution_count": 61,
   "metadata": {
    "autoscroll": false,
    "ein.tags": "worksheet-0",
    "slideshow": {
     "slide_type": "-"
    }
   },
   "outputs": [
    {
     "name": "stdout",
     "output_type": "stream",
     "text": [
      "{'low': 0.21149425287356327, 'high': 0.34482758620689657}\n",
      "{'median': 0.28045977011494261}\n"
     ]
    }
   ],
   "source": [
    "stim_group = 'ss_cp'\n",
    "diffs = [x - y for x in patients_ss_accuracies for y in patients_cp_accuracies]\n",
    "\n",
    "acc_comps[subj_group][stim_group] = bayes_bootstrap(diffs, scipy.median, 1000, len(diffs))\n",
    "\n",
    "#plt.hist(rt_comps[subj_group][stim_group]['bootstrap_data'])\n",
    "print(acc_comps[subj_group][stim_group]['CIs'])\n",
    "print(acc_comps[subj_group][stim_group]['central_tendency'])"
   ]
  },
  {
   "cell_type": "markdown",
   "metadata": {
    "ein.tags": "worksheet-0",
    "slideshow": {
     "slide_type": "-"
    }
   },
   "source": [
    "### Signal Detection Theory & d'"
   ]
  },
  {
   "cell_type": "markdown",
   "metadata": {
    "ein.tags": "worksheet-0",
    "slideshow": {
     "slide_type": "-"
    }
   },
   "source": [
    "**Hit:** SS + \"same\" response  \n",
    "**False Alarm:** US/CS/CP + \"same\" response\n",
    "\n",
    "**Miss:** SS + \"diff\" response  \n",
    "**Correct Rejection:** US/CS/CP + \"diff\" response"
   ]
  },
  {
   "cell_type": "markdown",
   "metadata": {
    "ein.tags": "worksheet-0",
    "slideshow": {
     "slide_type": "-"
    }
   },
   "source": [
    "**Stim Group 1**: SS  \n",
    "**Stim Group 2**: US / CS / CP"
   ]
  },
  {
   "cell_type": "code",
   "execution_count": 62,
   "metadata": {
    "autoscroll": false,
    "collapsed": true,
    "ein.tags": "worksheet-0",
    "slideshow": {
     "slide_type": "-"
    }
   },
   "outputs": [],
   "source": [
    "def get_d_primes(dataset, stim1, stim2, include_id=False):\n",
    "    d_primes = dict()\n",
    "    subject_ids = set(dataset.subj_idx)\n",
    "    for subject_id in subject_ids:\n",
    "        stim1_data = dataset.loc[\n",
    "            dataset['subj_idx'] == subject_id].loc[\n",
    "            dataset['stim'] == str(stim1)]\n",
    "        stim1_trials = len(stim1_data)\n",
    "        hits = len(stim1_data.loc[\n",
    "            dataset['response'] == 1.0])\n",
    "        \n",
    "        stim2_data = dataset.loc[\n",
    "            dataset['subj_idx'] == subject_id].loc[\n",
    "            dataset['stim'] == str(stim2)]\n",
    "        stim2_trials = len(stim2_data)\n",
    "        \n",
    "        fas = len(stim2_data.loc[\n",
    "            dataset['response'] == 0.0])\n",
    "        \n",
    "        if not stim1_trials or not stim2_trials:\n",
    "            d_primes[subject_id] = None # N/A placeholder value\n",
    "            continue\n",
    "        \n",
    "        d_prime = signal_detection.signal_detection(\n",
    "            n_stim1=stim1_trials, \n",
    "            n_stim2=stim2_trials, \n",
    "            hits=hits, \n",
    "            false_alarms=fas)['d_prime']\n",
    "        d_primes[subject_id] = d_prime\n",
    "       \n",
    "    if not include_id:\n",
    "        return list(d_primes.values())\n",
    "    return d_primes"
   ]
  },
  {
   "cell_type": "code",
   "execution_count": 63,
   "metadata": {
    "autoscroll": false,
    "collapsed": true,
    "ein.tags": "worksheet-0",
    "slideshow": {
     "slide_type": "-"
    }
   },
   "outputs": [],
   "source": [
    "## Pilot d'\n",
    "pilot_dprimes = {\n",
    "    'ss_us': get_d_primes(pilot_data, 'SS', 'US'),\n",
    "    'ss_cs': get_d_primes(pilot_data, 'SS', 'CS'),\n",
    "    'ss_cp': get_d_primes(pilot_data, 'SS', 'CP')\n",
    "}\n",
    "\n",
    "## Controls d'\n",
    "controls_dprimes = {\n",
    "    'ss_us': get_d_primes(controls_data, 'SS', 'US'),\n",
    "    'ss_cs': get_d_primes(controls_data, 'SS', 'CS'),\n",
    "    'ss_cp': get_d_primes(controls_data, 'SS', 'CP')\n",
    "}\n",
    "\n",
    "## Patients d'\n",
    "patients_dprimes = {\n",
    "    'ss_us': get_d_primes(patients_data, 'SS', 'US'),\n",
    "    'ss_cs': get_d_primes(patients_data, 'SS', 'CS'),\n",
    "    'ss_cp': get_d_primes(patients_data, 'SS', 'CP')\n",
    "}"
   ]
  },
  {
   "cell_type": "code",
   "execution_count": 139,
   "metadata": {
    "autoscroll": false,
    "ein.tags": "worksheet-0",
    "slideshow": {
     "slide_type": "-"
    }
   },
   "outputs": [
    {
     "data": {
      "image/png": "[encoded data removed]",
      "text/plain": [
       "<matplotlib.figure.Figure at 0x116a65cf8>"
      ]
     },
     "metadata": {},
     "output_type": "display_data"
    }
   ],
   "source": [
    "## Plotting d's\n",
    "plt.figure(1)\n",
    "\n",
    "plt.subplot(221)\n",
    "box_dprime_ctrl = sns.boxplot(\n",
    "    data=[controls_dprimes['ss_cp'],\n",
    "          controls_dprimes['ss_cs'],\n",
    "          controls_dprimes['ss_us']])\n",
    "box_dprime_ctrl.set_xticklabels(['SS vs CP','SS vs CS', 'SS vs US'])\n",
    "box_dprime_ctrl.set_xlabel(\"Stimulus Pair\")\n",
    "box_dprime_ctrl.set_ylabel(\"d prime\")\n",
    "box_dprime_ctrl.set_title(\"Elderly Controls\")\n",
    "box_dprime_ctrl.set_ylim(-2.5, 4.5)\n",
    "\n",
    "plt.subplot(222)\n",
    "box_dprime_ptns = sns.boxplot(\n",
    "    data=[patients_dprimes['ss_cp'],\n",
    "          patients_dprimes['ss_cs'],\n",
    "          controls_dprimes['ss_us']])\n",
    "box_dprime_ptns.set_xticklabels(['SS vs CP','SS vs CS', 'SS vs US'])\n",
    "box_dprime_ptns.set_xlabel(\"Stimulus Pair\")\n",
    "box_dprime_ptns.set_ylabel(\"d prime\")\n",
    "box_dprime_ptns.set_title(\"Elderly Patients\")\n",
    "box_dprime_ptns.set_ylim(-2.5, 4.5)\n",
    "\n",
    "plt.subplot(223)\n",
    "box_dprime_plt = sns.boxplot(\n",
    "    data=[pilot_dprimes['ss_cp'],\n",
    "          pilot_dprimes['ss_cs'],\n",
    "          pilot_dprimes['ss_us']])\n",
    "box_dprime_plt.set_xticklabels(['SS vs CP','SS vs CS', 'SS vs US'])\n",
    "box_dprime_plt.set_xlabel(\"Stimulus Pair\")\n",
    "box_dprime_plt.set_ylabel(\"d prime\")\n",
    "box_dprime_plt.set_title(\"Young\")\n",
    "box_dprime_plt.set_ylim(-2.5, 4.5)\n",
    "\n",
    "plt.subplots_adjust(top=2.5, bottom=0.001, left=0.10, right=2.5, hspace=0.30,\n",
    "                    wspace=0.25)"
   ]
  },
  {
   "cell_type": "markdown",
   "metadata": {
    "ein.tags": "worksheet-0",
    "slideshow": {
     "slide_type": "-"
    }
   },
   "source": [
    "#### Bootstrap Median Differences\n",
    "http://faculty.psy.ohio-state.edu/myung/personal/course/826/bootstrap_hypo.pdf"
   ]
  },
  {
   "cell_type": "markdown",
   "metadata": {},
   "source": [
    "##### Between groups"
   ]
  },
  {
   "cell_type": "code",
   "execution_count": 130,
   "metadata": {
    "autoscroll": false,
    "collapsed": true,
    "ein.tags": "worksheet-0",
    "slideshow": {
     "slide_type": "-"
    }
   },
   "outputs": [],
   "source": [
    "## Pilot vs Controls d'\n",
    "dp_pilot_controls = dict()"
   ]
  },
  {
   "cell_type": "code",
   "execution_count": 131,
   "metadata": {
    "autoscroll": false,
    "ein.tags": "worksheet-0",
    "slideshow": {
     "slide_type": "-"
    }
   },
   "outputs": [
    {
     "name": "stdout",
     "output_type": "stream",
     "text": [
      "{'low': 0.29413059836906852, 'high': 0.8664930697142128}\n",
      "{'median': 0.33282868977188995}\n"
     ]
    }
   ],
   "source": [
    "stim_key = 'ss_us'\n",
    "diffs = [x - y for x in pilot_dprimes[stim_key] for y in controls_dprimes[stim_key]]\n",
    "dp_pilot_controls[stim_key] = bayes_bootstrap(diffs, scipy.median, 1000, len(diffs))\n",
    "\n",
    "#plt.hist(dp_pilot_controls[stim_key]['bootstrap_data'])\n",
    "print(dp_pilot_controls[stim_key]['CIs'])\n",
    "print(dp_pilot_controls[stim_key]['central_tendency'])"
   ]
  },
  {
   "cell_type": "code",
   "execution_count": 132,
   "metadata": {
    "autoscroll": false,
    "ein.tags": "worksheet-0",
    "slideshow": {
     "slide_type": "-"
    }
   },
   "outputs": [
    {
     "name": "stdout",
     "output_type": "stream",
     "text": [
      "{'low': 0.60353023970399189, 'high': 1.1993217594861032}\n",
      "{'median': 0.92108988651002743}\n"
     ]
    }
   ],
   "source": [
    "stim_key = 'ss_cs'\n",
    "diffs = [x - y for x in pilot_dprimes[stim_key] for y in controls_dprimes[stim_key]]\n",
    "dp_pilot_controls[stim_key] = bayes_bootstrap(diffs, scipy.median, 1000, len(diffs))\n",
    "\n",
    "#plt.hist(dp_pilot_controls[stim_key]['bootstrap_data'])\n",
    "print(dp_pilot_controls[stim_key]['CIs'])\n",
    "print(dp_pilot_controls[stim_key]['central_tendency'])"
   ]
  },
  {
   "cell_type": "code",
   "execution_count": 133,
   "metadata": {
    "autoscroll": false,
    "ein.tags": "worksheet-0",
    "slideshow": {
     "slide_type": "-"
    }
   },
   "outputs": [
    {
     "name": "stdout",
     "output_type": "stream",
     "text": [
      "{'low': 0.58964897972426977, 'high': 1.4934523578551717}\n",
      "{'median': 0.94108928758385746}\n"
     ]
    }
   ],
   "source": [
    "stim_key = 'ss_cp'\n",
    "diffs = [x - y for x in pilot_dprimes[stim_key] for y in controls_dprimes[stim_key]]\n",
    "dp_pilot_controls[stim_key] = bayes_bootstrap(diffs, scipy.median, 1000, len(diffs))\n",
    "\n",
    "#plt.hist(dp_pilot_controls[stim_key]['bootstrap_data'])\n",
    "print(dp_pilot_controls[stim_key]['CIs'])\n",
    "print(dp_pilot_controls[stim_key]['central_tendency'])"
   ]
  },
  {
   "cell_type": "code",
   "execution_count": 69,
   "metadata": {
    "autoscroll": false,
    "collapsed": true,
    "ein.tags": "worksheet-0",
    "slideshow": {
     "slide_type": "-"
    }
   },
   "outputs": [],
   "source": [
    "## Controls vs Patients d'\n",
    "dp_controls_patients = dict()"
   ]
  },
  {
   "cell_type": "code",
   "execution_count": 70,
   "metadata": {
    "autoscroll": false,
    "ein.tags": "worksheet-0",
    "slideshow": {
     "slide_type": "-"
    }
   },
   "outputs": [
    {
     "name": "stdout",
     "output_type": "stream",
     "text": [
      "{'low': 0.62695928814095891, 'high': 2.1931348314821921}\n",
      "{'median': 1.3266417617679784}\n"
     ]
    }
   ],
   "source": [
    "stim_key = 'ss_us'\n",
    "diffs = [x - y for x in controls_dprimes[stim_key] for y in patients_dprimes[stim_key]]\n",
    "dp_controls_patients[stim_key] = bayes_bootstrap(diffs, scipy.median, 1000, len(diffs))\n",
    "\n",
    "#plt.hist(dp_controls_patients[stim_key]['bootstrap_data'])\n",
    "print(dp_controls_patients[stim_key]['CIs'])\n",
    "print(dp_controls_patients[stim_key]['central_tendency'])"
   ]
  },
  {
   "cell_type": "code",
   "execution_count": 71,
   "metadata": {
    "autoscroll": false,
    "ein.tags": "worksheet-0",
    "slideshow": {
     "slide_type": "-"
    }
   },
   "outputs": [
    {
     "name": "stdout",
     "output_type": "stream",
     "text": [
      "{'low': 0.95841282815938955, 'high': 2.4374510688381914}\n",
      "{'median': 1.5315445228373428}\n"
     ]
    }
   ],
   "source": [
    "stim_key = 'ss_cs'\n",
    "diffs = [x - y for x in controls_dprimes[stim_key] for y in patients_dprimes[stim_key]]\n",
    "dp_controls_patients[stim_key] = bayes_bootstrap(diffs, scipy.median, 1000, len(diffs))\n",
    "\n",
    "#plt.hist(dp_controls_patients[stim_key]['bootstrap_data'])\n",
    "print(dp_controls_patients[stim_key]['CIs'])\n",
    "print(dp_controls_patients[stim_key]['central_tendency'])"
   ]
  },
  {
   "cell_type": "code",
   "execution_count": 72,
   "metadata": {
    "autoscroll": false,
    "ein.tags": "worksheet-0",
    "slideshow": {
     "slide_type": "-"
    }
   },
   "outputs": [
    {
     "name": "stdout",
     "output_type": "stream",
     "text": [
      "{'low': 0.55065982450242856, 'high': 1.7758748076109185}\n",
      "{'median': 1.0744674729460513}\n"
     ]
    }
   ],
   "source": [
    "stim_key = 'ss_cp'\n",
    "diffs = [x - y for x in controls_dprimes[stim_key] \n",
    "         for y in list(filter(None, patients_dprimes[stim_key]))]\n",
    "dp_controls_patients[stim_key] = bayes_bootstrap(diffs, scipy.median, 1000, len(diffs))\n",
    "\n",
    "#plt.hist(dp_controls_patients[stim_key]['bootstrap_data'])\n",
    "print(dp_controls_patients[stim_key]['CIs'])\n",
    "print(dp_controls_patients[stim_key]['central_tendency'])"
   ]
  },
  {
   "cell_type": "markdown",
   "metadata": {},
   "source": [
    "##### Within Groups"
   ]
  },
  {
   "cell_type": "code",
   "execution_count": 144,
   "metadata": {},
   "outputs": [
    {
     "name": "stdout",
     "output_type": "stream",
     "text": [
      "cp_cs\n",
      "{'low': -0.62695928814095803, 'high': -0.47541870257483354}\n",
      "{'median': -0.57236247134514517}\n",
      "----------------\n",
      "cp_us\n",
      "{'low': -0.72314301917913015, 'high': -0.58826119673813793}\n",
      "{'median': -0.62695928814095891}\n",
      "----------------\n",
      "cs_us\n",
      "{'low': -0.29413059836906941, 'high': -0.015269042965854851}\n",
      "{'median': -0.29413059836906852}\n",
      "----------------\n"
     ]
    }
   ],
   "source": [
    "# pilot\n",
    "dp_pilot = dict()\n",
    "\n",
    "diffs = [x - y for x in pilot_dprimes['ss_cp'] \n",
    "         for y in list(filter(None, pilot_dprimes['ss_cs']))]\n",
    "dp_pilot['cp_cs'] = bayes_bootstrap(diffs, scipy.median, 1000, len(diffs))\n",
    "print('cp_cs')\n",
    "print(dp_pilot['cp_cs']['CIs'])\n",
    "print(dp_pilot['cp_cs']['central_tendency'])\n",
    "print('----------------')\n",
    "\n",
    "diffs = [x - y for x in pilot_dprimes['ss_cp'] \n",
    "         for y in list(filter(None, pilot_dprimes['ss_us']))]\n",
    "dp_pilot['cp_us'] = bayes_bootstrap(diffs, scipy.median, 1000, len(diffs))\n",
    "print('cp_us')\n",
    "print(dp_pilot['cp_us']['CIs'])\n",
    "print(dp_pilot['cp_us']['central_tendency'])\n",
    "print('----------------')\n",
    "\n",
    "diffs = [x - y for x in pilot_dprimes['ss_cs'] \n",
    "         for y in list(filter(None, pilot_dprimes['ss_us']))]\n",
    "dp_pilot['cs_us'] = bayes_bootstrap(diffs, scipy.median, 1000, len(diffs))\n",
    "print('cs_us')\n",
    "print(dp_pilot['cs_us']['CIs'])\n",
    "print(dp_pilot['cs_us']['central_tendency'])\n",
    "print('----------------')"
   ]
  },
  {
   "cell_type": "code",
   "execution_count": 145,
   "metadata": {},
   "outputs": [
    {
     "name": "stdout",
     "output_type": "stream",
     "text": [
      "cp_cs\n",
      "{'low': -1.4133221495555461, 'high': 0.10578631622924256}\n",
      "{'median': -0.72898361090395358}\n",
      "----------------\n",
      "cp_us\n",
      "{'low': -1.7374010524565033, 'high': -0.31688257307629453}\n",
      "{'median': -1.0995034601610798}\n",
      "----------------\n",
      "cs_us\n",
      "{'low': -1.06897886631943, 'high': 0.064346393365945609}\n",
      "{'median': -0.62695928814095891}\n",
      "----------------\n"
     ]
    }
   ],
   "source": [
    "# controls\n",
    "dp_controls = dict()\n",
    "\n",
    "diffs = [x - y for x in controls_dprimes['ss_cp'] \n",
    "         for y in list(filter(None, controls_dprimes['ss_cs']))]\n",
    "dp_controls['cp_cs'] = bayes_bootstrap(diffs, scipy.median, 1000, len(diffs))\n",
    "print('cp_cs')\n",
    "print(dp_controls['cp_cs']['CIs'])\n",
    "print(dp_controls['cp_cs']['central_tendency'])\n",
    "print('----------------')\n",
    "\n",
    "diffs = [x - y for x in controls_dprimes['ss_cp'] \n",
    "         for y in list(filter(None, controls_dprimes['ss_us']))]\n",
    "dp_controls['cp_us'] = bayes_bootstrap(diffs, scipy.median, 1000, len(diffs))\n",
    "print('cp_us')\n",
    "print(dp_controls['cp_us']['CIs'])\n",
    "print(dp_controls['cp_us']['central_tendency'])\n",
    "print('----------------')\n",
    "\n",
    "diffs = [x - y for x in controls_dprimes['ss_cs'] \n",
    "         for y in list(filter(None, controls_dprimes['ss_us']))]\n",
    "dp_controls['cs_us'] = bayes_bootstrap(diffs, scipy.median, 1000, len(diffs))\n",
    "print('cs_us')\n",
    "print(dp_controls['cs_us']['CIs'])\n",
    "print(dp_controls['cs_us']['central_tendency'])\n",
    "print('----------------')"
   ]
  },
  {
   "cell_type": "code",
   "execution_count": 148,
   "metadata": {},
   "outputs": [
    {
     "name": "stdout",
     "output_type": "stream",
     "text": [
      "cp_cs\n",
      "{'low': -0.67977961758755123, 'high': 0.40964165090354621}\n",
      "{'median': -0.15224087191336999}\n",
      "----------------\n",
      "cp_us\n",
      "{'low': -1.5371833597567561, 'high': -0.072426190032757853}\n",
      "{'median': -0.92513281576029494}\n",
      "----------------\n",
      "cs_us\n",
      "{'low': -1.43476843955915, 'high': 0.065079298229978932}\n",
      "{'median': -0.80776768103767815}\n",
      "----------------\n"
     ]
    }
   ],
   "source": [
    "# patients\n",
    "dp_patients = dict()\n",
    "\n",
    "diffs = [x - y for x in list(filter(None, patients_dprimes['ss_cp'])) \n",
    "         for y in list(filter(None, patients_dprimes['ss_cs']))]\n",
    "dp_patients['cp_cs'] = bayes_bootstrap(diffs, scipy.median, 1000, len(diffs))\n",
    "print('cp_cs')\n",
    "print(dp_patients['cp_cs']['CIs'])\n",
    "print(dp_patients['cp_cs']['central_tendency'])\n",
    "print('----------------')\n",
    "\n",
    "diffs = [x - y for x in list(filter(None, patients_dprimes['ss_cp'])) \n",
    "         for y in list(filter(None, patients_dprimes['ss_us']))]\n",
    "dp_patients['cp_us'] = bayes_bootstrap(diffs, scipy.median, 1000, len(diffs))\n",
    "print('cp_us')\n",
    "print(dp_patients['cp_us']['CIs'])\n",
    "print(dp_patients['cp_us']['central_tendency'])\n",
    "print('----------------')\n",
    "\n",
    "diffs = [x - y for x in list(filter(None, patients_dprimes['ss_cs'])) \n",
    "         for y in list(filter(None, patients_dprimes['ss_us']))]\n",
    "dp_patients['cs_us'] = bayes_bootstrap(diffs, scipy.median, 1000, len(diffs))\n",
    "print('cs_us')\n",
    "print(dp_patients['cs_us']['CIs'])\n",
    "print(dp_patients['cs_us']['central_tendency'])\n",
    "print('----------------')"
   ]
  },
  {
   "cell_type": "markdown",
   "metadata": {
    "ein.tags": "worksheet-0",
    "slideshow": {
     "slide_type": "-"
    }
   },
   "source": [
    "## Diffusion Decision Model Comparisons"
   ]
  },
  {
   "cell_type": "markdown",
   "metadata": {
    "ein.tags": "worksheet-0",
    "slideshow": {
     "slide_type": "-"
    }
   },
   "source": [
    "### Drift Rate Between Stimuli Groups (Within Subjects)"
   ]
  },
  {
   "cell_type": "code",
   "execution_count": 73,
   "metadata": {
    "autoscroll": false,
    "ein.tags": "worksheet-0",
    "slideshow": {
     "slide_type": "-"
    }
   },
   "outputs": [
    {
     "name": "stdout",
     "output_type": "stream",
     "text": [
      "Drift Rate Analysis: Pilot\n",
      "P(v[SS] > v[US]) = 0.760795454545\n",
      "P(v[SS] > v[CP]) = 1.0\n",
      "P(v[SS] > v[CS]) = 0.998181818182\n",
      "P(v[CP] > v[CS]) = 0.0\n",
      "P(v[CP] > v[US]) = 0.0\n",
      "P(v[CS] > v[US]) = 0.0110227272727\n"
     ]
    },
    {
     "data": {
      "image/png": "[encoded data removed]",
      "text/plain": [
       "<matplotlib.figure.Figure at 0x11a676748>"
      ]
     },
     "metadata": {},
     "output_type": "display_data"
    }
   ],
   "source": [
    "pilot_vSS, pilot_vCP, pilot_vCS, pilot_vUS = pilot_model.nodes_db.node[['v(SS)', 'v(CP)', 'v(CS)', 'v(US)']]\n",
    "\n",
    "hddm.analyze.plot_posterior_nodes([pilot_vSS, pilot_vCP, pilot_vCS, pilot_vUS])\n",
    "\n",
    "print(\"Drift Rate Analysis: Pilot\")\n",
    "print('P(v[SS] > v[US]) = ' + str((pilot_vSS.trace() > pilot_vUS.trace()).mean()))\n",
    "print('P(v[SS] > v[CP]) = ' + str((pilot_vSS.trace() > pilot_vCP.trace()).mean()))\n",
    "print('P(v[SS] > v[CS]) = ' + str((pilot_vSS.trace() > pilot_vCS.trace()).mean()))\n",
    "print('P(v[CP] > v[CS]) = ' + str((pilot_vCP.trace() > pilot_vCS.trace()).mean()))\n",
    "print('P(v[CP] > v[US]) = ' + str((pilot_vCP.trace() > pilot_vUS.trace()).mean()))\n",
    "print('P(v[CS] > v[US]) = ' + str((pilot_vCS.trace() > pilot_vUS.trace()).mean()))"
   ]
  },
  {
   "cell_type": "code",
   "execution_count": 74,
   "metadata": {
    "autoscroll": false,
    "ein.tags": "worksheet-0",
    "slideshow": {
     "slide_type": "-"
    }
   },
   "outputs": [
    {
     "name": "stdout",
     "output_type": "stream",
     "text": [
      "Drift Rate Analysis: Controls\n",
      "P(v[SS] > v[US]) = 0.315\n",
      "P(v[SS] > v[CP]) = 0.989431818182\n",
      "P(v[SS] > v[CS]) = 0.800909090909\n",
      "P(v[CP] > v[CS]) = 0.06125\n",
      "P(v[CP] > v[US]) = 0.00511363636364\n",
      "P(v[CS] > v[US]) = 0.0948863636364\n"
     ]
    },
    {
     "data": {
      "image/png": "[encoded data removed]",
      "text/plain": [
       "<matplotlib.figure.Figure at 0x116bd9860>"
      ]
     },
     "metadata": {},
     "output_type": "display_data"
    }
   ],
   "source": [
    "controls_vSS, controls_vCP, controls_vCS, controls_vUS = controls_model.nodes_db.node[['v(SS)', 'v(CP)', 'v(CS)', 'v(US)']]\n",
    "\n",
    "hddm.analyze.plot_posterior_nodes([controls_vSS, controls_vCP, controls_vCS, controls_vUS])\n",
    "\n",
    "print(\"Drift Rate Analysis: Controls\")\n",
    "print('P(v[SS] > v[US]) = ' + str((controls_vSS.trace() > controls_vUS.trace()).mean()))\n",
    "print('P(v[SS] > v[CP]) = ' + str((controls_vSS.trace() > controls_vCP.trace()).mean()))\n",
    "print('P(v[SS] > v[CS]) = ' + str((controls_vSS.trace() > controls_vCS.trace()).mean()))\n",
    "print('P(v[CP] > v[CS]) = ' + str((controls_vCP.trace() > controls_vCS.trace()).mean()))\n",
    "print('P(v[CP] > v[US]) = ' + str((controls_vCP.trace() > controls_vUS.trace()).mean()))\n",
    "print('P(v[CS] > v[US]) = ' + str((controls_vCS.trace() > controls_vUS.trace()).mean()))"
   ]
  },
  {
   "cell_type": "code",
   "execution_count": 75,
   "metadata": {
    "autoscroll": false,
    "ein.tags": "worksheet-0",
    "slideshow": {
     "slide_type": "-"
    }
   },
   "outputs": [
    {
     "name": "stdout",
     "output_type": "stream",
     "text": [
      "Drift Rate Analysis: Patients\n",
      "P(v[SS] > v[US]) = 0.922045454545\n",
      "P(v[SS] > v[CP]) = 0.983068181818\n",
      "P(v[SS] > v[CS]) = 0.984659090909\n",
      "P(v[CP] > v[CS]) = 0.486136363636\n",
      "P(v[CP] > v[US]) = 0.205227272727\n",
      "P(v[CS] > v[US]) = 0.209318181818\n"
     ]
    },
    {
     "data": {
      "image/png": "[encoded data removed]",
      "text/plain": [
       "<matplotlib.figure.Figure at 0x116be0cc0>"
      ]
     },
     "metadata": {},
     "output_type": "display_data"
    }
   ],
   "source": [
    "patients_vSS, patients_vCP, patients_vCS, patients_vUS = patients_model.nodes_db.node[['v(SS)', 'v(CP)', 'v(CS)', 'v(US)']]\n",
    "\n",
    "hddm.analyze.plot_posterior_nodes([patients_vSS, patients_vCP, patients_vCS, patients_vUS])\n",
    "\n",
    "print(\"Drift Rate Analysis: Patients\")\n",
    "print('P(v[SS] > v[US]) = ' + str((patients_vSS.trace() > patients_vUS.trace()).mean()))\n",
    "print('P(v[SS] > v[CP]) = ' + str((patients_vSS.trace() > patients_vCP.trace()).mean()))\n",
    "print('P(v[SS] > v[CS]) = ' + str((patients_vSS.trace() > patients_vCS.trace()).mean()))\n",
    "print('P(v[CP] > v[CS]) = ' + str((patients_vCP.trace() > patients_vCS.trace()).mean()))\n",
    "print('P(v[CP] > v[US]) = ' + str((patients_vCP.trace() > patients_vUS.trace()).mean()))\n",
    "print('P(v[CS] > v[US]) = ' + str((patients_vCS.trace() > patients_vUS.trace()).mean()))"
   ]
  },
  {
   "cell_type": "markdown",
   "metadata": {
    "ein.tags": "worksheet-0",
    "slideshow": {
     "slide_type": "-"
    }
   },
   "source": [
    "---\n",
    "\n",
    "---"
   ]
  },
  {
   "cell_type": "markdown",
   "metadata": {
    "ein.tags": "worksheet-0",
    "slideshow": {
     "slide_type": "-"
    }
   },
   "source": [
    "### Drift Rate Between Subjects & Stimuli Groups"
   ]
  },
  {
   "cell_type": "code",
   "execution_count": 76,
   "metadata": {
    "autoscroll": false,
    "ein.tags": "worksheet-0",
    "slideshow": {
     "slide_type": "-"
    }
   },
   "outputs": [
    {
     "name": "stdout",
     "output_type": "stream",
     "text": [
      "Drift Rate Analysis: SS\n",
      "P(patients_vSS > controls_vSS) = 0.145227272727\n",
      "P(controls_vSS > pilot_vSS) = 0.00181818181818\n"
     ]
    },
    {
     "data": {
      "image/png": "[encoded data removed]",
      "text/plain": [
       "<matplotlib.figure.Figure at 0x11aa33ba8>"
      ]
     },
     "metadata": {},
     "output_type": "display_data"
    }
   ],
   "source": [
    "pilot_vSS = pilot_model.nodes_db.node['v(SS)']\n",
    "controls_vSS = controls_model.nodes_db.node['v(SS)']\n",
    "patients_vSS = patients_model.nodes_db.node['v(SS)']\n",
    "\n",
    "hddm.analyze.plot_posterior_nodes([pilot_vSS, controls_vSS, patients_vSS])\n",
    "\n",
    "print(\"Drift Rate Analysis: SS\")\n",
    "print('P(patients_vSS > controls_vSS) = ' + str((patients_vSS.trace() > controls_vSS.trace()).mean()))\n",
    "print('P(controls_vSS > pilot_vSS) = ' + str((controls_vSS.trace() > pilot_vSS.trace()).mean()))"
   ]
  },
  {
   "cell_type": "code",
   "execution_count": 77,
   "metadata": {
    "autoscroll": false,
    "ein.tags": "worksheet-0",
    "slideshow": {
     "slide_type": "-"
    }
   },
   "outputs": [
    {
     "name": "stdout",
     "output_type": "stream",
     "text": [
      "Drift Rate Analysis: US\n",
      "P(patients_vUS > controls_vUS) = 0.00340909090909\n",
      "P(controls_vUS > pilot_vUS) = 0.0201136363636\n"
     ]
    },
    {
     "data": {
      "image/png": "[encoded data removed]",
      "text/plain": [
       "<matplotlib.figure.Figure at 0x11b154978>"
      ]
     },
     "metadata": {},
     "output_type": "display_data"
    }
   ],
   "source": [
    "pilot_vUS = pilot_model.nodes_db.node['v(US)']\n",
    "controls_vUS = controls_model.nodes_db.node['v(US)']\n",
    "patients_vUS = patients_model.nodes_db.node['v(US)']\n",
    "\n",
    "hddm.analyze.plot_posterior_nodes([pilot_vUS, controls_vUS, patients_vUS])\n",
    "\n",
    "print(\"Drift Rate Analysis: US\")\n",
    "print('P(patients_vUS > controls_vUS) = ' + str((patients_vUS.trace() > controls_vUS.trace()).mean()))\n",
    "print('P(controls_vUS > pilot_vUS) = ' + str((controls_vUS.trace() > pilot_vUS.trace()).mean()))"
   ]
  },
  {
   "cell_type": "code",
   "execution_count": 78,
   "metadata": {
    "autoscroll": false,
    "ein.tags": "worksheet-0",
    "slideshow": {
     "slide_type": "-"
    }
   },
   "outputs": [
    {
     "name": "stdout",
     "output_type": "stream",
     "text": [
      "Drift Rate Analysis: CS\n",
      "P(patients_vCS > controls_vCS) = 0.00670454545455\n",
      "P(controls_vCS > pilot_vCS) = 0.00352272727273\n"
     ]
    },
    {
     "data": {
      "image/png": "[encoded data removed]",
      "text/plain": [
       "<matplotlib.figure.Figure at 0x11bebe4e0>"
      ]
     },
     "metadata": {},
     "output_type": "display_data"
    }
   ],
   "source": [
    "pilot_vCS = pilot_model.nodes_db.node['v(CS)']\n",
    "controls_vCS = controls_model.nodes_db.node['v(CS)']\n",
    "patients_vCS = patients_model.nodes_db.node['v(CS)']\n",
    "\n",
    "hddm.analyze.plot_posterior_nodes([pilot_vCS, controls_vCS, patients_vCS])\n",
    "\n",
    "print(\"Drift Rate Analysis: CS\")\n",
    "print('P(patients_vCS > controls_vCS) = ' + str((patients_vCS.trace() > controls_vCS.trace()).mean()))\n",
    "print('P(controls_vCS > pilot_vCS) = ' + str((controls_vCS.trace() > pilot_vCS.trace()).mean()))"
   ]
  },
  {
   "cell_type": "code",
   "execution_count": 79,
   "metadata": {
    "autoscroll": false,
    "ein.tags": "worksheet-0",
    "slideshow": {
     "slide_type": "-"
    }
   },
   "outputs": [
    {
     "name": "stdout",
     "output_type": "stream",
     "text": [
      "Drift Rate Analysis: CP\n",
      "P(patients_vCP > controls_vCP) = 0.147954545455\n",
      "P(controls_vCP > pilot_vCP) = 0.00181818181818\n"
     ]
    },
    {
     "data": {
      "image/png": "[encoded data removed]",
      "text/plain": [
       "<matplotlib.figure.Figure at 0x11b1687f0>"
      ]
     },
     "metadata": {},
     "output_type": "display_data"
    }
   ],
   "source": [
    "pilot_vCP = pilot_model.nodes_db.node['v(CP)']\n",
    "controls_vCP = controls_model.nodes_db.node['v(CP)']\n",
    "patients_vCP = patients_model.nodes_db.node['v(CP)']\n",
    "\n",
    "hddm.analyze.plot_posterior_nodes([pilot_vCP, controls_vCP, patients_vCP])\n",
    "\n",
    "print(\"Drift Rate Analysis: CP\")\n",
    "print('P(patients_vCP > controls_vCP) = ' + str((patients_vCP.trace() > controls_vCP.trace()).mean()))\n",
    "print('P(controls_vCP > pilot_vCP) = ' + str((controls_vCP.trace() > pilot_vCP.trace()).mean()))"
   ]
  },
  {
   "cell_type": "markdown",
   "metadata": {
    "ein.tags": "worksheet-0",
    "slideshow": {
     "slide_type": "-"
    }
   },
   "source": [
    "---\n",
    "\n",
    "---"
   ]
  },
  {
   "cell_type": "markdown",
   "metadata": {
    "ein.tags": "worksheet-0",
    "slideshow": {
     "slide_type": "-"
    }
   },
   "source": [
    "### Non-Decision Time Between Subjects"
   ]
  },
  {
   "cell_type": "code",
   "execution_count": 80,
   "metadata": {
    "autoscroll": false,
    "ein.tags": "worksheet-0",
    "slideshow": {
     "slide_type": "-"
    }
   },
   "outputs": [
    {
     "name": "stdout",
     "output_type": "stream",
     "text": [
      "Non-Decision Time Analysis\n",
      "P(patients_t > controls_t) = 0.126704545455\n",
      "P(controls_t > pilot_t) = 0.909886363636\n"
     ]
    },
    {
     "data": {
      "image/png": "[encoded data removed]",
      "text/plain": [
       "<matplotlib.figure.Figure at 0x11b15e710>"
      ]
     },
     "metadata": {},
     "output_type": "display_data"
    }
   ],
   "source": [
    "pilot_t = pilot_model.nodes_db.node['t']\n",
    "controls_t = controls_model.nodes_db.node['t']\n",
    "patients_t = patients_model.nodes_db.node['t']\n",
    "\n",
    "hddm.analyze.plot_posterior_nodes([pilot_t, controls_t, patients_t])\n",
    "\n",
    "print(\"Non-Decision Time Analysis\")\n",
    "print('P(patients_t > controls_t) = ' + str((patients_t.trace() > controls_t.trace()).mean()))\n",
    "print('P(controls_t > pilot_t) = ' + str((controls_t.trace() > pilot_t.trace()).mean()))"
   ]
  },
  {
   "cell_type": "markdown",
   "metadata": {
    "ein.tags": "worksheet-0",
    "slideshow": {
     "slide_type": "-"
    }
   },
   "source": [
    "---\n",
    "\n",
    "---"
   ]
  },
  {
   "cell_type": "markdown",
   "metadata": {
    "ein.tags": "worksheet-0",
    "slideshow": {
     "slide_type": "-"
    }
   },
   "source": [
    "### Bias Between Subjects"
   ]
  },
  {
   "cell_type": "code",
   "execution_count": 81,
   "metadata": {
    "autoscroll": false,
    "ein.tags": "worksheet-0",
    "slideshow": {
     "slide_type": "-"
    }
   },
   "outputs": [
    {
     "name": "stdout",
     "output_type": "stream",
     "text": [
      "Bias Analysis\n",
      "P(patients_z > controls_z) = 0.000227272727273\n",
      "P(controls_z > pilot_z) = 0.996590909091\n"
     ]
    },
    {
     "data": {
      "image/png": "[encoded data removed]",
      "text/plain": [
       "<matplotlib.figure.Figure at 0x11a9d8ac8>"
      ]
     },
     "metadata": {},
     "output_type": "display_data"
    }
   ],
   "source": [
    "pilot_z = pilot_model.nodes_db.node['z']\n",
    "controls_z = controls_model.nodes_db.node['z']\n",
    "patients_z = patients_model.nodes_db.node['z']\n",
    "\n",
    "hddm.analyze.plot_posterior_nodes([pilot_z, controls_z, patients_z])\n",
    "\n",
    "print(\"Bias Analysis\")\n",
    "print('P(patients_z > controls_z) = ' + str((patients_z.trace() > controls_z.trace()).mean()))\n",
    "print('P(controls_z > pilot_z) = ' + str((controls_z.trace() > pilot_z.trace()).mean()))"
   ]
  },
  {
   "cell_type": "markdown",
   "metadata": {
    "ein.tags": "worksheet-0",
    "slideshow": {
     "slide_type": "-"
    }
   },
   "source": [
    "---  \n",
    "\n",
    "\n",
    "---"
   ]
  },
  {
   "cell_type": "markdown",
   "metadata": {
    "ein.tags": "worksheet-0",
    "slideshow": {
     "slide_type": "-"
    }
   },
   "source": [
    "### Threshold"
   ]
  },
  {
   "cell_type": "markdown",
   "metadata": {
    "ein.tags": "worksheet-0",
    "slideshow": {
     "slide_type": "-"
    }
   },
   "source": [
    "#### Between Subjects\n",
    "\n",
    "Tested from model where stimulus type does not affect threshold"
   ]
  },
  {
   "cell_type": "code",
   "execution_count": 82,
   "metadata": {
    "autoscroll": false,
    "ein.tags": "worksheet-0",
    "slideshow": {
     "slide_type": "-"
    }
   },
   "outputs": [
    {
     "name": "stdout",
     "output_type": "stream",
     "text": [
      "Threshold Analysis: Between-Subjects\n",
      "P(patients_a > controls_a) = 0.998522727273\n",
      "P(controls_a > pilot_a) = 0.0260227272727\n"
     ]
    },
    {
     "data": {
      "image/png": "[encoded data removed]",
      "text/plain": [
       "<matplotlib.figure.Figure at 0x11aca60b8>"
      ]
     },
     "metadata": {},
     "output_type": "display_data"
    }
   ],
   "source": [
    "pilot_a = pilot_model.nodes_db.node['a']\n",
    "controls_a = controls_model.nodes_db.node['a']\n",
    "patients_a = patients_model.nodes_db.node['a']\n",
    "\n",
    "hddm.analyze.plot_posterior_nodes([pilot_a, controls_a, patients_a])\n",
    "\n",
    "print(\"Threshold Analysis: Between-Subjects\")\n",
    "print('P(patients_a > controls_a) = ' + str((patients_a.trace() > controls_a.trace()).mean()))\n",
    "print('P(controls_a > pilot_a) = ' + str((controls_a.trace() > pilot_a.trace()).mean()))"
   ]
  },
  {
   "cell_type": "markdown",
   "metadata": {
    "ein.tags": "worksheet-0",
    "slideshow": {
     "slide_type": "-"
    }
   },
   "source": [
    "---"
   ]
  },
  {
   "cell_type": "markdown",
   "metadata": {
    "ein.tags": "worksheet-0",
    "slideshow": {
     "slide_type": "-"
    }
   },
   "source": [
    "### Model Deviance Information Criterion (DIC)\n",
    "\n",
    "Measure of model fitness for hierarchical models, lower is better"
   ]
  },
  {
   "cell_type": "code",
   "execution_count": 83,
   "metadata": {
    "autoscroll": false,
    "ein.tags": "worksheet-0",
    "slideshow": {
     "slide_type": "-"
    }
   },
   "outputs": [
    {
     "name": "stdout",
     "output_type": "stream",
     "text": [
      "Stimulus Model DIC: 795.609087068\n",
      "Lumped Model DIC: 1016.28785087\n"
     ]
    }
   ],
   "source": [
    "# Pilot models\n",
    "print(\"Stimulus Model DIC: \" + str(pilot_model.dic))\n",
    "print(\"Lumped Model DIC: \" + str(pilot_model_lumped.dic))\n",
    "#print(\"Stimulus+Threshold Model DIC: \" + str(pilot_model_threshold.dic))"
   ]
  },
  {
   "cell_type": "code",
   "execution_count": 84,
   "metadata": {
    "autoscroll": false,
    "ein.tags": "worksheet-0",
    "slideshow": {
     "slide_type": "-"
    }
   },
   "outputs": [
    {
     "name": "stdout",
     "output_type": "stream",
     "text": [
      "Stimulus Model DIC: 800.516022989\n",
      "Lumped Model DIC: 869.320751214\n"
     ]
    }
   ],
   "source": [
    "# Control models\n",
    "print(\"Stimulus Model DIC: \" + str(controls_model.dic))\n",
    "print(\"Lumped Model DIC: \" + str(controls_model_lumped.dic))\n",
    "#print(\"Stimulus+Threshold Model DIC: \" + str(controls_model_threshold.dic))"
   ]
  },
  {
   "cell_type": "code",
   "execution_count": 85,
   "metadata": {
    "autoscroll": false,
    "ein.tags": "worksheet-0",
    "slideshow": {
     "slide_type": "-"
    }
   },
   "outputs": [
    {
     "name": "stdout",
     "output_type": "stream",
     "text": [
      "Stimulus Model DIC: 2619.7750154\n",
      "Lumped Model DIC: 3222.23689013\n"
     ]
    }
   ],
   "source": [
    "# Patient models\n",
    "print(\"Stimulus Model DIC: \" + str(patients_model.dic))\n",
    "print(\"Lumped Model DIC: \" + str(patients_model_lumped.dic))\n",
    "#print(\"Stimulus+Threshold Model DIC: \" + str(patients_model_threshold.dic))"
   ]
  },
  {
   "cell_type": "markdown",
   "metadata": {
    "ein.tags": "worksheet-0",
    "slideshow": {
     "slide_type": "-"
    }
   },
   "source": [
    "-------"
   ]
  }
 ],
 "metadata": {
  "kernelspec": {
   "display_name": "Python 3",
   "language": "python",
   "name": "python3"
  },
  "language_info": {
   "codemirror_mode": {
    "name": "ipython",
    "version": 3
   },
   "file_extension": ".py",
   "mimetype": "text/x-python",
   "name": "python",
   "nbconvert_exporter": "python",
   "pygments_lexer": "ipython3",
   "version": "3.5.3"
  },
  "name": "language_decision_model.ipynb"
 },
 "nbformat": 4,
 "nbformat_minor": 2
}
