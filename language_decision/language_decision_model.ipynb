{
 "cells": [
  {
   "cell_type": "markdown",
   "metadata": {},
   "source": [
    "# A Diffusion Decision Model for Language-based Decisions\n",
    "\n",
    "<img src=\"images/ddm_desc.jpeg\" width=\"600\">\n",
    "\n",
    "Here, we use the `hddm` (Python) library$^1$ to model language-based decision making based on response-time & accuracy data from a binary forced-choice decision task. During each trial, subjects were presented with a digital image of an item (visual stimulus) and a verbal description (auditory stimulus). At the end of each trial, subjects were asked to indicate whether the two types of stimuli agreed (i.e. visual and auditory stimulus pointed to the same object) or were different (i.e. non-matching sound and image). Auditory and visual stimuli pairs fell under four distinct categories, as summarised below:  \n",
    "- Condition 1 (**SS**): Same stimuli (see cat / hear cat)\n",
    "- Condition 2 (**CP**): Phonologically congruent (see cat / hear hat)\n",
    "- Condition 3 (**CS**): Semantically congruent (see cat / hear dog)\n",
    "- Condition 4 (**US**): Unrelated stimuli (see house / hear cat)"
   ]
  },
  {
   "cell_type": "code",
   "execution_count": 1,
   "metadata": {},
   "outputs": [
    {
     "name": "stdout",
     "output_type": "stream",
     "text": [
      "/Users/celefthe/Programming/projects/language_decision\n"
     ]
    }
   ],
   "source": [
    "# Environment setup\n",
    "%matplotlib inline\n",
    "%cd /lang_dec\n",
    "# Imports\n",
    "import warnings; warnings.filterwarnings('ignore')\n",
    "import hddm\n",
    "import scipy\n",
    "import numpy as np\n",
    "import pandas as pd\n",
    "import matplotlib.pyplot as plt\n",
    "import seaborn as sns\n",
    "import bayesian_bootstrap.bootstrap as bootstrap\n",
    "from utils import model_tools, signal_detection"
   ]
  },
  {
   "cell_type": "code",
   "execution_count": 2,
   "metadata": {},
   "outputs": [
    {
     "data": {
      "text/plain": [
       "<hddm.models.hddm_info.HDDM at 0x116f06cc0>"
      ]
     },
     "execution_count": 2,
     "metadata": {},
     "output_type": "execute_result"
    }
   ],
   "source": [
    "# Import pilot models\n",
    "pilot_data = hddm.load_csv('/lang_dec/data/pilot_clean.csv')\n",
    "pilot_model = hddm.HDDM(pilot_data, depends_on={'v': 'stim'}, bias=True)\n",
    "pilot_model.load_db(dbname='language_decision/models/pilot', db='txt')\n",
    "\n",
    "pilot_model_lumped = hddm.HDDM(pilot_data)\n",
    "pilot_model_lumped.load_db(dbname='language_decision/models/pilot_lumped', db='txt')\n",
    "\n",
    "#pilot_model_threshold = hddm.HDDM(pilot_data, depends_on={'v': 'stim', 'a': 'stim'})\n",
    "#pilot_model_threshold.load_db(dbname='language_decision/models/pilot_threshold', db='txt')"
   ]
  },
  {
   "cell_type": "code",
   "execution_count": 3,
   "metadata": {},
   "outputs": [
    {
     "data": {
      "text/plain": [
       "<hddm.models.hddm_info.HDDM at 0x117918da0>"
      ]
     },
     "execution_count": 3,
     "metadata": {},
     "output_type": "execute_result"
    }
   ],
   "source": [
    "# Import control models\n",
    "controls_data = hddm.load_csv('/lang_dec/data/controls_clean.csv')\n",
    "controls_model = hddm.HDDM(controls_data, depends_on={'v': 'stim'}, bias=True)\n",
    "controls_model.load_db(dbname='language_decision/models/controls', db='txt')\n",
    "\n",
    "controls_model_lumped = hddm.HDDM(controls_data)\n",
    "controls_model_lumped.load_db(dbname='language_decision/models/controls_lumped', db='txt')\n",
    "\n",
    "#controls_model_threshold = hddm.HDDM(controls_data, depends_on={'v': 'stim', 'a': 'stim'})\n",
    "#controls_model_threshold.load_db(dbname='language_decision/models/controls_threshold', db='txt')"
   ]
  },
  {
   "cell_type": "code",
   "execution_count": 4,
   "metadata": {},
   "outputs": [
    {
     "data": {
      "text/plain": [
       "<hddm.models.hddm_info.HDDM at 0x117aa52b0>"
      ]
     },
     "execution_count": 4,
     "metadata": {},
     "output_type": "execute_result"
    }
   ],
   "source": [
    "# Import patient models\n",
    "patients_data = hddm.load_csv('/lang_dec/data/patients_clean.csv')\n",
    "patients_model = hddm.HDDM(patients_data, depends_on={'v': 'stim'}, bias=True)\n",
    "patients_model.load_db(dbname='language_decision/models/patients', db='txt')\n",
    "\n",
    "patients_model_lumped = hddm.HDDM(patients_data)\n",
    "patients_model_lumped.load_db(dbname='language_decision/models/patients_lumped', db='txt')\n",
    "\n",
    "#patients_model_threshold = hddm.HDDM(patients_data, depends_on={'v': 'stim', 'a': 'stim'})\n",
    "#patients_model_threshold.load_db(dbname='language_decision/models/patients_threshold', db='txt')"
   ]
  },
  {
   "cell_type": "code",
   "execution_count": 5,
   "metadata": {
    "collapsed": true
   },
   "outputs": [],
   "source": [
    "# Bootstrap function\n",
    "def bayes_bootstrap(observed, stat_function, replications, resample_size):\n",
    "    data_bs = bootstrap.bayesian_bootstrap(\n",
    "        list(filter(None, observed)), stat_function, replications, resample_size)\n",
    "    return {\n",
    "        'bootstrap_data': data_bs,\n",
    "        'central_tendency': {\n",
    "            str(stat_function.__name__): stat_function(data_bs)\n",
    "        },\n",
    "        'CIs': {\n",
    "            'high':  scipy.stats.mstats.mquantiles(data_bs, prob=[0.975])[0],\n",
    "            'low': scipy.stats.mstats.mquantiles(data_bs, prob=[0.025])[0]\n",
    "        } if stat_function.__name__ == 'median' else {\n",
    "            'high':  stat_function(data_bs) + (1.96 * scipy.std(data_bs)),\n",
    "            'low': stat_function(data_bs) - (1.96 * scipy.std(data_bs))\n",
    "        }\n",
    "    }"
   ]
  },
  {
   "cell_type": "code",
   "execution_count": 6,
   "metadata": {
    "collapsed": true
   },
   "outputs": [],
   "source": [
    "# Bootstrap comparison function\n",
    "def compare_bootstrap_medians(sample1, sample2):\n",
    "    median_diffs = [x - y for x in sample1 for y in sample2]\n",
    "    return {\n",
    "        'median_diffs': median_diffs,\n",
    "        'central_tendency': scipy.median(median_diffs),\n",
    "        'CIs': {\n",
    "            'high':  scipy.stats.mstats.mquantiles(median_diffs, prob=[0.975])[0],\n",
    "            'low': scipy.stats.mstats.mquantiles(median_diffs, prob=[0.025])[0]\n",
    "        }\n",
    "    }"
   ]
  },
  {
   "cell_type": "markdown",
   "metadata": {},
   "source": [
    "## Performance Comparison"
   ]
  },
  {
   "cell_type": "code",
   "execution_count": 7,
   "metadata": {
    "collapsed": true
   },
   "outputs": [],
   "source": [
    "# Gather data\n",
    "\n",
    "pilot_us = pilot_data.loc[pilot_data['stim'] == 'US']\n",
    "pilot_ss = pilot_data.loc[pilot_data['stim'] == 'SS']\n",
    "pilot_cp = pilot_data.loc[pilot_data['stim'] == 'CP']\n",
    "pilot_cs = pilot_data.loc[pilot_data['stim'] == 'CS']\n",
    "\n",
    "controls_us = controls_data.loc[controls_data['stim'] == 'US']\n",
    "controls_ss = controls_data.loc[controls_data['stim'] == 'SS']\n",
    "controls_cp = controls_data.loc[controls_data['stim'] == 'CP']\n",
    "controls_cs = controls_data.loc[controls_data['stim'] == 'CS']\n",
    "\n",
    "patients_us = patients_data.loc[patients_data['stim'] == 'US']\n",
    "patients_ss = patients_data.loc[patients_data['stim'] == 'SS']\n",
    "patients_cp = patients_data.loc[patients_data['stim'] == 'CP']\n",
    "patients_cs = patients_data.loc[patients_data['stim'] == 'CS']"
   ]
  },
  {
   "cell_type": "markdown",
   "metadata": {},
   "source": [
    "### Reaction Time"
   ]
  },
  {
   "cell_type": "code",
   "execution_count": 181,
   "metadata": {},
   "outputs": [
    {
     "data": {
      "image/png": "[encoded data removed]",
      "text/plain": [
       "<matplotlib.figure.Figure at 0x11d9329e8>"
      ]
     },
     "metadata": {},
     "output_type": "display_data"
    }
   ],
   "source": [
    "## Young (pilot) vs Elderly (controls)\n",
    "plt.figure(1)\n",
    "\n",
    "plt.subplot(221)\n",
    "vp_rt_plt = sns.violinplot(\n",
    "    data=[pilot_ss.rt.values, pilot_cp.rt.values, pilot_cs.rt.values, pilot_us.rt.values], \n",
    "    inner='box')\n",
    "vp_rt_plt.set_xticklabels(['SS','CP','CS', 'US'])\n",
    "vp_rt_plt.set_xlabel(\"Stimulus Category\")\n",
    "vp_rt_plt.set_ylabel(\"Reaction Time (s)\")\n",
    "vp_rt_plt.set_title(\"Young\")\n",
    "plt.ylim(0, 4.40)\n",
    "# statistical annotation\n",
    "x1, x2, x3, x4 = 0, 1, 2, 3   # columns (first column: 0, see plt.xticks())\n",
    "y, h, col = 4.05, 0.05, 'k'\n",
    "#Significant\n",
    "plt.plot([x1, x1, x2, x2], [y, y+h, y+h, y], lw=1.5, c=col)\n",
    "plt.plot([x1, x1, x3, x3], [y, y+h, y+h, y], lw=1.5, c=col)\n",
    "plt.plot([x1, x1, x4, x4], [y, y+h, y+h, y], lw=1.5, c=col)\n",
    "plt.text((x1+x2)*.5, y+h, \"*\", ha='center', va='bottom', color=col)\n",
    "\n",
    "\n",
    "plt.subplot(222)\n",
    "vp_rt_ctrl = sns.violinplot(\n",
    "    data=[controls_ss.rt.values, controls_cp.rt.values, \n",
    "          controls_cs.rt.values, controls_us.rt.values], \n",
    "    inner='box')\n",
    "vp_rt_ctrl.set_xticklabels(['SS','CP','CS', 'US'])\n",
    "vp_rt_ctrl.set_xlabel(\"Stimulus Category\")\n",
    "vp_rt_ctrl.set_ylabel(\"Reaction Time (s)\")\n",
    "vp_rt_ctrl.set_title(\"Elderly\")\n",
    "# statistical annotation\n",
    "x1, x2, x3, x4 = 0, 1, 2, 3   # columns (first column: 0, see plt.xticks())\n",
    "y, h, col = 4.05, 0.05, 'k'\n",
    "#Significant\n",
    "plt.plot([x1, x1, x2, x2], [y, y+h, y+h, y], lw=1.5, c=col)\n",
    "plt.plot([x1, x1, x3, x3], [y, y+h, y+h, y], lw=1.5, c=col)\n",
    "plt.plot([x1, x1, x4, x4], [y, y+h, y+h, y], lw=1.5, c=col)\n",
    "plt.text((x1+x2)*.5, y+h, \"*\", ha='center', va='bottom', color=col)\n",
    "plt.ylim(0, 4.40)\n",
    "\n",
    "plt.subplots_adjust(top=2.5, bottom=0.001, left=0.10, right=2.5, hspace=0.30,\n",
    "                    wspace=0.25)\n"
   ]
  },
  {
   "cell_type": "code",
   "execution_count": 180,
   "metadata": {},
   "outputs": [
    {
     "data": {
      "image/png": "[encoded data removed]",
      "text/plain": [
       "<matplotlib.figure.Figure at 0x11cc39860>"
      ]
     },
     "metadata": {},
     "output_type": "display_data"
    }
   ],
   "source": [
    "## Controls vs Patients\n",
    "plt.figure(1)\n",
    "\n",
    "plt.subplot(221)\n",
    "vp_rt_ctrl = sns.violinplot(\n",
    "    data=[controls_ss.rt.values, controls_cp.rt.values, \n",
    "          controls_cs.rt.values, controls_us.rt.values], \n",
    "    inner='box')\n",
    "vp_rt_ctrl.set_xticklabels(['SS','CP','CS', 'US'])\n",
    "vp_rt_ctrl.set_xlabel(\"Stimulus Category\")\n",
    "vp_rt_ctrl.set_ylabel(\"Reaction Time (s)\")\n",
    "vp_rt_ctrl.set_title(\"Controls\")\n",
    "plt.ylim(0, 4.60)\n",
    "# statistical annotation\n",
    "x1, x2, x3, x4 = 0, 1, 2, 3   # columns (first column: 0, see plt.xticks())\n",
    "y, h, col = 4.05, 0.10, 'k'\n",
    "#Significant\n",
    "plt.plot([x1, x1, x2, x2], [y, y+h, y+h, y], lw=1.5, c=col)\n",
    "plt.plot([x1, x1, x3, x3], [y, y+h, y+h, y], lw=1.5, c=col)\n",
    "plt.plot([x1, x1, x4, x4], [y, y+h, y+h, y], lw=1.5, c=col)\n",
    "plt.text((x1+x2)*.5, y+h, \"*\", ha='center', va='bottom', color=col)\n",
    "\n",
    "\n",
    "plt.subplot(222)\n",
    "vp_rt_ptns = sns.violinplot(\n",
    "    data=[patients_ss.rt.values, patients_cp.rt.values, \n",
    "          patients_cs.rt.values, patients_us.rt.values], \n",
    "    inner='box')\n",
    "vp_rt_ptns.set_xticklabels(['SS','CP','CS', 'US'])\n",
    "vp_rt_ptns.set_xlabel(\"Stimulus Category\")\n",
    "vp_rt_ptns.set_ylabel(\"Reaction Time (s)\")\n",
    "vp_rt_ptns.set_title(\"Patients\")\n",
    "# statistical annotation\n",
    "x1, x2, x3, x4 = 0, 1, 2, 3   # columns (first column: 0, see plt.xticks())\n",
    "y, h, col = 4.25, 0.10, 'k'\n",
    "#Significant\n",
    "plt.plot([x1, x1, x2, x2], [y, y+h, y+h, y], lw=1.5, c=col)\n",
    "plt.plot([x1, x1, x3, x3], [y, y+h, y+h, y], lw=1.5, c=col)\n",
    "plt.plot([x1, x1, x4, x4], [y, y+h, y+h, y], lw=1.5, c=col)\n",
    "plt.text((x1+x2)*.5, y+h, \"*\", ha='center', va='bottom', color=col)\n",
    "plt.ylim(0, 4.60)\n",
    "\n",
    "plt.subplots_adjust(top=2.5, bottom=0.001, left=0.10, right=2.5, hspace=0.30,\n",
    "                    wspace=0.25)"
   ]
  },
  {
   "cell_type": "code",
   "execution_count": 11,
   "metadata": {
    "collapsed": true
   },
   "outputs": [],
   "source": [
    "rt_comps = dict()"
   ]
  },
  {
   "cell_type": "code",
   "execution_count": 115,
   "metadata": {},
   "outputs": [
    {
     "name": "stdout",
     "output_type": "stream",
     "text": [
      "pilot\n",
      "ss_cs\n",
      "{'CIs': {'high': 0.079629156004320967, 'low': 0.073914186267910534}, 'central_tendency': {'median': 0.076513058479122209}}\n",
      "ss_cp\n",
      "{'CIs': {'high': 0.16718952742121473, 'low': 0.16063481395681933}, 'central_tendency': {'median': 0.16379890298998137}}\n",
      "ss_us\n",
      "{'CIs': {'high': 0.027384095703682762, 'low': 0.022291001767971511}, 'central_tendency': {'median': 0.024926883862008253}}\n",
      "--------------------\n",
      "patients\n",
      "ss_cs\n",
      "{'CIs': {'high': 0.3190110706160067, 'low': 0.29683373377089423}, 'central_tendency': {'median': 0.30737383069526941}}\n",
      "ss_cp\n",
      "{'CIs': {'high': 0.25846184955239548, 'low': 0.23472796980851385}, 'central_tendency': {'median': 0.24650128926396048}}\n",
      "ss_us\n",
      "{'CIs': {'high': 0.21885284058055965, 'low': 0.19749446916891447}, 'central_tendency': {'median': 0.2079580522656671}}\n",
      "--------------------\n",
      "pilot_controls\n",
      "ss\n",
      "{'CIs': {'high': 0.075664460255929961, 'low': 0.066875228722483457}, 'central_tendency': {'median': 0.07181416863363671}}\n",
      "cp\n",
      "{'CIs': {'high': 0.076062550644224985, 'low': 0.066887432673203254}, 'central_tendency': {'median': 0.071552608897036296}}\n",
      "cs\n",
      "{'CIs': {'high': 0.075871722160527497, 'low': 0.0672058852749364}, 'central_tendency': {'median': 0.071627076084041619}}\n",
      "us\n",
      "{'CIs': {'high': 0.07597441443340347, 'low': 0.06721072513259968}, 'central_tendency': {'median': 0.071627076084041619}}\n",
      "--------------------\n",
      "controls_patients\n",
      "ss\n",
      "{'CIs': {'high': 0.33769410801680466, 'low': 0.32121799532194484}, 'central_tendency': {'median': 0.32841405430554005}}\n",
      "cp\n",
      "{'CIs': {'high': 0.4499891906535845, 'low': 0.42528235999586739}, 'central_tendency': {'median': 0.43793094062493743}}\n",
      "cs\n",
      "{'CIs': {'high': 0.55501257310184426, 'low': 0.5269712234684083}, 'central_tendency': {'median': 0.54053694937840668}}\n",
      "us\n",
      "{'CIs': {'high': 0.52273087998521761, 'low': 0.49811125746331075}, 'central_tendency': {'median': 0.51048430434957481}}\n",
      "--------------------\n",
      "controls\n",
      "ss_cs\n",
      "{'CIs': {'high': 0.11737886634173278, 'low': 0.098989950283751238}, 'central_tendency': {'median': 0.107966255038491}}\n",
      "ss_cp\n",
      "{'CIs': {'high': 0.12991819581579878, 'low': 0.11275331583681697}, 'central_tendency': {'median': 0.12226208149331785}}\n",
      "ss_us\n",
      "{'CIs': {'high': 0.062370753763389297, 'low': 0.048639975898167903}, 'central_tendency': {'median': 0.055660127678038407}}\n",
      "--------------------\n"
     ]
    }
   ],
   "source": [
    "# Collate analysis data (actual analysis follows below)\n",
    "for subj in rt_comps.keys():\n",
    "    print(subj)\n",
    "    for stim in rt_comps[subj].keys():\n",
    "        print(stim)\n",
    "        print({x: rt_comps[subj][stim][x] for x in rt_comps[subj][stim].keys() if x != 'bootstrap_data'})\n",
    "    print('--------------------')"
   ]
  },
  {
   "cell_type": "markdown",
   "metadata": {},
   "source": [
    "#### Bootstrap Median Differences Between Subject Groups"
   ]
  },
  {
   "cell_type": "markdown",
   "metadata": {},
   "source": [
    "##### Pilot vs Controls"
   ]
  },
  {
   "cell_type": "code",
   "execution_count": 98,
   "metadata": {
    "collapsed": true
   },
   "outputs": [],
   "source": [
    "subj_group = 'pilot_controls'\n",
    "rt_comps[subj_group] = dict()"
   ]
  },
  {
   "cell_type": "code",
   "execution_count": 99,
   "metadata": {},
   "outputs": [
    {
     "name": "stdout",
     "output_type": "stream",
     "text": [
      "{'high': 0.075664460255929961, 'low': 0.066875228722483457}\n",
      "{'median': 0.07181416863363671}\n"
     ]
    }
   ],
   "source": [
    "subj_group = 'pilot_controls'\n",
    "stim_group = 'ss'\n",
    "diffs = [y - x for x in pilot_ss.rt.values for y in controls_ss.rt.values]\n",
    "\n",
    "rt_comps[subj_group][stim_group] = bayes_bootstrap(diffs, scipy.median, 1000, len(diffs))\n",
    "\n",
    "\n",
    "#plt.hist(rt_comps[subj_group][stim_group]['bootstrap_data'])\n",
    "print(rt_comps[subj_group][stim_group]['CIs'])\n",
    "print(rt_comps[subj_group][stim_group]['central_tendency'])"
   ]
  },
  {
   "cell_type": "code",
   "execution_count": 100,
   "metadata": {},
   "outputs": [
    {
     "name": "stdout",
     "output_type": "stream",
     "text": [
      "{'high': 0.075871722160527497, 'low': 0.0672058852749364}\n",
      "{'median': 0.071627076084041619}\n"
     ]
    }
   ],
   "source": [
    "subj_group = 'pilot_controls'\n",
    "stim_group = 'cs'\n",
    "diffs = [y - x for x in pilot_ss.rt.values for y in controls_ss.rt.values]\n",
    "\n",
    "rt_comps[subj_group][stim_group] = bayes_bootstrap(diffs, scipy.median, 1000, len(diffs))\n",
    "\n",
    "\n",
    "#plt.hist(rt_comps[subj_group][stim_group]['bootstrap_data'])\n",
    "print(rt_comps[subj_group][stim_group]['CIs'])\n",
    "print(rt_comps[subj_group][stim_group]['central_tendency'])"
   ]
  },
  {
   "cell_type": "code",
   "execution_count": 101,
   "metadata": {},
   "outputs": [
    {
     "name": "stdout",
     "output_type": "stream",
     "text": [
      "{'high': 0.076062550644224985, 'low': 0.066887432673203254}\n",
      "{'median': 0.071552608897036296}\n"
     ]
    }
   ],
   "source": [
    "subj_group = 'pilot_controls'\n",
    "stim_group = 'cp'\n",
    "diffs = [y - x for x in pilot_ss.rt.values for y in controls_ss.rt.values]\n",
    "\n",
    "rt_comps[subj_group][stim_group] = bayes_bootstrap(diffs, scipy.median, 1000, len(diffs))\n",
    "\n",
    "\n",
    "#plt.hist(rt_comps[subj_group][stim_group]['bootstrap_data'])\n",
    "print(rt_comps[subj_group][stim_group]['CIs'])\n",
    "print(rt_comps[subj_group][stim_group]['central_tendency'])"
   ]
  },
  {
   "cell_type": "code",
   "execution_count": 102,
   "metadata": {},
   "outputs": [
    {
     "name": "stdout",
     "output_type": "stream",
     "text": [
      "{'high': 0.07597441443340347, 'low': 0.06721072513259968}\n",
      "{'median': 0.071627076084041619}\n"
     ]
    }
   ],
   "source": [
    "subj_group = 'pilot_controls'\n",
    "stim_group = 'us'\n",
    "diffs = [y - x for x in pilot_ss.rt.values for y in controls_ss.rt.values]\n",
    "\n",
    "rt_comps[subj_group][stim_group] = bayes_bootstrap(diffs, scipy.median, 1000, len(diffs))\n",
    "\n",
    "\n",
    "#plt.hist(rt_comps[subj_group][stim_group]['bootstrap_data'])\n",
    "print(rt_comps[subj_group][stim_group]['CIs'])\n",
    "print(rt_comps[subj_group][stim_group]['central_tendency'])"
   ]
  },
  {
   "cell_type": "markdown",
   "metadata": {},
   "source": [
    "##### Controls vs Patients"
   ]
  },
  {
   "cell_type": "code",
   "execution_count": 103,
   "metadata": {
    "collapsed": true
   },
   "outputs": [],
   "source": [
    "subj_group = 'controls_patients'\n",
    "rt_comps[subj_group] = dict()"
   ]
  },
  {
   "cell_type": "code",
   "execution_count": 104,
   "metadata": {},
   "outputs": [
    {
     "name": "stdout",
     "output_type": "stream",
     "text": [
      "{'high': 0.33769410801680466, 'low': 0.32121799532194484}\n",
      "{'median': 0.32841405430554005}\n"
     ]
    }
   ],
   "source": [
    "subj_group = 'controls_patients'\n",
    "stim_group = 'ss'\n",
    "diffs = [y - x for x in controls_ss.rt.values for y in patients_ss.rt.values]\n",
    "\n",
    "rt_comps[subj_group][stim_group] = bayes_bootstrap(diffs, scipy.median, 1000, len(diffs))\n",
    "\n",
    "#plt.hist(rt_comps[subj_group][stim_group]['bootstrap_data'])\n",
    "print(rt_comps[subj_group][stim_group]['CIs'])\n",
    "print(rt_comps[subj_group][stim_group]['central_tendency'])"
   ]
  },
  {
   "cell_type": "code",
   "execution_count": 105,
   "metadata": {},
   "outputs": [
    {
     "name": "stdout",
     "output_type": "stream",
     "text": [
      "{'high': 0.55501257310184426, 'low': 0.5269712234684083}\n",
      "{'median': 0.54053694937840668}\n"
     ]
    }
   ],
   "source": [
    "subj_group = 'controls_patients'\n",
    "stim_group = 'cs'\n",
    "diffs = [y - x for x in controls_cs.rt.values for y in patients_cs.rt.values]\n",
    "\n",
    "rt_comps[subj_group][stim_group] = bayes_bootstrap(diffs, scipy.median, 1000, len(diffs))\n",
    "\n",
    "#plt.hist(rt_comps[subj_group][stim_group]['bootstrap_data'])\n",
    "print(rt_comps[subj_group][stim_group]['CIs'])\n",
    "print(rt_comps[subj_group][stim_group]['central_tendency'])"
   ]
  },
  {
   "cell_type": "code",
   "execution_count": 106,
   "metadata": {},
   "outputs": [
    {
     "name": "stdout",
     "output_type": "stream",
     "text": [
      "{'high': 0.4499891906535845, 'low': 0.42528235999586739}\n",
      "{'median': 0.43793094062493743}\n"
     ]
    }
   ],
   "source": [
    "subj_group = 'controls_patients'\n",
    "stim_group = 'cp'\n",
    "diffs = [y - x for x in controls_cp.rt.values for y in patients_cp.rt.values]\n",
    "\n",
    "rt_comps[subj_group][stim_group] = bayes_bootstrap(diffs, scipy.median, 1000, len(diffs))\n",
    "\n",
    "#plt.hist(rt_comps[subj_group][stim_group]['bootstrap_data'])\n",
    "print(rt_comps[subj_group][stim_group]['CIs'])\n",
    "print(rt_comps[subj_group][stim_group]['central_tendency'])"
   ]
  },
  {
   "cell_type": "code",
   "execution_count": 107,
   "metadata": {},
   "outputs": [
    {
     "name": "stdout",
     "output_type": "stream",
     "text": [
      "{'high': 0.52273087998521761, 'low': 0.49811125746331075}\n",
      "{'median': 0.51048430434957481}\n"
     ]
    }
   ],
   "source": [
    "subj_group = 'controls_patients'\n",
    "stim_group = 'us'\n",
    "diffs = [y - x for x in controls_us.rt.values for y in patients_us.rt.values]\n",
    "\n",
    "rt_comps[subj_group][stim_group] = bayes_bootstrap(diffs, scipy.median, 1000, len(diffs))\n",
    "\n",
    "#plt.hist(rt_comps[subj_group][stim_group]['bootstrap_data'])\n",
    "print(rt_comps[subj_group][stim_group]['CIs'])\n",
    "print(rt_comps[subj_group][stim_group]['central_tendency'])"
   ]
  },
  {
   "cell_type": "markdown",
   "metadata": {},
   "source": [
    "#### Bootstrap Median Differences Between Stimuli Groups (Incogruency Effect Only)"
   ]
  },
  {
   "cell_type": "markdown",
   "metadata": {},
   "source": [
    "##### Pilot"
   ]
  },
  {
   "cell_type": "code",
   "execution_count": 126,
   "metadata": {
    "collapsed": true
   },
   "outputs": [],
   "source": [
    "subj_group = 'pilot'\n",
    "acc_comps[subj_group] = dict()"
   ]
  },
  {
   "cell_type": "code",
   "execution_count": 88,
   "metadata": {},
   "outputs": [
    {
     "name": "stdout",
     "output_type": "stream",
     "text": [
      "{'high': 0.027384095703682762, 'low': 0.022291001767971511}\n",
      "{'median': 0.024926883862008253}\n"
     ]
    }
   ],
   "source": [
    "subj_group = 'pilot'\n",
    "stim_group = 'ss_us'\n",
    "diffs = [y - x for x in pilot_ss.rt.values for y in pilot_us.rt.values]\n",
    "\n",
    "rt_comps[subj_group][stim_group] = bayes_bootstrap(diffs, scipy.median, 1000, len(diffs))\n",
    "\n",
    "#plt.hist(rt_comps[subj_group][stim_group]['bootstrap_data'])\n",
    "print(rt_comps[subj_group][stim_group]['CIs'])\n",
    "print(rt_comps[subj_group][stim_group]['central_tendency'])"
   ]
  },
  {
   "cell_type": "code",
   "execution_count": 87,
   "metadata": {},
   "outputs": [
    {
     "name": "stdout",
     "output_type": "stream",
     "text": [
      "{'high': 0.079629156004320967, 'low': 0.073914186267910534}\n",
      "{'median': 0.076513058479122209}\n"
     ]
    }
   ],
   "source": [
    "subj_group = 'pilot'\n",
    "stim_group = 'ss_cs'\n",
    "diffs = [y - x for x in pilot_ss.rt.values for y in pilot_cs.rt.values]\n",
    "\n",
    "rt_comps[subj_group][stim_group] = bayes_bootstrap(diffs, scipy.median, 1000, len(diffs))\n",
    "\n",
    "#plt.hist(rt_comps[subj_group][stim_group]['bootstrap_data'])\n",
    "print(rt_comps[subj_group][stim_group]['CIs'])\n",
    "print(rt_comps[subj_group][stim_group]['central_tendency'])"
   ]
  },
  {
   "cell_type": "code",
   "execution_count": 89,
   "metadata": {},
   "outputs": [
    {
     "name": "stdout",
     "output_type": "stream",
     "text": [
      "{'high': 0.16718952742121473, 'low': 0.16063481395681933}\n",
      "{'median': 0.16379890298998137}\n"
     ]
    }
   ],
   "source": [
    "subj_group = 'pilot'\n",
    "stim_group = 'ss_cp'\n",
    "diffs = [y - x for x in pilot_ss.rt.values for y in pilot_cp.rt.values]\n",
    "\n",
    "rt_comps[subj_group][stim_group] = bayes_bootstrap(diffs, scipy.median, 1000, len(diffs))\n",
    "\n",
    "#plt.hist(rt_comps[subj_group][stim_group]['bootstrap_data'])\n",
    "print(rt_comps[subj_group][stim_group]['CIs'])\n",
    "print(rt_comps[subj_group][stim_group]['central_tendency'])"
   ]
  },
  {
   "cell_type": "markdown",
   "metadata": {},
   "source": [
    "##### Controls"
   ]
  },
  {
   "cell_type": "code",
   "execution_count": 111,
   "metadata": {
    "collapsed": true
   },
   "outputs": [],
   "source": [
    "subj_group = 'controls'\n",
    "rt_comps[subj_group] = dict()"
   ]
  },
  {
   "cell_type": "code",
   "execution_count": 112,
   "metadata": {},
   "outputs": [
    {
     "name": "stdout",
     "output_type": "stream",
     "text": [
      "{'high': 0.062370753763389297, 'low': 0.048639975898167903}\n",
      "{'median': 0.055660127678038407}\n"
     ]
    }
   ],
   "source": [
    "subj_group = 'controls'\n",
    "stim_group = 'ss_us'\n",
    "diffs = [y - x for x in controls_ss.rt.values for y in controls_us.rt.values]\n",
    "\n",
    "rt_comps[subj_group][stim_group] = bayes_bootstrap(diffs, scipy.median, 1000, len(diffs))\n",
    "\n",
    "#plt.hist(rt_comps[subj_group][stim_group]['bootstrap_data'])\n",
    "print(rt_comps[subj_group][stim_group]['CIs'])\n",
    "print(rt_comps[subj_group][stim_group]['central_tendency'])"
   ]
  },
  {
   "cell_type": "code",
   "execution_count": 113,
   "metadata": {},
   "outputs": [
    {
     "name": "stdout",
     "output_type": "stream",
     "text": [
      "{'high': 0.11737886634173278, 'low': 0.098989950283751238}\n",
      "{'median': 0.107966255038491}\n"
     ]
    }
   ],
   "source": [
    "subj_group = 'controls'\n",
    "stim_group = 'ss_cs'\n",
    "diffs = [y - x for x in controls_ss.rt.values for y in controls_cs.rt.values]\n",
    "\n",
    "rt_comps[subj_group][stim_group] = bayes_bootstrap(diffs, scipy.median, 1000, len(diffs))\n",
    "\n",
    "#plt.hist(rt_comps[subj_group][stim_group]['bootstrap_data'])\n",
    "print(rt_comps[subj_group][stim_group]['CIs'])\n",
    "print(rt_comps[subj_group][stim_group]['central_tendency'])"
   ]
  },
  {
   "cell_type": "code",
   "execution_count": 114,
   "metadata": {},
   "outputs": [
    {
     "name": "stdout",
     "output_type": "stream",
     "text": [
      "{'high': 0.12991819581579878, 'low': 0.11275331583681697}\n",
      "{'median': 0.12226208149331785}\n"
     ]
    }
   ],
   "source": [
    "subj_group = 'controls'\n",
    "stim_group = 'ss_cp'\n",
    "diffs = [y - x for x in controls_ss.rt.values for y in controls_cp.rt.values]\n",
    "\n",
    "rt_comps[subj_group][stim_group] = bayes_bootstrap(diffs, scipy.median, 1000, len(diffs))\n",
    "\n",
    "#plt.hist(rt_comps[subj_group][stim_group]['bootstrap_data'])\n",
    "print(rt_comps[subj_group][stim_group]['CIs'])\n",
    "print(rt_comps[subj_group][stim_group]['central_tendency'])"
   ]
  },
  {
   "cell_type": "markdown",
   "metadata": {},
   "source": [
    "##### Patients"
   ]
  },
  {
   "cell_type": "code",
   "execution_count": 94,
   "metadata": {
    "collapsed": true
   },
   "outputs": [],
   "source": [
    "subj_group = 'patients'\n",
    "rt_comps[subj_group] = dict()"
   ]
  },
  {
   "cell_type": "code",
   "execution_count": 95,
   "metadata": {},
   "outputs": [
    {
     "name": "stdout",
     "output_type": "stream",
     "text": [
      "{'high': 0.21885284058055965, 'low': 0.19749446916891447}\n",
      "{'median': 0.2079580522656671}\n"
     ]
    }
   ],
   "source": [
    "subj_group = 'patients'\n",
    "stim_group = 'ss_us'\n",
    "diffs = [y - x for x in patients_ss.rt.values for y in patients_us.rt.values]\n",
    "\n",
    "rt_comps[subj_group][stim_group] = bayes_bootstrap(diffs, scipy.median, 1000, len(diffs))\n",
    "\n",
    "#plt.hist(rt_comps[subj_group][stim_group]['bootstrap_data'])\n",
    "print(rt_comps[subj_group][stim_group]['CIs'])\n",
    "print(rt_comps[subj_group][stim_group]['central_tendency'])"
   ]
  },
  {
   "cell_type": "code",
   "execution_count": 96,
   "metadata": {},
   "outputs": [
    {
     "name": "stdout",
     "output_type": "stream",
     "text": [
      "{'high': 0.3190110706160067, 'low': 0.29683373377089423}\n",
      "{'median': 0.30737383069526941}\n"
     ]
    }
   ],
   "source": [
    "subj_group = 'patients'\n",
    "stim_group = 'ss_cs'\n",
    "diffs = [y - x for x in patients_ss.rt.values for y in patients_cs.rt.values]\n",
    "\n",
    "rt_comps[subj_group][stim_group] = bayes_bootstrap(diffs, scipy.median, 1000, len(diffs))\n",
    "\n",
    "#plt.hist(rt_comps[subj_group][stim_group]['bootstrap_data'])\n",
    "print(rt_comps[subj_group][stim_group]['CIs'])\n",
    "print(rt_comps[subj_group][stim_group]['central_tendency'])"
   ]
  },
  {
   "cell_type": "code",
   "execution_count": 97,
   "metadata": {},
   "outputs": [
    {
     "name": "stdout",
     "output_type": "stream",
     "text": [
      "{'high': 0.25846184955239548, 'low': 0.23472796980851385}\n",
      "{'median': 0.24650128926396048}\n"
     ]
    }
   ],
   "source": [
    "subj_group = 'patients'\n",
    "stim_group = 'ss_cp'\n",
    "diffs = [y - x for x in patients_ss.rt.values for y in patients_cp.rt.values]\n",
    "\n",
    "rt_comps[subj_group][stim_group] = bayes_bootstrap(diffs, scipy.median, 1000, len(diffs))\n",
    "\n",
    "#plt.hist(rt_comps[subj_group][stim_group]['bootstrap_data'])\n",
    "print(rt_comps[subj_group][stim_group]['CIs'])\n",
    "print(rt_comps[subj_group][stim_group]['central_tendency'])"
   ]
  },
  {
   "cell_type": "markdown",
   "metadata": {},
   "source": [
    "### Accuracy"
   ]
  },
  {
   "cell_type": "code",
   "execution_count": 30,
   "metadata": {
    "collapsed": true
   },
   "outputs": [],
   "source": [
    "def get_accuracies(subjects):\n",
    "    accuracies = []\n",
    "    grouped_subjects = subjects.groupby('subj_idx')\n",
    "    for subject in [grouped_subjects.get_group(x) for x in grouped_subjects.groups]:\n",
    "        accuracies.append(len([x for x in subject.response.values if x >= 1]) / len(subject.response.values))\n",
    "    return accuracies"
   ]
  },
  {
   "cell_type": "code",
   "execution_count": 31,
   "metadata": {
    "collapsed": true
   },
   "outputs": [],
   "source": [
    "pilot_ss_accuracies = get_accuracies(pilot_ss)\n",
    "pilot_cp_accuracies = get_accuracies(pilot_cp)\n",
    "pilot_cs_accuracies = get_accuracies(pilot_cs)\n",
    "pilot_us_accuracies = get_accuracies(pilot_us)\n",
    "\n",
    "controls_ss_accuracies = get_accuracies(controls_ss)\n",
    "controls_cp_accuracies = get_accuracies(controls_cp)\n",
    "controls_cs_accuracies = get_accuracies(controls_cs)\n",
    "controls_us_accuracies = get_accuracies(controls_us)\n",
    "\n",
    "patients_ss_accuracies = get_accuracies(patients_ss) \n",
    "patients_cp_accuracies = get_accuracies(patients_cp)\n",
    "patients_cs_accuracies = get_accuracies(patients_cs)\n",
    "patients_us_accuracies = get_accuracies(patients_us)"
   ]
  },
  {
   "cell_type": "code",
   "execution_count": 178,
   "metadata": {},
   "outputs": [
    {
     "data": {
      "image/png": "[encoded data removed]",
      "text/plain": [
       "<matplotlib.figure.Figure at 0x139019518>"
      ]
     },
     "metadata": {},
     "output_type": "display_data"
    },
    {
     "name": "stdout",
     "output_type": "stream",
     "text": [
      "N_pilot = 16\n",
      "N_controls = 6\n",
      "Pilot medians:\n",
      "\t SS:0.983333333333\n",
      "\t CP:0.933333333333\n",
      "\t CS:1.0\n",
      "\t US:1.0\n",
      "Controls medians:\n",
      "\t SS:0.95\n",
      "\t CP:0.830459770115\n",
      "\t CS:0.933333333333\n",
      "\t US:1.0\n"
     ]
    }
   ],
   "source": [
    "## Young vs Elderly (pilot vs controls)\n",
    "plt.figure(1)\n",
    "\n",
    "plt.subplot(221)\n",
    "box_acc_plt = sns.boxplot(\n",
    "    data=[pilot_ss_accuracies, pilot_cp_accuracies, pilot_cs_accuracies, pilot_us_accuracies])\n",
    "box_acc_plt.set_xticklabels(['SS','CP','CS', 'US'])\n",
    "box_acc_plt.set_xlabel(\"Stimulus Category\")\n",
    "box_acc_plt.set_ylabel(\"Accuracy\")\n",
    "box_acc_plt.set_title(\"Young\")\n",
    "plt.ylim(0, 1.10)\n",
    "# statistical annotation\n",
    "x1, x2, x3, x4 = 0, 1, 2, 3   # columns (first column: 0, see plt.xticks())\n",
    "y, h, col = 1.03, 0.02, 'k'\n",
    "#Significant\n",
    "plt.plot([x1, x1, x2, x2], [y, y+h, y+h, y], lw=1.5, c=col)\n",
    "plt.plot([x1, x1, x4, x4], [y, y+h, y+h, y], lw=1.5, c=col)\n",
    "plt.text((x1+x3)*.5, y+h, \"*\", ha='center', va='bottom', color=col)\n",
    "# NS\n",
    "y, h, col = 0.8, 0.02, 'k'\n",
    "plt.plot([x1, x1, x3, x3], [y, y-h, y-h, y], lw=1.5, c=col)\n",
    "plt.text((x1+x3)*.5, y-h, \"ns\", ha='center', va='top', color=col)\n",
    "\n",
    "plt.subplot(222)\n",
    "box_acc_ctrl = sns.boxplot(\n",
    "    data=[controls_ss_accuracies, controls_cp_accuracies, \n",
    "          controls_cs_accuracies, controls_us_accuracies])\n",
    "box_acc_ctrl.set_xticklabels(['SS','CP','CS', 'US'])\n",
    "box_acc_ctrl.set_xlabel(\"Stimulus Category\")\n",
    "box_acc_ctrl.set_ylabel(\"Accuracy\")\n",
    "box_acc_ctrl.set_title(\"Elderly\")\n",
    "\n",
    "plt.subplots_adjust(top=2.5, bottom=0.001, left=0.10, right=2.5, hspace=0.30,\n",
    "                    wspace=0.25)\n",
    "plt.ylim(0, 1.10)\n",
    "# statistical annotation\n",
    "x1, x2, x3, x4 = 0, 1, 2, 3   # columns (first column: 0, see plt.xticks())\n",
    "y, h, col = 1.03, 0.02, 'k'\n",
    "#Significant\n",
    "plt.plot([x1, x1, x2, x2], [y, y+h, y+h, y], lw=1.5, c=col)\n",
    "plt.plot([x1, x1, x4, x4], [y, y+h, y+h, y], lw=1.5, c=col)\n",
    "plt.text((x1+x3)*.5, y+h, \"*\", ha='center', va='bottom', color=col)\n",
    "# NS\n",
    "y, h, col = 0.5, 0.02, 'k'\n",
    "plt.plot([x1, x1, x3, x3], [y, y-h, y-h, y], lw=1.5, c=col)\n",
    "plt.text((x1+x3)*.5, y-h, \"ns\", ha='center', va='top', color=col)\n",
    "\n",
    "plt.show()\n",
    "print(\"N_pilot = \" + str(len(set(pilot_data.subj_idx))))\n",
    "print(\"N_controls = \" + str(len(set(controls_data.subj_idx))))\n",
    "\n",
    "print(\"Pilot medians:\")\n",
    "print(\"\\t SS:\" + str(scipy.median(pilot_ss_accuracies)))\n",
    "print(\"\\t CP:\" + str(scipy.median(pilot_cp_accuracies)))\n",
    "print(\"\\t CS:\" + str(scipy.median(pilot_cs_accuracies)))\n",
    "print(\"\\t US:\" + str(scipy.median(pilot_us_accuracies)))\n",
    "\n",
    "print(\"Controls medians:\")\n",
    "print(\"\\t SS:\" + str(scipy.median(controls_ss_accuracies)))\n",
    "print(\"\\t CP:\" + str(scipy.median(controls_cp_accuracies)))\n",
    "print(\"\\t CS:\" + str(scipy.median(controls_cs_accuracies)))\n",
    "print(\"\\t US:\" + str(scipy.median(controls_us_accuracies)))"
   ]
  },
  {
   "cell_type": "code",
   "execution_count": 177,
   "metadata": {
    "scrolled": true
   },
   "outputs": [
    {
     "data": {
      "image/png": "[encoded data removed]",
      "text/plain": [
       "<matplotlib.figure.Figure at 0x11bd2ba20>"
      ]
     },
     "metadata": {},
     "output_type": "display_data"
    },
    {
     "name": "stdout",
     "output_type": "stream",
     "text": [
      "Controls medians:\n",
      "\t SS:0.95\n",
      "\t CP:0.830459770115\n",
      "\t CS:0.933333333333\n",
      "\t US:1.0\n"
     ]
    }
   ],
   "source": [
    "plt.figure(1)\n",
    "\n",
    "plt.subplot(221)\n",
    "box_acc_ctrl = sns.boxplot(\n",
    "    data=[controls_ss_accuracies, controls_cp_accuracies, \n",
    "          controls_cs_accuracies, controls_us_accuracies])\n",
    "box_acc_ctrl.set_xticklabels(['SS','CP','CS', 'US'])\n",
    "box_acc_ctrl.set_xlabel(\"Stimulus Category\")\n",
    "box_acc_ctrl.set_ylabel(\"Accuracy\")\n",
    "box_acc_ctrl.set_title(\"Controls\")\n",
    "plt.ylim(0, 1.10)\n",
    "# statistical annotation\n",
    "x1, x2, x3, x4 = 0, 1, 2, 3   # columns (first column: 0, see plt.xticks())\n",
    "y, h, col = 1.03, 0.02, 'k'\n",
    "#Significant\n",
    "plt.plot([x1, x1, x2, x2], [y, y+h, y+h, y], lw=1.5, c=col)\n",
    "plt.plot([x1, x1, x4, x4], [y, y+h, y+h, y], lw=1.5, c=col)\n",
    "plt.text((x1+x3)*.5, y+h, \"*\", ha='center', va='bottom', color=col)\n",
    "# NS\n",
    "y, h, col = 0.5, 0.02, 'k'\n",
    "plt.plot([x1, x1, x3, x3], [y, y-h, y-h, y], lw=1.5, c=col)\n",
    "plt.text((x1+x3)*.5, y-h, \"ns\", ha='center', va='top', color=col)\n",
    "\n",
    "\n",
    "plt.subplot(222)\n",
    "box_acc_ptns = sns.boxplot(\n",
    "    data=[patients_ss_accuracies, patients_cp_accuracies, \n",
    "          patients_cs_accuracies, patients_us_accuracies])\n",
    "box_acc_ptns.set_xticklabels(['SS','CP','CS', 'US'])\n",
    "box_acc_ptns.set_xlabel(\"Stimulus Category\")\n",
    "box_acc_ptns.set_ylabel(\"Accuracy\")\n",
    "box_acc_ptns.set_title(\"Patients\")\n",
    "# statistical annotation\n",
    "x1, x2, x3, x4 = 0, 1, 2, 3   # columns (first column: 0, see plt.xticks())\n",
    "y, h, col = 1.03, 0.02, 'k'\n",
    "#Significant\n",
    "plt.plot([x1, x1, x2, x2], [y, y+h, y+h, y], lw=1.5, c=col)\n",
    "plt.plot([x1, x1, x3, x3], [y, y+h, y+h, y], lw=1.5, c=col)\n",
    "plt.text((x1+x3)*.5, y+h, \"*\", ha='center', va='bottom', color=col)\n",
    "# NS\n",
    "y, h, col = 1.05, 0.05, 'k'\n",
    "plt.plot([x1, x1, x4, x4], [y, y+h, y+h, y], lw=1.5, c=col)\n",
    "plt.text((x1+x4)*.5, y+h, \"ns\", ha='center', va='bottom', color=col)\n",
    "\n",
    "plt.subplots_adjust(top=2.5, bottom=0.001, left=0.10, right=2.5, hspace=0.30,\n",
    "                    wspace=0.25)\n",
    "plt.ylim(0, 1.15)\n",
    "\n",
    "plt.show()\n",
    "print(\"Controls medians:\")\n",
    "print(\"\\t SS:\" + str(scipy.median(controls_ss_accuracies)))\n",
    "print(\"\\t CP:\" + str(scipy.median(controls_cp_accuracies)))\n",
    "print(\"\\t CS:\" + str(scipy.median(controls_cs_accuracies)))\n",
    "print(\"\\t US:\" + str(scipy.median(controls_us_accuracies)))"
   ]
  },
  {
   "cell_type": "code",
   "execution_count": 35,
   "metadata": {
    "collapsed": true
   },
   "outputs": [],
   "source": [
    "acc_comps = dict()"
   ]
  },
  {
   "cell_type": "code",
   "execution_count": 141,
   "metadata": {},
   "outputs": [
    {
     "name": "stdout",
     "output_type": "stream",
     "text": [
      "pilot\n",
      "ss_cs\n",
      "{'CIs': {'high': 0.0011494252873562871, 'low': -0.033333333333333326}, 'central_tendency': {'median': -0.033333333333333326}}\n",
      "ss_cp\n",
      "{'CIs': {'high': 0.099999999999999978, 'low': 0.066666666666666652}, 'central_tendency': {'median': 0.066666666666666652}}\n",
      "ss_us\n",
      "{'CIs': {'high': -0.033333333333333326, 'low': -0.033333333333333326}, 'central_tendency': {'median': -0.033333333333333326}}\n",
      "--------------------\n",
      "patients\n",
      "ss_cs\n",
      "{'CIs': {'high': 0.38571441202475709, 'low': 0.11894586894586895}, 'central_tendency': {'median': 0.25530852994555353}}\n",
      "ss_cp\n",
      "{'CIs': {'high': 0.34551149425287364, 'low': 0.21282051282051284}, 'central_tendency': {'median': 0.28045977011494261}}\n",
      "ss_us\n",
      "{'CIs': {'high': 0.33333333333333337, 'low': -0.066666666666666652}, 'central_tendency': {'median': -0.033333333333333326}}\n",
      "--------------------\n",
      "pilot_controls\n",
      "ss\n",
      "{'CIs': {'high': 0.1333333333333333, 'low': 0.033333333333333326}, 'central_tendency': {'median': 0.066666666666666652}}\n",
      "cp\n",
      "{'CIs': {'high': 0.21837643678160928, 'low': 0.099999999999999978}, 'central_tendency': {'median': 0.1333333333333333}}\n",
      "cs\n",
      "{'CIs': {'high': 0.066666666666666652, 'low': 0.034482758620689613}, 'central_tendency': {'median': 0.051149425287356332}}\n",
      "us\n",
      "{'CIs': {'high': 0.19999999999999996, 'low': -0.033333333333333326}, 'central_tendency': {'median': 0.16666666666666663}}\n",
      "--------------------\n",
      "controls_patients\n",
      "ss\n",
      "{'CIs': {'high': 0.066666666666666652, 'low': -0.032294871794871789}, 'central_tendency': {'median': 0.033333333333333326}}\n",
      "cp\n",
      "{'CIs': {'high': 0.31282051282051282, 'low': 0.066666666666666652}, 'central_tendency': {'median': 0.19999999999999998}}\n",
      "cs\n",
      "{'CIs': {'high': 0.6565428824049514, 'low': 0.14814814814814814}, 'central_tendency': {'median': 0.30000000000000004}}\n",
      "us\n",
      "{'CIs': {'high': 0.83333333333333337, 'low': 0.19047619047619047}, 'central_tendency': {'median': 0.46666666666666667}}\n",
      "--------------------\n",
      "controls\n",
      "ss_cs\n",
      "{'CIs': {'high': 0.034482758620689669, 'low': -0.082183908045976972}, 'central_tendency': {'median': 0.0011494252873562871}}\n",
      "ss_cp\n",
      "{'CIs': {'high': 0.39325000000000049, 'low': 0.061689655172413871}, 'central_tendency': {'median': 0.1333333333333333}}\n",
      "ss_us\n",
      "{'CIs': {'high': -0.033333333333333326, 'low': -0.11666666666666664}, 'central_tendency': {'median': -0.033333333333333326}}\n",
      "--------------------\n"
     ]
    }
   ],
   "source": [
    "# Collate analysis data (actual analysis follows below)\n",
    "for subj in acc_comps.keys():\n",
    "    print(subj)\n",
    "    for stim in acc_comps[subj].keys():\n",
    "        print(stim)\n",
    "        print({x: acc_comps[subj][stim][x] for x in acc_comps[subj][stim].keys() if x != 'bootstrap_data'})\n",
    "    print('--------------------')"
   ]
  },
  {
   "cell_type": "markdown",
   "metadata": {},
   "source": [
    "#### Bootstrap Median Differences Between Subject Groups"
   ]
  },
  {
   "cell_type": "markdown",
   "metadata": {},
   "source": [
    "##### Pilot vs Controls"
   ]
  },
  {
   "cell_type": "code",
   "execution_count": 116,
   "metadata": {
    "collapsed": true
   },
   "outputs": [],
   "source": [
    "subj_group = 'pilot_controls'\n",
    "acc_comps[subj_group] = dict()"
   ]
  },
  {
   "cell_type": "code",
   "execution_count": 117,
   "metadata": {},
   "outputs": [
    {
     "name": "stdout",
     "output_type": "stream",
     "text": [
      "{'high': 0.1333333333333333, 'low': 0.033333333333333326}\n",
      "{'median': 0.066666666666666652}\n"
     ]
    }
   ],
   "source": [
    "subj_group = 'pilot_controls'\n",
    "stim_group = 'ss'\n",
    "diffs = [x - y for x in pilot_ss_accuracies for y in controls_ss_accuracies]\n",
    "\n",
    "acc_comps[subj_group][stim_group] = bayes_bootstrap(diffs, scipy.median, 1000, len(diffs))\n",
    "\n",
    "#plt.hist(rt_comps[subj_group][stim_group]['bootstrap_data'])\n",
    "print(acc_comps[subj_group][stim_group]['CIs'])\n",
    "print(acc_comps[subj_group][stim_group]['central_tendency'])"
   ]
  },
  {
   "cell_type": "code",
   "execution_count": 118,
   "metadata": {},
   "outputs": [
    {
     "name": "stdout",
     "output_type": "stream",
     "text": [
      "{'high': 0.066666666666666652, 'low': 0.034482758620689613}\n",
      "{'median': 0.051149425287356332}\n"
     ]
    }
   ],
   "source": [
    "subj_group = 'pilot_controls'\n",
    "stim_group = 'cs'\n",
    "diffs = [x - y for x in pilot_cs_accuracies for y in controls_cs_accuracies]\n",
    "\n",
    "acc_comps[subj_group][stim_group] = bayes_bootstrap(diffs, scipy.median, 1000, len(diffs))\n",
    "\n",
    "#plt.hist(acc_comps[subj_group][stim_group]['bootstrap_data'])\n",
    "print(acc_comps[subj_group][stim_group]['CIs'])\n",
    "print(acc_comps[subj_group][stim_group]['central_tendency'])"
   ]
  },
  {
   "cell_type": "code",
   "execution_count": 119,
   "metadata": {},
   "outputs": [
    {
     "name": "stdout",
     "output_type": "stream",
     "text": [
      "{'high': 0.21837643678160928, 'low': 0.099999999999999978}\n",
      "{'median': 0.1333333333333333}\n"
     ]
    }
   ],
   "source": [
    "subj_group = 'pilot_controls'\n",
    "stim_group = 'cp'\n",
    "diffs = [x - y for x in pilot_cp_accuracies for y in controls_cp_accuracies]\n",
    "\n",
    "acc_comps[subj_group][stim_group] = bayes_bootstrap(diffs, scipy.median, 1000, len(diffs))\n",
    "\n",
    "#plt.hist(acc_comps[subj_group][stim_group]['bootstrap_data'])\n",
    "print(acc_comps[subj_group][stim_group]['CIs'])\n",
    "print(acc_comps[subj_group][stim_group]['central_tendency'])"
   ]
  },
  {
   "cell_type": "code",
   "execution_count": 120,
   "metadata": {},
   "outputs": [
    {
     "name": "stdout",
     "output_type": "stream",
     "text": [
      "{'high': 0.19999999999999996, 'low': -0.033333333333333326}\n",
      "{'median': 0.16666666666666663}\n"
     ]
    }
   ],
   "source": [
    "subj_group = 'pilot_controls'\n",
    "stim_group = 'us'\n",
    "diffs = [x - y for x in pilot_us_accuracies for y in controls_us_accuracies]\n",
    "\n",
    "acc_comps[subj_group][stim_group] = bayes_bootstrap(diffs, scipy.median, 1000, len(diffs))\n",
    "\n",
    "#plt.hist(rt_comps[subj_group][stim_group]['bootstrap_data'])\n",
    "print(acc_comps[subj_group][stim_group]['CIs'])\n",
    "print(acc_comps[subj_group][stim_group]['central_tendency'])"
   ]
  },
  {
   "cell_type": "markdown",
   "metadata": {},
   "source": [
    "##### Controls vs Patients"
   ]
  },
  {
   "cell_type": "code",
   "execution_count": 121,
   "metadata": {
    "collapsed": true
   },
   "outputs": [],
   "source": [
    "subj_group = 'controls_patients'\n",
    "acc_comps[subj_group] = dict()"
   ]
  },
  {
   "cell_type": "code",
   "execution_count": 122,
   "metadata": {},
   "outputs": [
    {
     "name": "stdout",
     "output_type": "stream",
     "text": [
      "{'high': 0.066666666666666652, 'low': -0.032294871794871789}\n",
      "{'median': 0.033333333333333326}\n"
     ]
    }
   ],
   "source": [
    "subj_group = 'controls_patients'\n",
    "stim_group = 'ss'\n",
    "diffs = [y - x for x in patients_ss_accuracies for y in controls_ss_accuracies]\n",
    "\n",
    "acc_comps[subj_group][stim_group] = bayes_bootstrap(diffs, scipy.median, 1000, len(diffs))\n",
    "\n",
    "#plt.hist(rt_comps[subj_group][stim_group]['bootstrap_data'])\n",
    "print(acc_comps[subj_group][stim_group]['CIs'])\n",
    "print(acc_comps[subj_group][stim_group]['central_tendency'])"
   ]
  },
  {
   "cell_type": "code",
   "execution_count": 123,
   "metadata": {},
   "outputs": [
    {
     "name": "stdout",
     "output_type": "stream",
     "text": [
      "{'high': 0.6565428824049514, 'low': 0.14814814814814814}\n",
      "{'median': 0.30000000000000004}\n"
     ]
    }
   ],
   "source": [
    "subj_group = 'controls_patients'\n",
    "stim_group = 'cs'\n",
    "diffs = [y - x for x in patients_cs_accuracies for y in controls_cs_accuracies]\n",
    "\n",
    "acc_comps[subj_group][stim_group] = bayes_bootstrap(diffs, scipy.median, 1000, len(diffs))\n",
    "\n",
    "#plt.hist(rt_comps[subj_group][stim_group]['bootstrap_data'])\n",
    "print(acc_comps[subj_group][stim_group]['CIs'])\n",
    "print(acc_comps[subj_group][stim_group]['central_tendency'])"
   ]
  },
  {
   "cell_type": "code",
   "execution_count": 124,
   "metadata": {},
   "outputs": [
    {
     "name": "stdout",
     "output_type": "stream",
     "text": [
      "{'high': 0.31282051282051282, 'low': 0.066666666666666652}\n",
      "{'median': 0.19999999999999998}\n"
     ]
    }
   ],
   "source": [
    "subj_group = 'controls_patients'\n",
    "stim_group = 'cp'\n",
    "diffs = [y - x for x in patients_cp_accuracies for y in controls_cp_accuracies]\n",
    "\n",
    "acc_comps[subj_group][stim_group] = bayes_bootstrap(diffs, scipy.median, 1000, len(diffs))\n",
    "\n",
    "#plt.hist(rt_comps[subj_group][stim_group]['bootstrap_data'])\n",
    "print(acc_comps[subj_group][stim_group]['CIs'])\n",
    "print(acc_comps[subj_group][stim_group]['central_tendency'])"
   ]
  },
  {
   "cell_type": "code",
   "execution_count": 125,
   "metadata": {},
   "outputs": [
    {
     "name": "stdout",
     "output_type": "stream",
     "text": [
      "{'high': 0.83333333333333337, 'low': 0.19047619047619047}\n",
      "{'median': 0.46666666666666667}\n"
     ]
    }
   ],
   "source": [
    "subj_group = 'controls_patients'\n",
    "stim_group = 'us'\n",
    "diffs = [y - x for x in patients_us_accuracies for y in controls_us_accuracies]\n",
    "\n",
    "acc_comps[subj_group][stim_group] = bayes_bootstrap(diffs, scipy.median, 1000, len(diffs))\n",
    "\n",
    "#plt.hist(rt_comps[subj_group][stim_group]['bootstrap_data'])\n",
    "print(acc_comps[subj_group][stim_group]['CIs'])\n",
    "print(acc_comps[subj_group][stim_group]['central_tendency'])"
   ]
  },
  {
   "cell_type": "markdown",
   "metadata": {},
   "source": [
    "#### Bootstrap Median Differences Between Stimuli Categories (Within Subject Groups, Incogruency Only) "
   ]
  },
  {
   "cell_type": "markdown",
   "metadata": {},
   "source": [
    "##### Pilot"
   ]
  },
  {
   "cell_type": "code",
   "execution_count": 127,
   "metadata": {
    "collapsed": true
   },
   "outputs": [],
   "source": [
    "subj_group = 'pilot'\n",
    "acc_comps[subj_group] = dict()"
   ]
  },
  {
   "cell_type": "code",
   "execution_count": 128,
   "metadata": {},
   "outputs": [
    {
     "name": "stdout",
     "output_type": "stream",
     "text": [
      "{'high': -0.033333333333333326, 'low': -0.033333333333333326}\n",
      "{'median': -0.033333333333333326}\n"
     ]
    }
   ],
   "source": [
    "subj_group = 'pilot'\n",
    "stim_group = 'ss_us'\n",
    "diffs = [x - y for x in pilot_ss_accuracies for y in pilot_us_accuracies]\n",
    "\n",
    "acc_comps[subj_group][stim_group] = bayes_bootstrap(diffs, scipy.median, 1000, len(diffs))\n",
    "\n",
    "#plt.hist(rt_comps[subj_group][stim_group]['bootstrap_data'])\n",
    "print(acc_comps[subj_group][stim_group]['CIs'])\n",
    "print(acc_comps[subj_group][stim_group]['central_tendency'])"
   ]
  },
  {
   "cell_type": "code",
   "execution_count": 129,
   "metadata": {},
   "outputs": [
    {
     "name": "stdout",
     "output_type": "stream",
     "text": [
      "{'high': 0.0011494252873562871, 'low': -0.033333333333333326}\n",
      "{'median': -0.033333333333333326}\n"
     ]
    }
   ],
   "source": [
    "subj_group = 'pilot'\n",
    "stim_group = 'ss_cs'\n",
    "diffs = [x - y for x in pilot_ss_accuracies for y in pilot_cs_accuracies]\n",
    "\n",
    "acc_comps[subj_group][stim_group] = bayes_bootstrap(diffs, scipy.median, 1000, len(diffs))\n",
    "\n",
    "#plt.hist(rt_comps[subj_group][stim_group]['bootstrap_data'])\n",
    "print(acc_comps[subj_group][stim_group]['CIs'])\n",
    "print(acc_comps[subj_group][stim_group]['central_tendency'])"
   ]
  },
  {
   "cell_type": "code",
   "execution_count": 130,
   "metadata": {},
   "outputs": [
    {
     "name": "stdout",
     "output_type": "stream",
     "text": [
      "{'high': 0.099999999999999978, 'low': 0.066666666666666652}\n",
      "{'median': 0.066666666666666652}\n"
     ]
    }
   ],
   "source": [
    "subj_group = 'pilot'\n",
    "stim_group = 'ss_cp'\n",
    "diffs = [x - y for x in pilot_ss_accuracies for y in pilot_cp_accuracies]\n",
    "\n",
    "acc_comps[subj_group][stim_group] = bayes_bootstrap(diffs, scipy.median, 1000, len(diffs))\n",
    "\n",
    "#plt.hist(rt_comps[subj_group][stim_group]['bootstrap_data'])\n",
    "print(acc_comps[subj_group][stim_group]['CIs'])\n",
    "print(acc_comps[subj_group][stim_group]['central_tendency'])"
   ]
  },
  {
   "cell_type": "markdown",
   "metadata": {},
   "source": [
    "##### Controls"
   ]
  },
  {
   "cell_type": "code",
   "execution_count": 131,
   "metadata": {
    "collapsed": true
   },
   "outputs": [],
   "source": [
    "subj_group = 'controls'\n",
    "acc_comps[subj_group] = dict()"
   ]
  },
  {
   "cell_type": "code",
   "execution_count": 132,
   "metadata": {},
   "outputs": [
    {
     "name": "stdout",
     "output_type": "stream",
     "text": [
      "{'high': -0.033333333333333326, 'low': -0.11666666666666664}\n",
      "{'median': -0.033333333333333326}\n"
     ]
    }
   ],
   "source": [
    "subj_group = 'controls'\n",
    "stim_group = 'ss_us'\n",
    "diffs = [x - y for x in controls_ss_accuracies for y in controls_us_accuracies]\n",
    "\n",
    "acc_comps[subj_group][stim_group] = bayes_bootstrap(diffs, scipy.median, 1000, len(diffs))\n",
    "\n",
    "#plt.hist(rt_comps[subj_group][stim_group]['bootstrap_data'])\n",
    "print(acc_comps[subj_group][stim_group]['CIs'])\n",
    "print(acc_comps[subj_group][stim_group]['central_tendency'])"
   ]
  },
  {
   "cell_type": "code",
   "execution_count": 133,
   "metadata": {},
   "outputs": [
    {
     "name": "stdout",
     "output_type": "stream",
     "text": [
      "{'high': 0.034482758620689669, 'low': -0.082183908045976972}\n",
      "{'median': 0.0011494252873562871}\n"
     ]
    }
   ],
   "source": [
    "subj_group = 'controls'\n",
    "stim_group = 'ss_cs'\n",
    "diffs = [x - y for x in controls_ss_accuracies for y in controls_cs_accuracies]\n",
    "\n",
    "acc_comps[subj_group][stim_group] = bayes_bootstrap(diffs, scipy.median, 1000, len(diffs))\n",
    "\n",
    "#plt.hist(rt_comps[subj_group][stim_group]['bootstrap_data'])\n",
    "print(acc_comps[subj_group][stim_group]['CIs'])\n",
    "print(acc_comps[subj_group][stim_group]['central_tendency'])"
   ]
  },
  {
   "cell_type": "code",
   "execution_count": 134,
   "metadata": {},
   "outputs": [
    {
     "name": "stdout",
     "output_type": "stream",
     "text": [
      "{'high': 0.39325000000000049, 'low': 0.061689655172413871}\n",
      "{'median': 0.1333333333333333}\n"
     ]
    }
   ],
   "source": [
    "subj_group = 'controls'\n",
    "stim_group = 'ss_cp'\n",
    "diffs = [x - y for x in controls_ss_accuracies for y in controls_cp_accuracies]\n",
    "\n",
    "acc_comps[subj_group][stim_group] = bayes_bootstrap(diffs, scipy.median, 1000, len(diffs))\n",
    "\n",
    "#plt.hist(rt_comps[subj_group][stim_group]['bootstrap_data'])\n",
    "print(acc_comps[subj_group][stim_group]['CIs'])\n",
    "print(acc_comps[subj_group][stim_group]['central_tendency'])"
   ]
  },
  {
   "cell_type": "markdown",
   "metadata": {},
   "source": [
    "##### Patients"
   ]
  },
  {
   "cell_type": "code",
   "execution_count": 135,
   "metadata": {
    "collapsed": true
   },
   "outputs": [],
   "source": [
    "subj_group = 'patients'\n",
    "acc_comps[subj_group] = dict()"
   ]
  },
  {
   "cell_type": "code",
   "execution_count": 136,
   "metadata": {},
   "outputs": [
    {
     "name": "stdout",
     "output_type": "stream",
     "text": [
      "{'high': 0.33333333333333337, 'low': -0.066666666666666652}\n",
      "{'median': -0.033333333333333326}\n"
     ]
    }
   ],
   "source": [
    "subj_group = 'patients'\n",
    "stim_group = 'ss_us'\n",
    "diffs = [x - y for x in patients_ss_accuracies for y in patients_us_accuracies]\n",
    "\n",
    "acc_comps[subj_group][stim_group] = bayes_bootstrap(diffs, scipy.median, 1000, len(diffs))\n",
    "\n",
    "#plt.hist(rt_comps[subj_group][stim_group]['bootstrap_data'])\n",
    "print(acc_comps[subj_group][stim_group]['CIs'])\n",
    "print(acc_comps[subj_group][stim_group]['central_tendency'])"
   ]
  },
  {
   "cell_type": "code",
   "execution_count": 137,
   "metadata": {},
   "outputs": [
    {
     "name": "stdout",
     "output_type": "stream",
     "text": [
      "{'high': 0.38571441202475709, 'low': 0.11894586894586895}\n",
      "{'median': 0.25530852994555353}\n"
     ]
    }
   ],
   "source": [
    "stim_group = 'ss_cs'\n",
    "diffs = [x - y for x in patients_ss_accuracies for y in patients_cs_accuracies]\n",
    "\n",
    "acc_comps[subj_group][stim_group] = bayes_bootstrap(diffs, scipy.median, 1000, len(diffs))\n",
    "\n",
    "#plt.hist(rt_comps[subj_group][stim_group]['bootstrap_data'])\n",
    "print(acc_comps[subj_group][stim_group]['CIs'])\n",
    "print(acc_comps[subj_group][stim_group]['central_tendency'])"
   ]
  },
  {
   "cell_type": "code",
   "execution_count": 138,
   "metadata": {},
   "outputs": [
    {
     "name": "stdout",
     "output_type": "stream",
     "text": [
      "{'high': 0.34551149425287364, 'low': 0.21282051282051284}\n",
      "{'median': 0.28045977011494261}\n"
     ]
    }
   ],
   "source": [
    "stim_group = 'ss_cp'\n",
    "diffs = [x - y for x in patients_ss_accuracies for y in patients_cp_accuracies]\n",
    "\n",
    "acc_comps[subj_group][stim_group] = bayes_bootstrap(diffs, scipy.median, 1000, len(diffs))\n",
    "\n",
    "#plt.hist(rt_comps[subj_group][stim_group]['bootstrap_data'])\n",
    "print(acc_comps[subj_group][stim_group]['CIs'])\n",
    "print(acc_comps[subj_group][stim_group]['central_tendency'])"
   ]
  },
  {
   "cell_type": "markdown",
   "metadata": {},
   "source": [
    "### Signal Detection Theory & d'"
   ]
  },
  {
   "cell_type": "markdown",
   "metadata": {},
   "source": [
    "**Hit:** SS + \"same\" response  \n",
    "**False Alarm:** US/CS/CP + \"same\" response\n",
    "\n",
    "**Miss:** SS + \"diff\" response  \n",
    "**Correct Rejection:** US/CS/CP + \"diff\" response"
   ]
  },
  {
   "cell_type": "markdown",
   "metadata": {},
   "source": [
    "**Stim Group 1**: SS  \n",
    "**Stim Group 2**: US / CS / CP"
   ]
  },
  {
   "cell_type": "code",
   "execution_count": 54,
   "metadata": {
    "collapsed": true
   },
   "outputs": [],
   "source": [
    "def get_d_primes(dataset, stim1, stim2, include_id=False):\n",
    "    d_primes = dict()\n",
    "    subject_ids = set(dataset.subj_idx)\n",
    "    for subject_id in subject_ids:\n",
    "        stim1_data = dataset.loc[\n",
    "            dataset['subj_idx'] == subject_id].loc[\n",
    "            dataset['stim'] == str(stim1)]\n",
    "        stim1_trials = len(stim1_data)\n",
    "        hits = len(stim1_data.loc[\n",
    "            dataset['response'] == 1.0])\n",
    "        \n",
    "        stim2_data = dataset.loc[\n",
    "            dataset['subj_idx'] == subject_id].loc[\n",
    "            dataset['stim'] == str(stim2)]\n",
    "        stim2_trials = len(stim2_data)\n",
    "        \n",
    "        fas = len(stim2_data.loc[\n",
    "            dataset['response'] == 0.0])\n",
    "        \n",
    "        if not stim1_trials or not stim2_trials:\n",
    "            d_primes[subject_id] = None # N/A placeholder value\n",
    "            continue\n",
    "        \n",
    "        d_prime = signal_detection.signal_detection(\n",
    "            n_stim1=stim1_trials, \n",
    "            n_stim2=stim2_trials, \n",
    "            hits=hits, \n",
    "            false_alarms=fas)['d_prime']\n",
    "        d_primes[subject_id] = d_prime\n",
    "       \n",
    "    if not include_id:\n",
    "        return list(d_primes.values())\n",
    "    return d_primes"
   ]
  },
  {
   "cell_type": "code",
   "execution_count": 55,
   "metadata": {
    "collapsed": true
   },
   "outputs": [],
   "source": [
    "## Pilot d'\n",
    "pilot_dprimes = {\n",
    "    'ss_us': get_d_primes(pilot_data, 'SS', 'US'),\n",
    "    'ss_cs': get_d_primes(pilot_data, 'SS', 'CS'),\n",
    "    'ss_cp': get_d_primes(pilot_data, 'SS', 'CP')\n",
    "}\n",
    "\n",
    "## Controls d'\n",
    "controls_dprimes = {\n",
    "    'ss_us': get_d_primes(controls_data, 'SS', 'US'),\n",
    "    'ss_cs': get_d_primes(controls_data, 'SS', 'CS'),\n",
    "    'ss_cp': get_d_primes(controls_data, 'SS', 'CP')\n",
    "}\n",
    "\n",
    "## Patients d'\n",
    "patients_dprimes = {\n",
    "    'ss_us': get_d_primes(patients_data, 'SS', 'US'),\n",
    "    'ss_cs': get_d_primes(patients_data, 'SS', 'CS'),\n",
    "    'ss_cp': get_d_primes(patients_data, 'SS', 'CP')\n",
    "}"
   ]
  },
  {
   "cell_type": "code",
   "execution_count": 56,
   "metadata": {},
   "outputs": [
    {
     "data": {
      "image/png": "[encoded data removed]",
      "text/plain": [
       "<matplotlib.figure.Figure at 0x11b906b38>"
      ]
     },
     "metadata": {},
     "output_type": "display_data"
    }
   ],
   "source": [
    "## Plotting d's\n",
    "plt.figure(1)\n",
    "\n",
    "plt.subplot(221)\n",
    "box_dprime_ctrl = sns.boxplot(\n",
    "    data=[controls_dprimes['ss_cp'],\n",
    "          controls_dprimes['ss_cs'],\n",
    "          controls_dprimes['ss_us']])\n",
    "box_dprime_ctrl.set_xticklabels(['SS vs CP','SS vs CS', 'SS vs US'])\n",
    "box_dprime_ctrl.set_xlabel(\"Stimulus Pair\")\n",
    "box_dprime_ctrl.set_ylabel(\"d prime\")\n",
    "box_dprime_ctrl.set_title(\"Controls\")\n",
    "\n",
    "plt.subplot(222)\n",
    "box_dprime_ptns = sns.boxplot(\n",
    "    data=[patients_dprimes['ss_cp'],\n",
    "          patients_dprimes['ss_cs'],\n",
    "          controls_dprimes['ss_us']])\n",
    "box_dprime_ptns.set_xticklabels(['SS vs CP','SS vs CS', 'SS vs US'])\n",
    "box_dprime_ptns.set_xlabel(\"Stimulus Pair\")\n",
    "box_dprime_ptns.set_ylabel(\"d prime\")\n",
    "box_dprime_ptns.set_title(\"Patients\")\n",
    "\n",
    "plt.subplot(223)\n",
    "box_dprime_plt = sns.boxplot(\n",
    "    data=[pilot_dprimes['ss_cp'],\n",
    "          pilot_dprimes['ss_cs'],\n",
    "          pilot_dprimes['ss_us']])\n",
    "box_dprime_plt.set_xticklabels(['SS vs CP','SS vs CS', 'SS vs US'])\n",
    "box_dprime_plt.set_xlabel(\"Stimulus Pair\")\n",
    "box_dprime_plt.set_ylabel(\"d prime\")\n",
    "box_dprime_plt.set_title(\"Pilot\")\n",
    "\n",
    "plt.subplots_adjust(top=2.5, bottom=0.001, left=0.10, right=2.5, hspace=0.30,\n",
    "                    wspace=0.25)"
   ]
  },
  {
   "cell_type": "markdown",
   "metadata": {},
   "source": [
    "#### Bootstrap Median Differences\n",
    "http://faculty.psy.ohio-state.edu/myung/personal/course/826/bootstrap_hypo.pdf"
   ]
  },
  {
   "cell_type": "code",
   "execution_count": 57,
   "metadata": {
    "collapsed": true
   },
   "outputs": [],
   "source": [
    "## Pilot vs Controls d'\n",
    "dp_pilot_controls = dict()"
   ]
  },
  {
   "cell_type": "code",
   "execution_count": 58,
   "metadata": {},
   "outputs": [
    {
     "name": "stdout",
     "output_type": "stream",
     "text": [
      "{'high': 0.85282860705678987, 'low': 0.29413059836906852}\n",
      "{'median': 0.33282868977188995}\n"
     ]
    }
   ],
   "source": [
    "stim_key = 'ss_us'\n",
    "diffs = [x - y for x in pilot_dprimes[stim_key] for y in controls_dprimes[stim_key]]\n",
    "dp_pilot_controls[stim_key] = bayes_bootstrap(diffs, scipy.median, 1000, len(diffs))\n",
    "\n",
    "#plt.hist(dp_pilot_controls[stim_key]['bootstrap_data'])\n",
    "print(dp_pilot_controls[stim_key]['CIs'])\n",
    "print(dp_pilot_controls[stim_key]['central_tendency'])"
   ]
  },
  {
   "cell_type": "code",
   "execution_count": 59,
   "metadata": {},
   "outputs": [
    {
     "name": "stdout",
     "output_type": "stream",
     "text": [
      "{'high': 1.1993217594861032, 'low': 0.60353023970399189}\n",
      "{'median': 0.92108988651002743}\n"
     ]
    }
   ],
   "source": [
    "stim_key = 'ss_cs'\n",
    "diffs = [x - y for x in pilot_dprimes[stim_key] for y in controls_dprimes[stim_key]]\n",
    "dp_pilot_controls[stim_key] = bayes_bootstrap(diffs, scipy.median, 1000, len(diffs))\n",
    "\n",
    "#plt.hist(dp_pilot_controls[stim_key]['bootstrap_data'])\n",
    "print(dp_pilot_controls[stim_key]['CIs'])\n",
    "print(dp_pilot_controls[stim_key]['central_tendency'])"
   ]
  },
  {
   "cell_type": "code",
   "execution_count": 60,
   "metadata": {},
   "outputs": [
    {
     "name": "stdout",
     "output_type": "stream",
     "text": [
      "{'high': 1.4934523578551717, 'low': 0.62695928814095803}\n",
      "{'median': 0.9281282267932528}\n"
     ]
    }
   ],
   "source": [
    "stim_key = 'ss_cp'\n",
    "diffs = [x - y for x in pilot_dprimes[stim_key] for y in controls_dprimes[stim_key]]\n",
    "dp_pilot_controls[stim_key] = bayes_bootstrap(diffs, scipy.median, 1000, len(diffs))\n",
    "\n",
    "#plt.hist(dp_pilot_controls[stim_key]['bootstrap_data'])\n",
    "print(dp_pilot_controls[stim_key]['CIs'])\n",
    "print(dp_pilot_controls[stim_key]['central_tendency'])"
   ]
  },
  {
   "cell_type": "code",
   "execution_count": 61,
   "metadata": {
    "collapsed": true
   },
   "outputs": [],
   "source": [
    "## Controls vs Patients d'\n",
    "dp_controls_patients = dict()"
   ]
  },
  {
   "cell_type": "code",
   "execution_count": 62,
   "metadata": {},
   "outputs": [
    {
     "name": "stdout",
     "output_type": "stream",
     "text": [
      "{'high': 2.1931348314821921, 'low': 0.62695928814095891}\n",
      "{'median': 1.3699942038815296}\n"
     ]
    }
   ],
   "source": [
    "stim_key = 'ss_us'\n",
    "diffs = [x - y for x in controls_dprimes[stim_key] for y in patients_dprimes[stim_key]]\n",
    "dp_controls_patients[stim_key] = bayes_bootstrap(diffs, scipy.median, 1000, len(diffs))\n",
    "\n",
    "#plt.hist(dp_controls_patients[stim_key]['bootstrap_data'])\n",
    "print(dp_controls_patients[stim_key]['CIs'])\n",
    "print(dp_controls_patients[stim_key]['central_tendency'])"
   ]
  },
  {
   "cell_type": "code",
   "execution_count": 63,
   "metadata": {},
   "outputs": [
    {
     "name": "stdout",
     "output_type": "stream",
     "text": [
      "{'high': 2.4416060278819138, 'low': 0.98011104896776235}\n",
      "{'median': 1.5315445228373428}\n"
     ]
    }
   ],
   "source": [
    "stim_key = 'ss_cs'\n",
    "diffs = [x - y for x in controls_dprimes[stim_key] for y in patients_dprimes[stim_key]]\n",
    "dp_controls_patients[stim_key] = bayes_bootstrap(diffs, scipy.median, 1000, len(diffs))\n",
    "\n",
    "#plt.hist(dp_controls_patients[stim_key]['bootstrap_data'])\n",
    "print(dp_controls_patients[stim_key]['CIs'])\n",
    "print(dp_controls_patients[stim_key]['central_tendency'])"
   ]
  },
  {
   "cell_type": "code",
   "execution_count": 64,
   "metadata": {},
   "outputs": [
    {
     "name": "stdout",
     "output_type": "stream",
     "text": [
      "{'high': 1.7631854988057922, 'low': 0.53022713902283558}\n",
      "{'median': 1.0769507361453772}\n"
     ]
    }
   ],
   "source": [
    "stim_key = 'ss_cp'\n",
    "diffs = [x - y for x in controls_dprimes[stim_key] \n",
    "         for y in list(filter(None, patients_dprimes[stim_key]))]\n",
    "dp_controls_patients[stim_key] = bayes_bootstrap(diffs, scipy.median, 1000, len(diffs))\n",
    "\n",
    "#plt.hist(dp_controls_patients[stim_key]['bootstrap_data'])\n",
    "print(dp_controls_patients[stim_key]['CIs'])\n",
    "print(dp_controls_patients[stim_key]['central_tendency'])"
   ]
  },
  {
   "cell_type": "markdown",
   "metadata": {},
   "source": [
    "## Diffusion Decision Model Comparisons"
   ]
  },
  {
   "cell_type": "markdown",
   "metadata": {},
   "source": [
    "### Drift Rate Between Stimuli Groups (Within Subjects)"
   ]
  },
  {
   "cell_type": "code",
   "execution_count": 65,
   "metadata": {},
   "outputs": [
    {
     "name": "stdout",
     "output_type": "stream",
     "text": [
      "Drift Rate Analysis: Pilot\n",
      "P(v[SS] > v[US]) = 0.760795454545\n",
      "P(v[SS] > v[CP]) = 1.0\n",
      "P(v[SS] > v[CS]) = 0.998181818182\n",
      "P(v[CP] > v[CS]) = 0.0\n",
      "P(v[CP] > v[US]) = 0.0\n",
      "P(v[CS] > v[US]) = 0.0110227272727\n"
     ]
    },
    {
     "data": {
      "image/png": "[encoded data removed]",
      "text/plain": [
       "<matplotlib.figure.Figure at 0x11bf9ada0>"
      ]
     },
     "metadata": {},
     "output_type": "display_data"
    }
   ],
   "source": [
    "pilot_vSS, pilot_vCP, pilot_vCS, pilot_vUS = pilot_model.nodes_db.node[['v(SS)', 'v(CP)', 'v(CS)', 'v(US)']]\n",
    "\n",
    "hddm.analyze.plot_posterior_nodes([pilot_vSS, pilot_vCP, pilot_vCS, pilot_vUS])\n",
    "\n",
    "print(\"Drift Rate Analysis: Pilot\")\n",
    "print('P(v[SS] > v[US]) = ' + str((pilot_vSS.trace() > pilot_vUS.trace()).mean()))\n",
    "print('P(v[SS] > v[CP]) = ' + str((pilot_vSS.trace() > pilot_vCP.trace()).mean()))\n",
    "print('P(v[SS] > v[CS]) = ' + str((pilot_vSS.trace() > pilot_vCS.trace()).mean()))\n",
    "print('P(v[CP] > v[CS]) = ' + str((pilot_vCP.trace() > pilot_vCS.trace()).mean()))\n",
    "print('P(v[CP] > v[US]) = ' + str((pilot_vCP.trace() > pilot_vUS.trace()).mean()))\n",
    "print('P(v[CS] > v[US]) = ' + str((pilot_vCS.trace() > pilot_vUS.trace()).mean()))"
   ]
  },
  {
   "cell_type": "code",
   "execution_count": 66,
   "metadata": {},
   "outputs": [
    {
     "name": "stdout",
     "output_type": "stream",
     "text": [
      "Drift Rate Analysis: Controls\n",
      "P(v[SS] > v[US]) = 0.315\n",
      "P(v[SS] > v[CP]) = 0.989431818182\n",
      "P(v[SS] > v[CS]) = 0.800909090909\n",
      "P(v[CP] > v[CS]) = 0.06125\n",
      "P(v[CP] > v[US]) = 0.00511363636364\n",
      "P(v[CS] > v[US]) = 0.0948863636364\n"
     ]
    },
    {
     "data": {
      "image/png": "[encoded data removed]",
      "text/plain": [
       "<matplotlib.figure.Figure at 0x11bf9c400>"
      ]
     },
     "metadata": {},
     "output_type": "display_data"
    }
   ],
   "source": [
    "controls_vSS, controls_vCP, controls_vCS, controls_vUS = controls_model.nodes_db.node[['v(SS)', 'v(CP)', 'v(CS)', 'v(US)']]\n",
    "\n",
    "hddm.analyze.plot_posterior_nodes([controls_vSS, controls_vCP, controls_vCS, controls_vUS])\n",
    "\n",
    "print(\"Drift Rate Analysis: Controls\")\n",
    "print('P(v[SS] > v[US]) = ' + str((controls_vSS.trace() > controls_vUS.trace()).mean()))\n",
    "print('P(v[SS] > v[CP]) = ' + str((controls_vSS.trace() > controls_vCP.trace()).mean()))\n",
    "print('P(v[SS] > v[CS]) = ' + str((controls_vSS.trace() > controls_vCS.trace()).mean()))\n",
    "print('P(v[CP] > v[CS]) = ' + str((controls_vCP.trace() > controls_vCS.trace()).mean()))\n",
    "print('P(v[CP] > v[US]) = ' + str((controls_vCP.trace() > controls_vUS.trace()).mean()))\n",
    "print('P(v[CS] > v[US]) = ' + str((controls_vCS.trace() > controls_vUS.trace()).mean()))"
   ]
  },
  {
   "cell_type": "code",
   "execution_count": 67,
   "metadata": {},
   "outputs": [
    {
     "name": "stdout",
     "output_type": "stream",
     "text": [
      "Drift Rate Analysis: Patients\n",
      "P(v[SS] > v[US]) = 0.922045454545\n",
      "P(v[SS] > v[CP]) = 0.983068181818\n",
      "P(v[SS] > v[CS]) = 0.984659090909\n",
      "P(v[CP] > v[CS]) = 0.486136363636\n",
      "P(v[CP] > v[US]) = 0.205227272727\n",
      "P(v[CS] > v[US]) = 0.209318181818\n"
     ]
    },
    {
     "data": {
      "image/png": "[encoded data removed]",
      "text/plain": [
       "<matplotlib.figure.Figure at 0x11c047be0>"
      ]
     },
     "metadata": {},
     "output_type": "display_data"
    }
   ],
   "source": [
    "patients_vSS, patients_vCP, patients_vCS, patients_vUS = patients_model.nodes_db.node[['v(SS)', 'v(CP)', 'v(CS)', 'v(US)']]\n",
    "\n",
    "hddm.analyze.plot_posterior_nodes([patients_vSS, patients_vCP, patients_vCS, patients_vUS])\n",
    "\n",
    "print(\"Drift Rate Analysis: Patients\")\n",
    "print('P(v[SS] > v[US]) = ' + str((patients_vSS.trace() > patients_vUS.trace()).mean()))\n",
    "print('P(v[SS] > v[CP]) = ' + str((patients_vSS.trace() > patients_vCP.trace()).mean()))\n",
    "print('P(v[SS] > v[CS]) = ' + str((patients_vSS.trace() > patients_vCS.trace()).mean()))\n",
    "print('P(v[CP] > v[CS]) = ' + str((patients_vCP.trace() > patients_vCS.trace()).mean()))\n",
    "print('P(v[CP] > v[US]) = ' + str((patients_vCP.trace() > patients_vUS.trace()).mean()))\n",
    "print('P(v[CS] > v[US]) = ' + str((patients_vCS.trace() > patients_vUS.trace()).mean()))"
   ]
  },
  {
   "cell_type": "markdown",
   "metadata": {},
   "source": [
    "---\n",
    "\n",
    "---"
   ]
  },
  {
   "cell_type": "markdown",
   "metadata": {},
   "source": [
    "### Drift Rate Between Subjects & Stimuli Groups"
   ]
  },
  {
   "cell_type": "code",
   "execution_count": 68,
   "metadata": {},
   "outputs": [
    {
     "name": "stdout",
     "output_type": "stream",
     "text": [
      "Drift Rate Analysis: SS\n",
      "P(patients_vSS > controls_vSS) = 0.145227272727\n",
      "P(controls_vSS > pilot_vSS) = 0.00181818181818\n"
     ]
    },
    {
     "data": {
      "image/png": "[encoded data removed]",
      "text/plain": [
       "<matplotlib.figure.Figure at 0x11bb99eb8>"
      ]
     },
     "metadata": {},
     "output_type": "display_data"
    }
   ],
   "source": [
    "pilot_vSS = pilot_model.nodes_db.node['v(SS)']\n",
    "controls_vSS = controls_model.nodes_db.node['v(SS)']\n",
    "patients_vSS = patients_model.nodes_db.node['v(SS)']\n",
    "\n",
    "hddm.analyze.plot_posterior_nodes([pilot_vSS, controls_vSS, patients_vSS])\n",
    "\n",
    "print(\"Drift Rate Analysis: SS\")\n",
    "print('P(patients_vSS > controls_vSS) = ' + str((patients_vSS.trace() > controls_vSS.trace()).mean()))\n",
    "print('P(controls_vSS > pilot_vSS) = ' + str((controls_vSS.trace() > pilot_vSS.trace()).mean()))"
   ]
  },
  {
   "cell_type": "code",
   "execution_count": 69,
   "metadata": {},
   "outputs": [
    {
     "name": "stdout",
     "output_type": "stream",
     "text": [
      "Drift Rate Analysis: US\n",
      "P(patients_vUS > controls_vUS) = 0.00340909090909\n",
      "P(controls_vUS > pilot_vUS) = 0.0201136363636\n"
     ]
    },
    {
     "data": {
      "image/png": "[encoded data removed]",
      "text/plain": [
       "<matplotlib.figure.Figure at 0x11d18a588>"
      ]
     },
     "metadata": {},
     "output_type": "display_data"
    }
   ],
   "source": [
    "pilot_vUS = pilot_model.nodes_db.node['v(US)']\n",
    "controls_vUS = controls_model.nodes_db.node['v(US)']\n",
    "patients_vUS = patients_model.nodes_db.node['v(US)']\n",
    "\n",
    "hddm.analyze.plot_posterior_nodes([pilot_vUS, controls_vUS, patients_vUS])\n",
    "\n",
    "print(\"Drift Rate Analysis: US\")\n",
    "print('P(patients_vUS > controls_vUS) = ' + str((patients_vUS.trace() > controls_vUS.trace()).mean()))\n",
    "print('P(controls_vUS > pilot_vUS) = ' + str((controls_vUS.trace() > pilot_vUS.trace()).mean()))"
   ]
  },
  {
   "cell_type": "code",
   "execution_count": 70,
   "metadata": {},
   "outputs": [
    {
     "name": "stdout",
     "output_type": "stream",
     "text": [
      "Drift Rate Analysis: CS\n",
      "P(patients_vCS > controls_vCS) = 0.00670454545455\n",
      "P(controls_vCS > pilot_vCS) = 0.00352272727273\n"
     ]
    },
    {
     "data": {
      "image/png": "[encoded data removed]",
      "text/plain": [
       "<matplotlib.figure.Figure at 0x11d2449e8>"
      ]
     },
     "metadata": {},
     "output_type": "display_data"
    }
   ],
   "source": [
    "pilot_vCS = pilot_model.nodes_db.node['v(CS)']\n",
    "controls_vCS = controls_model.nodes_db.node['v(CS)']\n",
    "patients_vCS = patients_model.nodes_db.node['v(CS)']\n",
    "\n",
    "hddm.analyze.plot_posterior_nodes([pilot_vCS, controls_vCS, patients_vCS])\n",
    "\n",
    "print(\"Drift Rate Analysis: CS\")\n",
    "print('P(patients_vCS > controls_vCS) = ' + str((patients_vCS.trace() > controls_vCS.trace()).mean()))\n",
    "print('P(controls_vCS > pilot_vCS) = ' + str((controls_vCS.trace() > pilot_vCS.trace()).mean()))"
   ]
  },
  {
   "cell_type": "code",
   "execution_count": 71,
   "metadata": {},
   "outputs": [
    {
     "name": "stdout",
     "output_type": "stream",
     "text": [
      "Drift Rate Analysis: CP\n",
      "P(patients_vCP > controls_vCP) = 0.147954545455\n",
      "P(controls_vCP > pilot_vCP) = 0.00181818181818\n"
     ]
    },
    {
     "data": {
      "image/png": "[encoded data removed]",
      "text/plain": [
       "<matplotlib.figure.Figure at 0x11d30a0f0>"
      ]
     },
     "metadata": {},
     "output_type": "display_data"
    }
   ],
   "source": [
    "pilot_vCP = pilot_model.nodes_db.node['v(CP)']\n",
    "controls_vCP = controls_model.nodes_db.node['v(CP)']\n",
    "patients_vCP = patients_model.nodes_db.node['v(CP)']\n",
    "\n",
    "hddm.analyze.plot_posterior_nodes([pilot_vCP, controls_vCP, patients_vCP])\n",
    "\n",
    "print(\"Drift Rate Analysis: CP\")\n",
    "print('P(patients_vCP > controls_vCP) = ' + str((patients_vCP.trace() > controls_vCP.trace()).mean()))\n",
    "print('P(controls_vCP > pilot_vCP) = ' + str((controls_vCP.trace() > pilot_vCP.trace()).mean()))"
   ]
  },
  {
   "cell_type": "markdown",
   "metadata": {},
   "source": [
    "---\n",
    "\n",
    "---"
   ]
  },
  {
   "cell_type": "markdown",
   "metadata": {},
   "source": [
    "### Non-Decision Time Between Subjects"
   ]
  },
  {
   "cell_type": "code",
   "execution_count": 72,
   "metadata": {},
   "outputs": [
    {
     "name": "stdout",
     "output_type": "stream",
     "text": [
      "Non-Decision Time Analysis\n",
      "P(patients_t > controls_t) = 0.126704545455\n",
      "P(controls_t > pilot_t) = 0.909886363636\n"
     ]
    },
    {
     "data": {
      "image/png": "[encoded data removed]",
      "text/plain": [
       "<matplotlib.figure.Figure at 0x11d3a2748>"
      ]
     },
     "metadata": {},
     "output_type": "display_data"
    }
   ],
   "source": [
    "pilot_t = pilot_model.nodes_db.node['t']\n",
    "controls_t = controls_model.nodes_db.node['t']\n",
    "patients_t = patients_model.nodes_db.node['t']\n",
    "\n",
    "hddm.analyze.plot_posterior_nodes([pilot_t, controls_t, patients_t])\n",
    "\n",
    "print(\"Non-Decision Time Analysis\")\n",
    "print('P(patients_t > controls_t) = ' + str((patients_t.trace() > controls_t.trace()).mean()))\n",
    "print('P(controls_t > pilot_t) = ' + str((controls_t.trace() > pilot_t.trace()).mean()))"
   ]
  },
  {
   "cell_type": "markdown",
   "metadata": {},
   "source": [
    "---\n",
    "\n",
    "---"
   ]
  },
  {
   "cell_type": "markdown",
   "metadata": {},
   "source": [
    "### Bias Between Subjects"
   ]
  },
  {
   "cell_type": "code",
   "execution_count": 73,
   "metadata": {},
   "outputs": [
    {
     "name": "stdout",
     "output_type": "stream",
     "text": [
      "Bias Analysis\n",
      "P(patients_z > controls_z) = 0.000227272727273\n",
      "P(controls_z > pilot_z) = 0.996590909091\n"
     ]
    },
    {
     "data": {
      "image/png": "[encoded data removed]",
      "text/plain": [
       "<matplotlib.figure.Figure at 0x11d508ac8>"
      ]
     },
     "metadata": {},
     "output_type": "display_data"
    }
   ],
   "source": [
    "pilot_z = pilot_model.nodes_db.node['z']\n",
    "controls_z = controls_model.nodes_db.node['z']\n",
    "patients_z = patients_model.nodes_db.node['z']\n",
    "\n",
    "hddm.analyze.plot_posterior_nodes([pilot_z, controls_z, patients_z])\n",
    "\n",
    "print(\"Bias Analysis\")\n",
    "print('P(patients_z > controls_z) = ' + str((patients_z.trace() > controls_z.trace()).mean()))\n",
    "print('P(controls_z > pilot_z) = ' + str((controls_z.trace() > pilot_z.trace()).mean()))"
   ]
  },
  {
   "cell_type": "markdown",
   "metadata": {},
   "source": [
    "---  \n",
    "\n",
    "\n",
    "---"
   ]
  },
  {
   "cell_type": "markdown",
   "metadata": {},
   "source": [
    "### Threshold"
   ]
  },
  {
   "cell_type": "markdown",
   "metadata": {},
   "source": [
    "#### Between Subjects\n",
    "\n",
    "Tested from model where stimulus type does not affect threshold"
   ]
  },
  {
   "cell_type": "code",
   "execution_count": 74,
   "metadata": {},
   "outputs": [
    {
     "name": "stdout",
     "output_type": "stream",
     "text": [
      "Threshold Analysis: Between-Subjects\n",
      "P(patients_a > controls_a) = 0.998522727273\n",
      "P(controls_a > pilot_a) = 0.0260227272727\n"
     ]
    },
    {
     "data": {
      "image/png": "[encoded data removed]",
      "text/plain": [
       "<matplotlib.figure.Figure at 0x11d5cccf8>"
      ]
     },
     "metadata": {},
     "output_type": "display_data"
    }
   ],
   "source": [
    "pilot_a = pilot_model.nodes_db.node['a']\n",
    "controls_a = controls_model.nodes_db.node['a']\n",
    "patients_a = patients_model.nodes_db.node['a']\n",
    "\n",
    "hddm.analyze.plot_posterior_nodes([pilot_a, controls_a, patients_a])\n",
    "\n",
    "print(\"Threshold Analysis: Between-Subjects\")\n",
    "print('P(patients_a > controls_a) = ' + str((patients_a.trace() > controls_a.trace()).mean()))\n",
    "print('P(controls_a > pilot_a) = ' + str((controls_a.trace() > pilot_a.trace()).mean()))"
   ]
  },
  {
   "cell_type": "markdown",
   "metadata": {},
   "source": [
    "---"
   ]
  },
  {
   "cell_type": "markdown",
   "metadata": {},
   "source": [
    "### Model Deviance Information Criterion (DIC)\n",
    "\n",
    "Measure of model fitness for hierarchical models, lower is better"
   ]
  },
  {
   "cell_type": "code",
   "execution_count": 75,
   "metadata": {},
   "outputs": [
    {
     "name": "stdout",
     "output_type": "stream",
     "text": [
      "Stimulus Model DIC: 795.609087068\n",
      "Lumped Model DIC: 1016.28785087\n"
     ]
    }
   ],
   "source": [
    "# Pilot models\n",
    "print(\"Stimulus Model DIC: \" + str(pilot_model.dic))\n",
    "print(\"Lumped Model DIC: \" + str(pilot_model_lumped.dic))\n",
    "#print(\"Stimulus+Threshold Model DIC: \" + str(pilot_model_threshold.dic))"
   ]
  },
  {
   "cell_type": "code",
   "execution_count": 76,
   "metadata": {},
   "outputs": [
    {
     "name": "stdout",
     "output_type": "stream",
     "text": [
      "Stimulus Model DIC: 800.516022989\n",
      "Lumped Model DIC: 869.320751214\n"
     ]
    }
   ],
   "source": [
    "# Control models\n",
    "print(\"Stimulus Model DIC: \" + str(controls_model.dic))\n",
    "print(\"Lumped Model DIC: \" + str(controls_model_lumped.dic))\n",
    "#print(\"Stimulus+Threshold Model DIC: \" + str(controls_model_threshold.dic))"
   ]
  },
  {
   "cell_type": "code",
   "execution_count": 77,
   "metadata": {},
   "outputs": [
    {
     "name": "stdout",
     "output_type": "stream",
     "text": [
      "Stimulus Model DIC: 2619.7750154\n",
      "Lumped Model DIC: 3222.23689013\n"
     ]
    }
   ],
   "source": [
    "# Patient models\n",
    "print(\"Stimulus Model DIC: \" + str(patients_model.dic))\n",
    "print(\"Lumped Model DIC: \" + str(patients_model_lumped.dic))\n",
    "#print(\"Stimulus+Threshold Model DIC: \" + str(patients_model_threshold.dic))"
   ]
  },
  {
   "cell_type": "markdown",
   "metadata": {},
   "source": [
    "-------"
   ]
  }
 ],
 "metadata": {
  "kernelspec": {
   "display_name": "Python 3",
   "language": "python",
   "name": "python3"
  },
  "language_info": {
   "codemirror_mode": {
    "name": "ipython",
    "version": 3
   },
   "file_extension": ".py",
   "mimetype": "text/x-python",
   "name": "python",
   "nbconvert_exporter": "python",
   "pygments_lexer": "ipython3",
   "version": "3.5.3"
  }
 },
 "nbformat": 4,
 "nbformat_minor": 2
}
