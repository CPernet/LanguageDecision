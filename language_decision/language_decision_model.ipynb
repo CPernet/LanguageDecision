{
 "cells": [
  {
   "cell_type": "markdown",
   "metadata": {},
   "source": [
    "# A Diffusion Decision Model for Language-based Decisions\n",
    "\n",
    "<img src=\"images/ddm_desc.jpeg\" width=\"600\">\n",
    "\n",
    "Here, we use the `hddm` (Python) library$^1$ to model language-based decision making based on response-time & accuracy data from a binary forced-choice decision task. During each trial, subjects were presented with a digital image of an item (visual stimulus) and a verbal description (auditory stimulus). At the end of each trial, subjects were asked to indicate whether the two types of stimuli agreed (i.e. visual and auditory stimulus pointed to the same object) or were different (i.e. non-matching sound and image). Auditory and visual stimuli pairs fell under four distinct categories, as summarised below:  \n",
    "- Condition 1 (**SS**): Same stimuli (see cat / hear cat)\n",
    "- Condition 2 (**CP**): Phonologically congruent (see cat / hear hat)\n",
    "- Condition 3 (**CS**): Semantically congruent (see cat / hear dog)\n",
    "- Condition 4 (**US**): Unrelated stimuli (see house / hear cat)"
   ]
  }
 ],
 "metadata": {
  "kernelspec": {
   "display_name": "Python 3",
   "language": "python",
   "name": "python3"
  },
  "language_info": {
   "codemirror_mode": {
    "name": "ipython",
    "version": 3
   },
   "file_extension": ".py",
   "mimetype": "text/x-python",
   "name": "python",
   "nbconvert_exporter": "python",
   "pygments_lexer": "ipython3",
   "version": "3.5.3"
  }
 },
 "nbformat": 4,
 "nbformat_minor": 2
}
