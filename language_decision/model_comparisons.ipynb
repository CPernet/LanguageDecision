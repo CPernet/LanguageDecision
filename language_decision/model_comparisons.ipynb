{
 "cells": [
  {
   "cell_type": "markdown",
   "metadata": {},
   "source": [
    "# Model Comparisons\n",
    "\n",
    "Comparing the DDM to other congitive models"
   ]
  },
  {
   "cell_type": "code",
   "execution_count": 56,
   "metadata": {},
   "outputs": [
    {
     "name": "stdout",
     "output_type": "stream",
     "text": [
      "/Users/celefthe/Programming/projects/language_decision\n"
     ]
    }
   ],
   "source": [
    "# Environment setup\n",
    "%matplotlib inline\n",
    "%cd /lang_dec\n",
    "# Imports\n",
    "import warnings; warnings.filterwarnings('ignore')\n",
    "import hddm\n",
    "import math\n",
    "import scipy\n",
    "import numpy as np\n",
    "import matplotlib.pyplot as plt\n",
    "import seaborn as sns\n",
    "import bayesian_bootstrap.bootstrap as bootstrap\n",
    "from utils import model_tools, signal_detection"
   ]
  },
  {
   "cell_type": "code",
   "execution_count": 2,
   "metadata": {},
   "outputs": [
    {
     "data": {
      "text/plain": [
       "<hddm.models.hddm_info.HDDM at 0x114e14240>"
      ]
     },
     "execution_count": 2,
     "metadata": {},
     "output_type": "execute_result"
    }
   ],
   "source": [
    "# Import pilot models\n",
    "pilot_data = hddm.load_csv('/lang_dec/data/pilot_clean.csv')\n",
    "pilot_model = hddm.HDDM(pilot_data, depends_on={'v': 'stim'}, bias=True)\n",
    "pilot_model.load_db(dbname='language_decision/models/pilot', db='txt')\n",
    "\n",
    "pilot_model_threshold = hddm.HDDM(pilot_data, depends_on={'v': 'stim', 'a': 'stim'})\n",
    "pilot_model_threshold.load_db(dbname='language_decision/models/pilot_threshold', db='txt')"
   ]
  },
  {
   "cell_type": "code",
   "execution_count": 201,
   "metadata": {},
   "outputs": [
    {
     "data": {
      "text/plain": [
       "<hddm.models.hddm_info.HDDM at 0x119b48278>"
      ]
     },
     "execution_count": 201,
     "metadata": {},
     "output_type": "execute_result"
    }
   ],
   "source": [
    "# Import control models\n",
    "controls_data = hddm.load_csv('/lang_dec/data/controls_clean.csv')\n",
    "controls_model = hddm.HDDM(controls_data, depends_on={'v': 'stim'}, bias=True)\n",
    "controls_model.load_db(dbname='language_decision/models/controls', db='txt')\n",
    "\n",
    "controls_model_threshold = hddm.HDDM(controls_data, depends_on={'v': 'stim', 'a': 'stim'}, bias=True)\n",
    "controls_model_threshold.load_db(dbname='language_decision/models/controls_threshold', db='txt')"
   ]
  },
  {
   "cell_type": "code",
   "execution_count": 4,
   "metadata": {},
   "outputs": [
    {
     "data": {
      "text/plain": [
       "<hddm.models.hddm_info.HDDM at 0x115b37710>"
      ]
     },
     "execution_count": 4,
     "metadata": {},
     "output_type": "execute_result"
    }
   ],
   "source": [
    "# Import patient models\n",
    "patients_data = hddm.load_csv('/lang_dec/data/patients_clean.csv')\n",
    "patients_model = hddm.HDDM(patients_data, depends_on={'v': 'stim'}, bias=True)\n",
    "patients_model.load_db(dbname='language_decision/models/patients', db='txt')\n",
    "\n",
    "patients_model_threshold = hddm.HDDM(patients_data, depends_on={'v': 'stim', 'a': 'stim'})\n",
    "patients_model_threshold.load_db(dbname='language_decision/models/patients_threshold', db='txt')"
   ]
  },
  {
   "cell_type": "markdown",
   "metadata": {},
   "source": [
    "## DDM vs Signal Detection Theory\n",
    "\n",
    "Comparing DDM to Signal Detection - does d' correlate with DDM parameters?"
   ]
  },
  {
   "cell_type": "code",
   "execution_count": 5,
   "metadata": {
    "collapsed": true
   },
   "outputs": [],
   "source": [
    "def get_d_primes(dataset, stim1, stim2, include_id=False):\n",
    "    d_primes = dict()\n",
    "    subject_ids = set(dataset.subj_idx)\n",
    "    for subject_id in subject_ids:\n",
    "        stim1_data = dataset.loc[\n",
    "            dataset['subj_idx'] == subject_id].loc[\n",
    "            dataset['stim'] == str(stim1)]\n",
    "        stim1_trials = len(stim1_data)\n",
    "        hits = len(stim1_data.loc[\n",
    "            dataset['response'] == 1.0])\n",
    "        \n",
    "        stim2_data = dataset.loc[\n",
    "            dataset['subj_idx'] == subject_id].loc[\n",
    "            dataset['stim'] == str(stim2)]\n",
    "        stim2_trials = len(stim2_data)\n",
    "        \n",
    "        fas = len(stim2_data.loc[\n",
    "            dataset['response'] == 0.0])\n",
    "        \n",
    "        if not stim1_trials or not stim2_trials:\n",
    "            d_primes[subject_id] = None # N/A placeholder value\n",
    "            continue\n",
    "        \n",
    "        d_prime = signal_detection.signal_detection(\n",
    "            n_stim1=stim1_trials, \n",
    "            n_stim2=stim2_trials, \n",
    "            hits=hits, \n",
    "            false_alarms=fas)['d_prime']\n",
    "        d_primes[subject_id] = d_prime\n",
    "       \n",
    "    if not include_id:\n",
    "        return list(d_primes.values())\n",
    "    return d_primes"
   ]
  },
  {
   "cell_type": "markdown",
   "metadata": {},
   "source": [
    "### Threshold difference / d'"
   ]
  },
  {
   "cell_type": "code",
   "execution_count": 6,
   "metadata": {
    "collapsed": true
   },
   "outputs": [],
   "source": [
    "def match_dprime_to_threshold(dataset, model, stim1, stim2):\n",
    "    subject_ids = set(dataset.subj_idx)\n",
    "    d_primes = get_d_primes(dataset, stim1, stim2, include_id=True)\n",
    "    for subject_id in subject_ids:\n",
    "        try:\n",
    "            d_prime = d_primes[subject_id]\n",
    "            threshold_stim1 = model.values['a_subj(' + stim1 + ').' + str(subject_id)]\n",
    "            threshold_stim2 = model.values['a_subj(' + stim2 + ').' + str(subject_id)]\n",
    "            threshold_diff = abs(threshold_stim2 - threshold_stim1)\n",
    "            yield (d_prime, threshold_diff)\n",
    "        except:\n",
    "            continue"
   ]
  },
  {
   "cell_type": "markdown",
   "metadata": {},
   "source": [
    "#### SS vs US"
   ]
  },
  {
   "cell_type": "code",
   "execution_count": 54,
   "metadata": {},
   "outputs": [
    {
     "data": {
      "text/plain": [
       "SpearmanrResult(correlation=-0.059293989339526398, pvalue=0.82732969410252977)"
      ]
     },
     "execution_count": 54,
     "metadata": {},
     "output_type": "execute_result"
    },
    {
     "data": {
      "image/png": "[encoded data removed]",
      "text/plain": [
       "<matplotlib.figure.Figure at 0x119b89390>"
      ]
     },
     "metadata": {},
     "output_type": "display_data"
    }
   ],
   "source": [
    "d2t_ss_us = np.array([*match_dprime_to_threshold(pilot_data, pilot_model_threshold, 'SS', 'US')])\n",
    "\n",
    "plt.scatter(d2t_ss_us[:,0], d2t_ss_us[:,1])\n",
    "scipy.stats.spearmanr(d2t_ss_us)"
   ]
  },
  {
   "cell_type": "code",
   "execution_count": 8,
   "metadata": {},
   "outputs": [
    {
     "data": {
      "text/plain": [
       "SpearmanrResult(correlation=0.27322953332351235, pvalue=0.60035459042911143)"
      ]
     },
     "execution_count": 8,
     "metadata": {},
     "output_type": "execute_result"
    },
    {
     "data": {
      "image/png": "[encoded data removed]",
      "text/plain": [
       "<matplotlib.figure.Figure at 0x115671a90>"
      ]
     },
     "metadata": {},
     "output_type": "display_data"
    }
   ],
   "source": [
    "d2t_ss_us = np.array([*match_dprime_to_threshold(controls_data, controls_model_threshold, 'SS', 'US')])\n",
    "\n",
    "plt.scatter(d2t_ss_us[:,0], d2t_ss_us[:,1])\n",
    "scipy.stats.spearmanr(d2t_ss_us)"
   ]
  },
  {
   "cell_type": "code",
   "execution_count": 9,
   "metadata": {},
   "outputs": [
    {
     "data": {
      "text/plain": [
       "SpearmanrResult(correlation=0.66060606060606053, pvalue=0.037588377571409391)"
      ]
     },
     "execution_count": 9,
     "metadata": {},
     "output_type": "execute_result"
    },
    {
     "data": {
      "image/png": "[encoded data removed]",
      "text/plain": [
       "<matplotlib.figure.Figure at 0x115ec5438>"
      ]
     },
     "metadata": {},
     "output_type": "display_data"
    }
   ],
   "source": [
    "d2t_ss_us = np.array([*match_dprime_to_threshold(patients_data, patients_model_threshold, 'SS', 'US')])\n",
    "\n",
    "plt.scatter(d2t_ss_us[:,0], d2t_ss_us[:,1])\n",
    "scipy.stats.spearmanr(d2t_ss_us)"
   ]
  },
  {
   "cell_type": "markdown",
   "metadata": {},
   "source": [
    "#### SS vs CS"
   ]
  },
  {
   "cell_type": "code",
   "execution_count": 10,
   "metadata": {},
   "outputs": [
    {
     "data": {
      "text/plain": [
       "SpearmanrResult(correlation=-0.40487450835060296, pvalue=0.1197982750976964)"
      ]
     },
     "execution_count": 10,
     "metadata": {},
     "output_type": "execute_result"
    },
    {
     "data": {
      "image/png": "[encoded data removed]",
      "text/plain": [
       "<matplotlib.figure.Figure at 0x11960f208>"
      ]
     },
     "metadata": {},
     "output_type": "display_data"
    }
   ],
   "source": [
    "d2t_ss_cs = np.array([*match_dprime_to_threshold(pilot_data, pilot_model_threshold, 'SS', 'CS')])\n",
    "\n",
    "plt.scatter(d2t_ss_cs[:,0], d2t_ss_cs[:,1])\n",
    "scipy.stats.spearmanr(d2t_ss_cs)"
   ]
  },
  {
   "cell_type": "code",
   "execution_count": 11,
   "metadata": {},
   "outputs": [
    {
     "data": {
      "text/plain": [
       "SpearmanrResult(correlation=-0.25714285714285717, pvalue=0.62278717201166178)"
      ]
     },
     "execution_count": 11,
     "metadata": {},
     "output_type": "execute_result"
    },
    {
     "data": {
      "image/png": "[encoded data removed]",
      "text/plain": [
       "<matplotlib.figure.Figure at 0x115e86160>"
      ]
     },
     "metadata": {},
     "output_type": "display_data"
    }
   ],
   "source": [
    "d2t_ss_cs = np.array([*match_dprime_to_threshold(controls_data, controls_model_threshold, 'SS', 'CS')])\n",
    "\n",
    "plt.scatter(d2t_ss_cs[:,0], d2t_ss_cs[:,1])\n",
    "scipy.stats.spearmanr(d2t_ss_cs)"
   ]
  },
  {
   "cell_type": "code",
   "execution_count": 12,
   "metadata": {},
   "outputs": [
    {
     "data": {
      "text/plain": [
       "SpearmanrResult(correlation=-0.49090909090909085, pvalue=0.14965567342083677)"
      ]
     },
     "execution_count": 12,
     "metadata": {},
     "output_type": "execute_result"
    },
    {
     "data": {
      "image/png": "[encoded data removed]",
      "text/plain": [
       "<matplotlib.figure.Figure at 0x1198b96a0>"
      ]
     },
     "metadata": {},
     "output_type": "display_data"
    }
   ],
   "source": [
    "d2t_ss_cs = np.array([*match_dprime_to_threshold(patients_data, patients_model_threshold, 'SS', 'CS')])\n",
    "\n",
    "plt.scatter(d2t_ss_cs[:,0], d2t_ss_cs[:,1])\n",
    "scipy.stats.spearmanr(d2t_ss_cs)"
   ]
  },
  {
   "cell_type": "markdown",
   "metadata": {},
   "source": [
    "#### SS vs CP"
   ]
  },
  {
   "cell_type": "code",
   "execution_count": 13,
   "metadata": {},
   "outputs": [
    {
     "data": {
      "text/plain": [
       "SpearmanrResult(correlation=0.38166348634199038, pvalue=0.1446439813312958)"
      ]
     },
     "execution_count": 13,
     "metadata": {},
     "output_type": "execute_result"
    },
    {
     "data": {
      "image/png": "[encoded data removed]",
      "text/plain": [
       "<matplotlib.figure.Figure at 0x119a7c128>"
      ]
     },
     "metadata": {},
     "output_type": "display_data"
    }
   ],
   "source": [
    "d2t_ss_cp = np.array([*match_dprime_to_threshold(pilot_data, pilot_model_threshold, 'SS', 'CP')])\n",
    "\n",
    "plt.scatter(d2t_ss_cp[:,0], d2t_ss_cp[:,1])\n",
    "scipy.stats.spearmanr(d2t_ss_cp)"
   ]
  },
  {
   "cell_type": "code",
   "execution_count": 14,
   "metadata": {},
   "outputs": [
    {
     "data": {
      "text/plain": [
       "SpearmanrResult(correlation=-0.14285714285714288, pvalue=0.7871720116618075)"
      ]
     },
     "execution_count": 14,
     "metadata": {},
     "output_type": "execute_result"
    },
    {
     "data": {
      "image/png": "[encoded data removed]",
      "text/plain": [
       "<matplotlib.figure.Figure at 0x119a9f4e0>"
      ]
     },
     "metadata": {},
     "output_type": "display_data"
    }
   ],
   "source": [
    "d2t_ss_cp = np.array([*match_dprime_to_threshold(controls_data, controls_model_threshold, 'SS', 'CP')])\n",
    "\n",
    "plt.scatter(d2t_ss_cp[:,0], d2t_ss_cp[:,1])\n",
    "scipy.stats.spearmanr(d2t_ss_cp)"
   ]
  },
  {
   "cell_type": "code",
   "execution_count": 15,
   "metadata": {},
   "outputs": [
    {
     "data": {
      "text/plain": [
       "SpearmanrResult(correlation=-0.68333333333333335, pvalue=0.042442272087072311)"
      ]
     },
     "execution_count": 15,
     "metadata": {},
     "output_type": "execute_result"
    },
    {
     "data": {
      "image/png": "[encoded data removed]",
      "text/plain": [
       "<matplotlib.figure.Figure at 0x119970f28>"
      ]
     },
     "metadata": {},
     "output_type": "display_data"
    }
   ],
   "source": [
    "d2t_ss_cp = np.array([*match_dprime_to_threshold(patients_data, patients_model_threshold, 'SS', 'CP')])\n",
    "\n",
    "plt.scatter(d2t_ss_cp[:,0], d2t_ss_cp[:,1])\n",
    "scipy.stats.spearmanr(d2t_ss_cp)"
   ]
  },
  {
   "cell_type": "markdown",
   "metadata": {},
   "source": [
    "### Drift rate / d'"
   ]
  },
  {
   "cell_type": "code",
   "execution_count": 16,
   "metadata": {
    "collapsed": true
   },
   "outputs": [],
   "source": [
    "def match_dprime_to_driftrate(dataset, model, stim1, stim2):\n",
    "    subject_ids = set(dataset.subj_idx)\n",
    "    d_primes = get_d_primes(dataset, stim1, stim2, include_id=True)\n",
    "    for subject_id in subject_ids:\n",
    "        try:\n",
    "            d_prime = d_primes[subject_id]\n",
    "            v_stim1 = model.values['v_subj(' + stim1 + ').' + str(subject_id)]\n",
    "            v_stim2 = model.values['v_subj(' + stim2 + ').' + str(subject_id)]\n",
    "            v_diff = abs(v_stim2 - v_stim1)\n",
    "            yield (d_prime, v_diff)\n",
    "        except: \n",
    "            continue"
   ]
  },
  {
   "cell_type": "markdown",
   "metadata": {},
   "source": [
    "#### SS vs US"
   ]
  },
  {
   "cell_type": "code",
   "execution_count": 17,
   "metadata": {},
   "outputs": [
    {
     "data": {
      "text/plain": [
       "SpearmanrResult(correlation=-0.29959068297865976, pvalue=0.25961865774098775)"
      ]
     },
     "execution_count": 17,
     "metadata": {},
     "output_type": "execute_result"
    },
    {
     "data": {
      "image/png": "[encoded data removed]",
      "text/plain": [
       "<matplotlib.figure.Figure at 0x119cb1ac8>"
      ]
     },
     "metadata": {},
     "output_type": "display_data"
    }
   ],
   "source": [
    "d2v_ss_us = np.array([*match_dprime_to_driftrate(pilot_data, pilot_model_threshold, 'SS', 'US')])\n",
    "plt.scatter(d2v_ss_us[:,0], d2v_ss_us[:,1])\n",
    "scipy.stats.spearmanr(d2v_ss_us)"
   ]
  },
  {
   "cell_type": "code",
   "execution_count": 18,
   "metadata": {},
   "outputs": [
    {
     "data": {
      "text/plain": [
       "SpearmanrResult(correlation=0.21251185925162072, pvalue=0.68603086600889585)"
      ]
     },
     "execution_count": 18,
     "metadata": {},
     "output_type": "execute_result"
    },
    {
     "data": {
      "image/png": "[encoded data removed]",
      "text/plain": [
       "<matplotlib.figure.Figure at 0x119d34eb8>"
      ]
     },
     "metadata": {},
     "output_type": "display_data"
    }
   ],
   "source": [
    "d2v_ss_us = np.array([*match_dprime_to_driftrate(controls_data, controls_model_threshold, 'SS', 'US')])\n",
    "plt.scatter(d2v_ss_us[:,0], d2v_ss_us[:,1])\n",
    "scipy.stats.spearmanr(d2v_ss_us)"
   ]
  },
  {
   "cell_type": "code",
   "execution_count": 19,
   "metadata": {},
   "outputs": [
    {
     "data": {
      "text/plain": [
       "SpearmanrResult(correlation=-0.018181818181818181, pvalue=0.96024041812862426)"
      ]
     },
     "execution_count": 19,
     "metadata": {},
     "output_type": "execute_result"
    },
    {
     "data": {
      "image/png": "[encoded data removed]",
      "text/plain": [
       "<matplotlib.figure.Figure at 0x119a737f0>"
      ]
     },
     "metadata": {},
     "output_type": "display_data"
    }
   ],
   "source": [
    "d2v_ss_us = np.array([*match_dprime_to_driftrate(patients_data, patients_model_threshold, 'SS', 'US')])\n",
    "plt.scatter(d2v_ss_us[:,0], d2v_ss_us[:,1])\n",
    "scipy.stats.spearmanr(d2v_ss_us)"
   ]
  },
  {
   "cell_type": "markdown",
   "metadata": {},
   "source": [
    "#### SS vs CS"
   ]
  },
  {
   "cell_type": "code",
   "execution_count": 20,
   "metadata": {},
   "outputs": [
    {
     "data": {
      "text/plain": [
       "SpearmanrResult(correlation=-0.092971183399027324, pvalue=0.73200385751893948)"
      ]
     },
     "execution_count": 20,
     "metadata": {},
     "output_type": "execute_result"
    },
    {
     "data": {
      "image/png": "[encoded data removed]",
      "text/plain": [
       "<matplotlib.figure.Figure at 0x119d1dc88>"
      ]
     },
     "metadata": {},
     "output_type": "display_data"
    }
   ],
   "source": [
    "d2v_ss_cs = np.array([*match_dprime_to_driftrate(pilot_data, pilot_model_threshold, 'SS', 'CS')])\n",
    "plt.scatter(d2v_ss_cs[:,0], d2v_ss_cs[:,1])\n",
    "scipy.stats.spearmanr(d2v_ss_cs)"
   ]
  },
  {
   "cell_type": "code",
   "execution_count": 21,
   "metadata": {},
   "outputs": [
    {
     "data": {
      "text/plain": [
       "SpearmanrResult(correlation=-0.028571428571428574, pvalue=0.95715451895043735)"
      ]
     },
     "execution_count": 21,
     "metadata": {},
     "output_type": "execute_result"
    },
    {
     "data": {
      "image/png": "[encoded data removed]",
      "text/plain": [
       "<matplotlib.figure.Figure at 0x119b9f080>"
      ]
     },
     "metadata": {},
     "output_type": "display_data"
    }
   ],
   "source": [
    "d2v_ss_cs = np.array([*match_dprime_to_driftrate(controls_data, controls_model_threshold, 'SS', 'CS')])\n",
    "plt.scatter(d2v_ss_cs[:,0], d2v_ss_cs[:,1])\n",
    "scipy.stats.spearmanr(d2v_ss_cs)"
   ]
  },
  {
   "cell_type": "code",
   "execution_count": 22,
   "metadata": {},
   "outputs": [
    {
     "data": {
      "text/plain": [
       "SpearmanrResult(correlation=-0.63636363636363624, pvalue=0.04791172612997547)"
      ]
     },
     "execution_count": 22,
     "metadata": {},
     "output_type": "execute_result"
    },
    {
     "data": {
      "image/png": "[encoded data removed]",
      "text/plain": [
       "<matplotlib.figure.Figure at 0x119d34fd0>"
      ]
     },
     "metadata": {},
     "output_type": "display_data"
    }
   ],
   "source": [
    "d2v_ss_cs = np.array([*match_dprime_to_driftrate(patients_data, patients_model_threshold, 'SS', 'CS')])\n",
    "plt.scatter(d2v_ss_cs[:,0], d2v_ss_cs[:,1])\n",
    "scipy.stats.spearmanr(d2v_ss_cs)"
   ]
  },
  {
   "cell_type": "markdown",
   "metadata": {},
   "source": [
    "#### SS vs CP"
   ]
  },
  {
   "cell_type": "code",
   "execution_count": 23,
   "metadata": {},
   "outputs": [
    {
     "data": {
      "text/plain": [
       "SpearmanrResult(correlation=0.0014793158385348465, pvalue=0.99566175193362283)"
      ]
     },
     "execution_count": 23,
     "metadata": {},
     "output_type": "execute_result"
    },
    {
     "data": {
      "image/png": "[encoded data removed]",
      "text/plain": [
       "<matplotlib.figure.Figure at 0x11996d978>"
      ]
     },
     "metadata": {},
     "output_type": "display_data"
    }
   ],
   "source": [
    "d2v_ss_cp = np.array([*match_dprime_to_driftrate(pilot_data, pilot_model_threshold, 'SS', 'CP')])\n",
    "plt.scatter(d2v_ss_cp[:,0], d2v_ss_cp[:,1])\n",
    "scipy.stats.spearmanr(d2v_ss_cp)"
   ]
  },
  {
   "cell_type": "code",
   "execution_count": 24,
   "metadata": {},
   "outputs": [
    {
     "data": {
      "text/plain": [
       "SpearmanrResult(correlation=-0.59999999999999998, pvalue=0.20799999999999982)"
      ]
     },
     "execution_count": 24,
     "metadata": {},
     "output_type": "execute_result"
    },
    {
     "data": {
      "image/png": "[encoded data removed]",
      "text/plain": [
       "<matplotlib.figure.Figure at 0x119ad4a90>"
      ]
     },
     "metadata": {},
     "output_type": "display_data"
    }
   ],
   "source": [
    "d2v_ss_cp = np.array([*match_dprime_to_driftrate(controls_data, controls_model_threshold, 'SS', 'CP')])\n",
    "plt.scatter(d2v_ss_cp[:,0], d2v_ss_cp[:,1])\n",
    "scipy.stats.spearmanr(d2v_ss_cp)"
   ]
  },
  {
   "cell_type": "code",
   "execution_count": 25,
   "metadata": {},
   "outputs": [
    {
     "data": {
      "text/plain": [
       "SpearmanrResult(correlation=-0.79999999999999993, pvalue=0.0096279247253798304)"
      ]
     },
     "execution_count": 25,
     "metadata": {},
     "output_type": "execute_result"
    },
    {
     "data": {
      "image/png": "[encoded data removed]",
      "text/plain": [
       "<matplotlib.figure.Figure at 0x119843e80>"
      ]
     },
     "metadata": {},
     "output_type": "display_data"
    }
   ],
   "source": [
    "d2v_ss_cp = np.array([*match_dprime_to_driftrate(patients_data, patients_model_threshold, 'SS', 'CP')])\n",
    "plt.scatter(d2v_ss_cp[:,0], d2v_ss_cp[:,1])\n",
    "scipy.stats.spearmanr(d2v_ss_cp)"
   ]
  },
  {
   "cell_type": "markdown",
   "metadata": {},
   "source": [
    "### Drift rate & threshold diff / d'"
   ]
  },
  {
   "cell_type": "code",
   "execution_count": 26,
   "metadata": {
    "collapsed": true
   },
   "outputs": [],
   "source": [
    "def match_dprime_to_combined(dataset, model, stim1, stim2):\n",
    "    subject_ids = set(dataset.subj_idx)\n",
    "    d_primes = get_d_primes(dataset, stim1, stim2, include_id=True)\n",
    "    for subject_id in subject_ids:\n",
    "        try:\n",
    "            d_prime = d_primes[subject_id]\n",
    "            v_stim1 = model.values['v_subj(' + stim1 + ').' + str(subject_id)]\n",
    "            v_stim2 = model.values['v_subj(' + stim2 + ').' + str(subject_id)]\n",
    "            v_diff = (v_stim2 - v_stim1)\n",
    "            threshold_stim1 = model.values['a_subj(' + stim1 + ').' + str(subject_id)]\n",
    "            threshold_stim2 = model.values['a_subj(' + stim2 + ').' + str(subject_id)]\n",
    "            threshold_diff = abs(threshold_stim2 - threshold_stim1)\n",
    "            yield (d_prime, threshold_diff * v_diff )\n",
    "        except: \n",
    "            continue"
   ]
  },
  {
   "cell_type": "markdown",
   "metadata": {},
   "source": [
    "#### SS vs US"
   ]
  },
  {
   "cell_type": "code",
   "execution_count": 27,
   "metadata": {},
   "outputs": [
    {
     "data": {
      "text/plain": [
       "SpearmanrResult(correlation=-0.16851975917549611, pvalue=0.53270184950420307)"
      ]
     },
     "execution_count": 27,
     "metadata": {},
     "output_type": "execute_result"
    },
    {
     "data": {
      "image/png": "[encoded data removed]",
      "text/plain": [
       "<matplotlib.figure.Figure at 0x115deaf98>"
      ]
     },
     "metadata": {},
     "output_type": "display_data"
    }
   ],
   "source": [
    "combined_ss_us = np.array([*match_dprime_to_combined(pilot_data, pilot_model_threshold, 'SS', 'US')])\n",
    "plt.scatter(combined_ss_us[:,0], combined_ss_us[:,1])\n",
    "scipy.stats.spearmanr(combined_ss_us)"
   ]
  },
  {
   "cell_type": "code",
   "execution_count": 28,
   "metadata": {},
   "outputs": [
    {
     "data": {
      "text/plain": [
       "SpearmanrResult(correlation=0.21251185925162072, pvalue=0.68603086600889585)"
      ]
     },
     "execution_count": 28,
     "metadata": {},
     "output_type": "execute_result"
    },
    {
     "data": {
      "image/png": "[encoded data removed]",
      "text/plain": [
       "<matplotlib.figure.Figure at 0x119e90f60>"
      ]
     },
     "metadata": {},
     "output_type": "display_data"
    }
   ],
   "source": [
    "combined_ss_us = np.array([*match_dprime_to_combined(controls_data, controls_model_threshold, 'SS', 'US')])\n",
    "plt.scatter(combined_ss_us[:,0], combined_ss_us[:,1])\n",
    "scipy.stats.spearmanr(combined_ss_us)"
   ]
  },
  {
   "cell_type": "code",
   "execution_count": 29,
   "metadata": {},
   "outputs": [
    {
     "data": {
      "text/plain": [
       "SpearmanrResult(correlation=0.63636363636363624, pvalue=0.04791172612997547)"
      ]
     },
     "execution_count": 29,
     "metadata": {},
     "output_type": "execute_result"
    },
    {
     "data": {
      "image/png": "[encoded data removed]",
      "text/plain": [
       "<matplotlib.figure.Figure at 0x119626208>"
      ]
     },
     "metadata": {},
     "output_type": "display_data"
    }
   ],
   "source": [
    "combined_ss_us = np.array([*match_dprime_to_combined(patients_data, patients_model_threshold, 'SS', 'US')])\n",
    "plt.scatter(combined_ss_us[:,0], combined_ss_us[:,1])\n",
    "scipy.stats.spearmanr(combined_ss_us)"
   ]
  },
  {
   "cell_type": "markdown",
   "metadata": {},
   "source": [
    "#### SS vs CS"
   ]
  },
  {
   "cell_type": "code",
   "execution_count": 30,
   "metadata": {},
   "outputs": [
    {
     "data": {
      "text/plain": [
       "SpearmanrResult(correlation=-0.41837032529562307, pvalue=0.10680400008461202)"
      ]
     },
     "execution_count": 30,
     "metadata": {},
     "output_type": "execute_result"
    },
    {
     "data": {
      "image/png": "[encoded data removed]",
      "text/plain": [
       "<matplotlib.figure.Figure at 0x11985b390>"
      ]
     },
     "metadata": {},
     "output_type": "display_data"
    }
   ],
   "source": [
    "combined_ss_cs = np.array([*match_dprime_to_combined(pilot_data, pilot_model_threshold, 'SS', 'CS')])\n",
    "plt.scatter(combined_ss_cs[:,0], combined_ss_cs[:,1])\n",
    "scipy.stats.spearmanr(combined_ss_cs)"
   ]
  },
  {
   "cell_type": "code",
   "execution_count": 31,
   "metadata": {},
   "outputs": [
    {
     "data": {
      "text/plain": [
       "SpearmanrResult(correlation=-0.31428571428571428, pvalue=0.54409329446064136)"
      ]
     },
     "execution_count": 31,
     "metadata": {},
     "output_type": "execute_result"
    },
    {
     "data": {
      "image/png": "[encoded data removed]",
      "text/plain": [
       "<matplotlib.figure.Figure at 0x115dd7198>"
      ]
     },
     "metadata": {},
     "output_type": "display_data"
    }
   ],
   "source": [
    "combined_ss_cs = np.array([*match_dprime_to_combined(controls_data, controls_model_threshold, 'SS', 'CS')])\n",
    "plt.scatter(combined_ss_cs[:,0], combined_ss_cs[:,1])\n",
    "scipy.stats.spearmanr(combined_ss_cs)"
   ]
  },
  {
   "cell_type": "code",
   "execution_count": 32,
   "metadata": {},
   "outputs": [
    {
     "data": {
      "text/plain": [
       "SpearmanrResult(correlation=0.18787878787878787, pvalue=0.60321761002920904)"
      ]
     },
     "execution_count": 32,
     "metadata": {},
     "output_type": "execute_result"
    },
    {
     "data": {
      "image/png": "[encoded data removed]",
      "text/plain": [
       "<matplotlib.figure.Figure at 0x115e77278>"
      ]
     },
     "metadata": {},
     "output_type": "display_data"
    }
   ],
   "source": [
    "combined_ss_cs = np.array([*match_dprime_to_combined(patients_data, patients_model_threshold, 'SS', 'CS')])\n",
    "plt.scatter(combined_ss_cs[:,0], combined_ss_cs[:,1])\n",
    "scipy.stats.spearmanr(combined_ss_cs)"
   ]
  },
  {
   "cell_type": "markdown",
   "metadata": {},
   "source": [
    "#### SS vs CP"
   ]
  },
  {
   "cell_type": "code",
   "execution_count": 33,
   "metadata": {},
   "outputs": [
    {
     "data": {
      "text/plain": [
       "SpearmanrResult(correlation=-0.39645664472733888, pvalue=0.1284379231276789)"
      ]
     },
     "execution_count": 33,
     "metadata": {},
     "output_type": "execute_result"
    },
    {
     "data": {
      "image/png": "[encoded data removed]",
      "text/plain": [
       "<matplotlib.figure.Figure at 0x119c02ef0>"
      ]
     },
     "metadata": {},
     "output_type": "display_data"
    }
   ],
   "source": [
    "combined_ss_cp = np.array([*match_dprime_to_combined(pilot_data, pilot_model_threshold, 'SS', 'CP')])\n",
    "plt.scatter(combined_ss_cp[:,0], combined_ss_cp[:,1])\n",
    "scipy.stats.spearmanr(combined_ss_cp)"
   ]
  },
  {
   "cell_type": "code",
   "execution_count": 34,
   "metadata": {},
   "outputs": [
    {
     "data": {
      "text/plain": [
       "SpearmanrResult(correlation=0.25714285714285717, pvalue=0.62278717201166178)"
      ]
     },
     "execution_count": 34,
     "metadata": {},
     "output_type": "execute_result"
    },
    {
     "data": {
      "image/png": "[encoded data removed]",
      "text/plain": [
       "<matplotlib.figure.Figure at 0x119bb4c88>"
      ]
     },
     "metadata": {},
     "output_type": "display_data"
    }
   ],
   "source": [
    "combined_ss_cp = np.array([*match_dprime_to_combined(controls_data, controls_model_threshold, 'SS', 'CP')])\n",
    "plt.scatter(combined_ss_cp[:,0], combined_ss_cp[:,1])\n",
    "scipy.stats.spearmanr(combined_ss_cp)"
   ]
  },
  {
   "cell_type": "code",
   "execution_count": 35,
   "metadata": {},
   "outputs": [
    {
     "data": {
      "text/plain": [
       "SpearmanrResult(correlation=0.34999999999999998, pvalue=0.35581957250178897)"
      ]
     },
     "execution_count": 35,
     "metadata": {},
     "output_type": "execute_result"
    },
    {
     "data": {
      "image/png": "[encoded data removed]",
      "text/plain": [
       "<matplotlib.figure.Figure at 0x119a9d1d0>"
      ]
     },
     "metadata": {},
     "output_type": "display_data"
    }
   ],
   "source": [
    "combined_ss_cp = np.array([*match_dprime_to_combined(patients_data, patients_model_threshold, 'SS', 'CP')])\n",
    "plt.scatter(combined_ss_cp[:,0], combined_ss_cp[:,1])\n",
    "scipy.stats.spearmanr(combined_ss_cp)"
   ]
  },
  {
   "cell_type": "markdown",
   "metadata": {},
   "source": [
    "### Low d' comparisons\n",
    "\n",
    "Compare ddm drift rate only with low d'\n",
    "\n",
    "Ratcliff, R. (2014). Measuring psychometric functions with the diffusion model. Journal of Experimental Psychology: Human Perception and Performance, 40(2), 870-888.\n",
    "http://dx.doi.org/10.1037/a0034954\n",
    "\n",
    "Patients are the best candidates for this (SSvsCS, SSvsCP)"
   ]
  },
  {
   "cell_type": "code",
   "execution_count": 36,
   "metadata": {},
   "outputs": [
    {
     "data": {
      "text/plain": [
       "SpearmanrResult(correlation=-0.63636363636363624, pvalue=0.04791172612997547)"
      ]
     },
     "execution_count": 36,
     "metadata": {},
     "output_type": "execute_result"
    },
    {
     "data": {
      "image/png": "[encoded data removed]",
      "text/plain": [
       "<matplotlib.figure.Figure at 0x119b9c6a0>"
      ]
     },
     "metadata": {},
     "output_type": "display_data"
    }
   ],
   "source": [
    "d2v_ss_cs = np.array([*match_dprime_to_driftrate(patients_data, \n",
    "                                                 patients_model_threshold, 'SS', 'CS')])\n",
    "plt.scatter(d2v_ss_cs[:,0], d2v_ss_cs[:,1])\n",
    "scipy.stats.spearmanr(d2v_ss_cs)"
   ]
  },
  {
   "cell_type": "code",
   "execution_count": 37,
   "metadata": {},
   "outputs": [
    {
     "data": {
      "text/plain": [
       "SpearmanrResult(correlation=-0.79999999999999993, pvalue=0.0096279247253798304)"
      ]
     },
     "execution_count": 37,
     "metadata": {},
     "output_type": "execute_result"
    },
    {
     "data": {
      "image/png": "[encoded data removed]",
      "text/plain": [
       "<matplotlib.figure.Figure at 0x119873828>"
      ]
     },
     "metadata": {},
     "output_type": "display_data"
    }
   ],
   "source": [
    "d2v_ss_cp = np.array([*match_dprime_to_driftrate(patients_data, \n",
    "                                                 patients_model_threshold, 'SS', 'CP')])\n",
    "plt.scatter(d2v_ss_cp[:,0], d2v_ss_cp[:,1])\n",
    "scipy.stats.spearmanr(d2v_ss_cp)"
   ]
  },
  {
   "cell_type": "markdown",
   "metadata": {},
   "source": [
    "## Threshold normalised against decision time vs d'"
   ]
  },
  {
   "cell_type": "code",
   "execution_count": 298,
   "metadata": {},
   "outputs": [],
   "source": [
    "def match_dprime_to_norm_threshold(dataset, model, stim1, stim2):\n",
    "    subject_ids = set(dataset.subj_idx)\n",
    "    d_primes = get_d_primes(dataset, stim1, stim2, include_id=True)\n",
    "    for subject_id in subject_ids:\n",
    "        try:\n",
    "            d_prime = d_primes[subject_id]\n",
    "            threshold_stim1 = model.values['a_subj(' + stim1 + ').' + str(subject_id)]\n",
    "            threshold_stim2 = model.values['a_subj(' + stim2 + ').' + str(subject_id)]\n",
    "            threshold_diff = abs(threshold_stim2 - threshold_stim1)\n",
    "            \n",
    "            t = model.values['t_subj.' + str(subject_id)]\n",
    "            rt_stim1 = dataset.loc[\n",
    "                dataset['subj_idx'] == subject_id].loc[\n",
    "                dataset['stim'] == stim1].rt.median()\n",
    "            rt_stim2 = dataset.loc[\n",
    "                dataset['subj_idx'] == subject_id].loc[\n",
    "                dataset['stim'] == stim2].rt.median()\n",
    "            rt_diff = abs((rt_stim2 - rt_stim1) - t)\n",
    "            z = model.values['z_subj.' + str(subject_id)]\n",
    "            yield (d_prime, (abs(0.5-z) * threshold_diff * (1/rt_diff)))\n",
    "        except:\n",
    "            continue"
   ]
  },
  {
   "cell_type": "code",
   "execution_count": 302,
   "metadata": {},
   "outputs": [
    {
     "name": "stdout",
     "output_type": "stream",
     "text": [
      "[[ 1.48725198  0.12145526]\n",
      " [ 3.0954668   0.03070847]\n",
      " [ 3.96195987  0.01392553]\n",
      " [ 3.62913118  0.02019818]\n",
      " [ 3.96195987  0.01354893]\n",
      " [ 3.96195987  0.03579909]]\n"
     ]
    },
    {
     "data": {
      "text/plain": [
       "SpearmanrResult(correlation=-0.63753557775486214, pvalue=0.1732603152985335)"
      ]
     },
     "execution_count": 302,
     "metadata": {},
     "output_type": "execute_result"
    },
    {
     "data": {
      "image/png": "[encoded data removed]",
      "text/plain": [
       "<matplotlib.figure.Figure at 0x11a2541d0>"
      ]
     },
     "metadata": {},
     "output_type": "display_data"
    }
   ],
   "source": [
    "darray = np.array([*match_dprime_to_norm_threshold(controls_data, \n",
    "                                                      controls_model_threshold, 'SS', 'US')])\n",
    "\n",
    "print(darray)\n",
    "x = darray[:,0]\n",
    "y = darray[:,1]\n",
    "plt.scatter(x, y)\n",
    "\n",
    "scipy.stats.spearmanr(x, y)"
   ]
  },
  {
   "cell_type": "code",
   "execution_count": 221,
   "metadata": {},
   "outputs": [
    {
     "ename": "IndexError",
     "evalue": "too many indices for array",
     "output_type": "error",
     "traceback": [
      "\u001b[0;31m---------------------------------------------------------------------------\u001b[0m",
      "\u001b[0;31mIndexError\u001b[0m                                Traceback (most recent call last)",
      "\u001b[0;32m<ipython-input-221-3cc5f4b571c6>\u001b[0m in \u001b[0;36m<module>\u001b[0;34m()\u001b[0m\n\u001b[1;32m      1\u001b[0m d2v_ss_cp = np.array([*match_dprime_to_norm_threshold(patients_data, \n\u001b[1;32m      2\u001b[0m                                                  patients_model_threshold, 'SS', 'US')])\n\u001b[0;32m----> 3\u001b[0;31m \u001b[0mplt\u001b[0m\u001b[0;34m.\u001b[0m\u001b[0mscatter\u001b[0m\u001b[0;34m(\u001b[0m\u001b[0md2v_ss_cp\u001b[0m\u001b[0;34m[\u001b[0m\u001b[0;34m:\u001b[0m\u001b[0;34m,\u001b[0m\u001b[0;36m0\u001b[0m\u001b[0;34m]\u001b[0m\u001b[0;34m,\u001b[0m \u001b[0md2v_ss_cp\u001b[0m\u001b[0;34m[\u001b[0m\u001b[0;34m:\u001b[0m\u001b[0;34m,\u001b[0m\u001b[0;36m1\u001b[0m\u001b[0;34m]\u001b[0m\u001b[0;34m)\u001b[0m\u001b[0;34m\u001b[0m\u001b[0m\n\u001b[0m\u001b[1;32m      4\u001b[0m \u001b[0mscipy\u001b[0m\u001b[0;34m.\u001b[0m\u001b[0mstats\u001b[0m\u001b[0;34m.\u001b[0m\u001b[0mspearmanr\u001b[0m\u001b[0;34m(\u001b[0m\u001b[0md2v_ss_cp\u001b[0m\u001b[0;34m[\u001b[0m\u001b[0;34m:\u001b[0m\u001b[0;34m,\u001b[0m\u001b[0;36m0\u001b[0m\u001b[0;34m]\u001b[0m\u001b[0;34m,\u001b[0m \u001b[0md2v_ss_cp\u001b[0m\u001b[0;34m[\u001b[0m\u001b[0;34m:\u001b[0m\u001b[0;34m,\u001b[0m\u001b[0;36m1\u001b[0m\u001b[0;34m]\u001b[0m\u001b[0;34m)\u001b[0m\u001b[0;34m\u001b[0m\u001b[0m\n",
      "\u001b[0;31mIndexError\u001b[0m: too many indices for array"
     ]
    }
   ],
   "source": [
    "d2v_ss_cp = np.array([*match_dprime_to_norm_threshold(patients_data, \n",
    "                                                 patients_model_threshold, 'SS', 'US')])\n",
    "plt.scatter(d2v_ss_cp[:,0], d2v_ss_cp[:,1])\n",
    "scipy.stats.spearmanr(d2v_ss_cp[:,0], d2v_ss_cp[:,1])"
   ]
  },
  {
   "cell_type": "code",
   "execution_count": 150,
   "metadata": {},
   "outputs": [
    {
     "data": {
      "text/plain": [
       "SpearmanrResult(correlation=-0.19660638570474545, pvalue=0.46551098093010357)"
      ]
     },
     "execution_count": 150,
     "metadata": {},
     "output_type": "execute_result"
    },
    {
     "data": {
      "image/png": "[encoded data removed]",
      "text/plain": [
       "<matplotlib.figure.Figure at 0x11a35c710>"
      ]
     },
     "metadata": {},
     "output_type": "display_data"
    }
   ],
   "source": [
    "d2v_ss_cp = np.array([*match_dprime_to_norm_threshold(pilot_data, \n",
    "                                                 pilot_model_threshold, 'SS', 'US')])\n",
    "plt.scatter(d2v_ss_cp[:,0], d2v_ss_cp[:,1])\n",
    "scipy.stats.spearmanr(d2v_ss_cp)"
   ]
  }
 ],
 "metadata": {
  "kernelspec": {
   "display_name": "Python 3",
   "language": "python",
   "name": "python3"
  },
  "language_info": {
   "codemirror_mode": {
    "name": "ipython",
    "version": 3
   },
   "file_extension": ".py",
   "mimetype": "text/x-python",
   "name": "python",
   "nbconvert_exporter": "python",
   "pygments_lexer": "ipython3",
   "version": "3.5.3"
  }
 },
 "nbformat": 4,
 "nbformat_minor": 2
}
