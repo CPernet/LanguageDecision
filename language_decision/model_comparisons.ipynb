{
 "cells": [
  {
   "cell_type": "markdown",
   "metadata": {},
   "source": [
    "# Model Comparisons\n",
    "\n",
    "Comparing the DDM to other congitive models"
   ]
  },
  {
   "cell_type": "code",
   "execution_count": 333,
   "metadata": {},
   "outputs": [
    {
     "name": "stdout",
     "output_type": "stream",
     "text": [
      "/Users/celefthe/Programming/projects/language_decision\n"
     ]
    }
   ],
   "source": [
    "# Environment setup\n",
    "%matplotlib inline\n",
    "%cd /lang_dec\n",
    "# Imports\n",
    "import warnings; warnings.filterwarnings('ignore')\n",
    "import hddm\n",
    "import math\n",
    "import scipy\n",
    "import numpy as np\n",
    "import matplotlib.pyplot as plt\n",
    "import seaborn as sns\n",
    "import bayesian_bootstrap.bootstrap as bootstrap\n",
    "from utils import model_tools, signal_detection"
   ]
  },
  {
   "cell_type": "code",
   "execution_count": 335,
   "metadata": {},
   "outputs": [
    {
     "data": {
      "text/plain": [
       "<hddm.models.hddm_info.HDDM at 0x11aa3fd68>"
      ]
     },
     "execution_count": 335,
     "metadata": {},
     "output_type": "execute_result"
    }
   ],
   "source": [
    "# Import pilot models\n",
    "pilot_data = hddm.load_csv('/lang_dec/data/pilot_clean.csv')\n",
    "pilot_model = hddm.HDDM(pilot_data, depends_on={'v': 'stim'}, bias=True)\n",
    "pilot_model.load_db(dbname='language_decision/models/pilot', db='txt')\n",
    "\n",
    "#pilot_model_threshold = hddm.HDDM(pilot_data, depends_on={'v': 'stim', 'a': 'stim'})\n",
    "#pilot_model_threshold.load_db(dbname='language_decision/models/pilot_threshold', db='txt')"
   ]
  },
  {
   "cell_type": "code",
   "execution_count": 334,
   "metadata": {},
   "outputs": [
    {
     "data": {
      "text/plain": [
       "<hddm.models.hddm_info.HDDM at 0x11a4924a8>"
      ]
     },
     "execution_count": 334,
     "metadata": {},
     "output_type": "execute_result"
    }
   ],
   "source": [
    "# Import control models\n",
    "controls_data = hddm.load_csv('/lang_dec/data/controls_clean.csv')\n",
    "controls_model = hddm.HDDM(controls_data, depends_on={'v': 'stim'}, bias=True)\n",
    "controls_model.load_db(dbname='language_decision/models/controls', db='txt')\n",
    "\n",
    "#controls_model_threshold = hddm.HDDM(controls_data, depends_on={'v': 'stim', 'a': 'stim'}, bias=True)\n",
    "#controls_model_threshold.load_db(dbname='language_decision/models/controls_threshold', db='txt')"
   ]
  },
  {
   "cell_type": "code",
   "execution_count": 336,
   "metadata": {},
   "outputs": [
    {
     "data": {
      "text/plain": [
       "<hddm.models.hddm_info.HDDM at 0x1196f6b70>"
      ]
     },
     "execution_count": 336,
     "metadata": {},
     "output_type": "execute_result"
    }
   ],
   "source": [
    "# Import patient models\n",
    "patients_data = hddm.load_csv('/lang_dec/data/patients_clean.csv')\n",
    "patients_model = hddm.HDDM(patients_data, depends_on={'v': 'stim'}, bias=True)\n",
    "patients_model.load_db(dbname='language_decision/models/patients', db='txt')\n",
    "\n",
    "#patients_model_threshold = hddm.HDDM(patients_data, depends_on={'v': 'stim', 'a': 'stim'})\n",
    "#patients_model_threshold.load_db(dbname='language_decision/models/patients_threshold', db='txt')"
   ]
  },
  {
   "cell_type": "markdown",
   "metadata": {},
   "source": [
    "## DDM vs Signal Detection Theory\n",
    "\n",
    "Comparing DDM to Signal Detection - does d' correlate with DDM parameters?"
   ]
  },
  {
   "cell_type": "code",
   "execution_count": 337,
   "metadata": {
    "collapsed": true
   },
   "outputs": [],
   "source": [
    "def get_d_primes(dataset, stim1, stim2, include_id=False):\n",
    "    d_primes = dict()\n",
    "    subject_ids = set(dataset.subj_idx)\n",
    "    for subject_id in subject_ids:\n",
    "        stim1_data = dataset.loc[\n",
    "            dataset['subj_idx'] == subject_id].loc[\n",
    "            dataset['stim'] == str(stim1)]\n",
    "        stim1_trials = len(stim1_data)\n",
    "        hits = len(stim1_data.loc[\n",
    "            dataset['response'] == 1.0])\n",
    "        \n",
    "        stim2_data = dataset.loc[\n",
    "            dataset['subj_idx'] == subject_id].loc[\n",
    "            dataset['stim'] == str(stim2)]\n",
    "        stim2_trials = len(stim2_data)\n",
    "        \n",
    "        fas = len(stim2_data.loc[\n",
    "            dataset['response'] == 0.0])\n",
    "        \n",
    "        if not stim1_trials or not stim2_trials:\n",
    "            d_primes[subject_id] = None # N/A placeholder value\n",
    "            continue\n",
    "        \n",
    "        d_prime = signal_detection.signal_detection(\n",
    "            n_stim1=stim1_trials, \n",
    "            n_stim2=stim2_trials, \n",
    "            hits=hits, \n",
    "            false_alarms=fas)['d_prime']\n",
    "        d_primes[subject_id] = d_prime\n",
    "       \n",
    "    if not include_id:\n",
    "        return list(d_primes.values())\n",
    "    return d_primes"
   ]
  },
  {
   "cell_type": "markdown",
   "metadata": {},
   "source": [
    "### Drift rate / d'"
   ]
  },
  {
   "cell_type": "code",
   "execution_count": 338,
   "metadata": {
    "collapsed": true
   },
   "outputs": [],
   "source": [
    "def match_dprime_to_driftrate(dataset, model, stim1, stim2):\n",
    "    subject_ids = set(dataset.subj_idx)\n",
    "    d_primes = get_d_primes(dataset, stim1, stim2, include_id=True)\n",
    "    for subject_id in subject_ids:\n",
    "        try:\n",
    "            d_prime = d_primes[subject_id]\n",
    "            v_stim1 = model.values['v_subj(' + stim1 + ').' + str(subject_id)]\n",
    "            v_stim2 = model.values['v_subj(' + stim2 + ').' + str(subject_id)]\n",
    "            v_diff = abs(v_stim2 - v_stim1)\n",
    "            yield (d_prime, v_diff)\n",
    "        except: \n",
    "            continue"
   ]
  },
  {
   "cell_type": "markdown",
   "metadata": {},
   "source": [
    "#### SS vs US"
   ]
  },
  {
   "cell_type": "code",
   "execution_count": 339,
   "metadata": {},
   "outputs": [
    {
     "data": {
      "text/plain": [
       "SpearmanrResult(correlation=0.37136761744229696, pvalue=0.15671034318106991)"
      ]
     },
     "execution_count": 339,
     "metadata": {},
     "output_type": "execute_result"
    },
    {
     "data": {
      "image/png": "[encoded data removed]",
      "text/plain": [
       "<matplotlib.figure.Figure at 0x10a864f28>"
      ]
     },
     "metadata": {},
     "output_type": "display_data"
    }
   ],
   "source": [
    "d2v_ss_us = np.array([*match_dprime_to_driftrate(pilot_data, pilot_model, 'SS', 'US')])\n",
    "plt.scatter(d2v_ss_us[:,0], d2v_ss_us[:,1])\n",
    "scipy.stats.spearmanr(d2v_ss_us)"
   ]
  },
  {
   "cell_type": "code",
   "execution_count": 340,
   "metadata": {},
   "outputs": [
    {
     "data": {
      "text/plain": [
       "SpearmanrResult(correlation=-0.27322953332351235, pvalue=0.60035459042911143)"
      ]
     },
     "execution_count": 340,
     "metadata": {},
     "output_type": "execute_result"
    },
    {
     "data": {
      "image/png": "[encoded data removed]",
      "text/plain": [
       "<matplotlib.figure.Figure at 0x119b3ec88>"
      ]
     },
     "metadata": {},
     "output_type": "display_data"
    }
   ],
   "source": [
    "d2v_ss_us = np.array([*match_dprime_to_driftrate(controls_data, controls_model, 'SS', 'US')])\n",
    "plt.scatter(d2v_ss_us[:,0], d2v_ss_us[:,1])\n",
    "scipy.stats.spearmanr(d2v_ss_us)"
   ]
  },
  {
   "cell_type": "code",
   "execution_count": 344,
   "metadata": {},
   "outputs": [
    {
     "data": {
      "text/plain": [
       "SpearmanrResult(correlation=-0.29696969696969694, pvalue=0.40470167127015688)"
      ]
     },
     "execution_count": 344,
     "metadata": {},
     "output_type": "execute_result"
    },
    {
     "data": {
      "image/png": "[encoded data removed]",
      "text/plain": [
       "<matplotlib.figure.Figure at 0x11a7baf98>"
      ]
     },
     "metadata": {},
     "output_type": "display_data"
    }
   ],
   "source": [
    "d2v_ss_us = np.array([*match_dprime_to_driftrate(patients_data, patients_model, 'SS', 'US')])\n",
    "plt.scatter(d2v_ss_us[:,0], d2v_ss_us[:,1])\n",
    "scipy.stats.spearmanr(d2v_ss_us)"
   ]
  },
  {
   "cell_type": "markdown",
   "metadata": {},
   "source": [
    "#### SS vs CS"
   ]
  },
  {
   "cell_type": "code",
   "execution_count": 345,
   "metadata": {},
   "outputs": [
    {
     "data": {
      "text/plain": [
       "SpearmanrResult(correlation=0.19943818374307479, pvalue=0.45897847575469752)"
      ]
     },
     "execution_count": 345,
     "metadata": {},
     "output_type": "execute_result"
    },
    {
     "data": {
      "image/png": "[encoded data removed]",
      "text/plain": [
       "<matplotlib.figure.Figure at 0x11a233a58>"
      ]
     },
     "metadata": {},
     "output_type": "display_data"
    }
   ],
   "source": [
    "d2v_ss_cs = np.array([*match_dprime_to_driftrate(pilot_data, pilot_model, 'SS', 'CS')])\n",
    "plt.scatter(d2v_ss_cs[:,0], d2v_ss_cs[:,1])\n",
    "scipy.stats.spearmanr(d2v_ss_cs)"
   ]
  },
  {
   "cell_type": "code",
   "execution_count": 346,
   "metadata": {},
   "outputs": [
    {
     "data": {
      "text/plain": [
       "SpearmanrResult(correlation=0.4285714285714286, pvalue=0.39650145772594741)"
      ]
     },
     "execution_count": 346,
     "metadata": {},
     "output_type": "execute_result"
    },
    {
     "data": {
      "image/png": "[encoded data removed]",
      "text/plain": [
       "<matplotlib.figure.Figure at 0x119c780b8>"
      ]
     },
     "metadata": {},
     "output_type": "display_data"
    }
   ],
   "source": [
    "d2v_ss_cs = np.array([*match_dprime_to_driftrate(controls_data, controls_model, 'SS', 'CS')])\n",
    "plt.scatter(d2v_ss_cs[:,0], d2v_ss_cs[:,1])\n",
    "scipy.stats.spearmanr(d2v_ss_cs[:,0], d2v_ss_cs[:,1])"
   ]
  },
  {
   "cell_type": "code",
   "execution_count": 347,
   "metadata": {},
   "outputs": [
    {
     "data": {
      "text/plain": [
       "SpearmanrResult(correlation=-0.45454545454545447, pvalue=0.18690481034933201)"
      ]
     },
     "execution_count": 347,
     "metadata": {},
     "output_type": "execute_result"
    },
    {
     "data": {
      "image/png": "[encoded data removed]",
      "text/plain": [
       "<matplotlib.figure.Figure at 0x11aae0240>"
      ]
     },
     "metadata": {},
     "output_type": "display_data"
    }
   ],
   "source": [
    "d2v_ss_cs = np.array([*match_dprime_to_driftrate(patients_data, patients_model, 'SS', 'CS')])\n",
    "plt.scatter(d2v_ss_cs[:,0], d2v_ss_cs[:,1])\n",
    "scipy.stats.spearmanr(d2v_ss_cs)"
   ]
  },
  {
   "cell_type": "markdown",
   "metadata": {},
   "source": [
    "#### SS vs CP"
   ]
  },
  {
   "cell_type": "code",
   "execution_count": 348,
   "metadata": {},
   "outputs": [
    {
     "data": {
      "text/plain": [
       "SpearmanrResult(correlation=-0.094676213666230177, pvalue=0.7272620157241807)"
      ]
     },
     "execution_count": 348,
     "metadata": {},
     "output_type": "execute_result"
    },
    {
     "data": {
      "image/png": "[encoded data removed]",
      "text/plain": [
       "<matplotlib.figure.Figure at 0x11a776a90>"
      ]
     },
     "metadata": {},
     "output_type": "display_data"
    }
   ],
   "source": [
    "d2v_ss_cp = np.array([*match_dprime_to_driftrate(pilot_data, pilot_model, 'SS', 'CP')])\n",
    "plt.scatter(d2v_ss_cp[:,0], d2v_ss_cp[:,1])\n",
    "scipy.stats.spearmanr(d2v_ss_cp)"
   ]
  },
  {
   "cell_type": "code",
   "execution_count": 349,
   "metadata": {},
   "outputs": [
    {
     "data": {
      "text/plain": [
       "SpearmanrResult(correlation=-0.59999999999999998, pvalue=0.20799999999999982)"
      ]
     },
     "execution_count": 349,
     "metadata": {},
     "output_type": "execute_result"
    },
    {
     "data": {
      "image/png": "[encoded data removed]",
      "text/plain": [
       "<matplotlib.figure.Figure at 0x1152ae8d0>"
      ]
     },
     "metadata": {},
     "output_type": "display_data"
    }
   ],
   "source": [
    "d2v_ss_cp = np.array([*match_dprime_to_driftrate(controls_data, controls_model, 'SS', 'CP')])\n",
    "plt.scatter(d2v_ss_cp[:,0], d2v_ss_cp[:,1])\n",
    "scipy.stats.spearmanr(d2v_ss_cp)"
   ]
  },
  {
   "cell_type": "code",
   "execution_count": 350,
   "metadata": {},
   "outputs": [
    {
     "data": {
      "text/plain": [
       "SpearmanrResult(correlation=-0.58333333333333337, pvalue=0.099185816479883226)"
      ]
     },
     "execution_count": 350,
     "metadata": {},
     "output_type": "execute_result"
    },
    {
     "data": {
      "image/png": "[encoded data removed]",
      "text/plain": [
       "<matplotlib.figure.Figure at 0x11ab84f98>"
      ]
     },
     "metadata": {},
     "output_type": "display_data"
    }
   ],
   "source": [
    "d2v_ss_cp = np.array([*match_dprime_to_driftrate(patients_data, patients_model, 'SS', 'CP')])\n",
    "plt.scatter(d2v_ss_cp[:,0], d2v_ss_cp[:,1])\n",
    "scipy.stats.spearmanr(d2v_ss_cp[:,0], d2v_ss_cp[:,1])"
   ]
  },
  {
   "cell_type": "markdown",
   "metadata": {},
   "source": [
    "### Low d' comparisons\n",
    "\n",
    "Compare ddm drift rate only with low d'\n",
    "\n",
    "Ratcliff, R. (2014). Measuring psychometric functions with the diffusion model. Journal of Experimental Psychology: Human Perception and Performance, 40(2), 870-888.\n",
    "http://dx.doi.org/10.1037/a0034954\n",
    "\n",
    "Patients are the best candidates for this (SSvsCS, SSvsCP)"
   ]
  },
  {
   "cell_type": "code",
   "execution_count": 351,
   "metadata": {},
   "outputs": [
    {
     "data": {
      "text/plain": [
       "SpearmanrResult(correlation=-0.45454545454545447, pvalue=0.18690481034933201)"
      ]
     },
     "execution_count": 351,
     "metadata": {},
     "output_type": "execute_result"
    },
    {
     "data": {
      "image/png": "[encoded data removed]",
      "text/plain": [
       "<matplotlib.figure.Figure at 0x11b5550f0>"
      ]
     },
     "metadata": {},
     "output_type": "display_data"
    }
   ],
   "source": [
    "d2v_ss_cs = np.array([*match_dprime_to_driftrate(patients_data, \n",
    "                                                 patients_model, 'SS', 'CS')])\n",
    "plt.scatter(d2v_ss_cs[:,0], d2v_ss_cs[:,1])\n",
    "scipy.stats.spearmanr(d2v_ss_cs)"
   ]
  },
  {
   "cell_type": "code",
   "execution_count": 354,
   "metadata": {},
   "outputs": [
    {
     "data": {
      "text/plain": [
       "SpearmanrResult(correlation=-0.58333333333333337, pvalue=0.099185816479883226)"
      ]
     },
     "execution_count": 354,
     "metadata": {},
     "output_type": "execute_result"
    },
    {
     "data": {
      "image/png": "[encoded data removed]",
      "text/plain": [
       "<matplotlib.figure.Figure at 0x1152c6668>"
      ]
     },
     "metadata": {},
     "output_type": "display_data"
    }
   ],
   "source": [
    "d2v_ss_cp = np.array([*match_dprime_to_driftrate(patients_data, \n",
    "                                                 patients_model, 'SS', 'CP')])\n",
    "plt.scatter(d2v_ss_cp[:,0], d2v_ss_cp[:,1])\n",
    "scipy.stats.spearmanr(d2v_ss_cp)"
   ]
  }
 ],
 "metadata": {
  "kernelspec": {
   "display_name": "Python 3",
   "language": "python",
   "name": "python3"
  },
  "language_info": {
   "codemirror_mode": {
    "name": "ipython",
    "version": 3
   },
   "file_extension": ".py",
   "mimetype": "text/x-python",
   "name": "python",
   "nbconvert_exporter": "python",
   "pygments_lexer": "ipython3",
   "version": "3.5.3"
  }
 },
 "nbformat": 4,
 "nbformat_minor": 2
}
