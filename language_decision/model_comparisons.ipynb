{
 "cells": [
  {
   "cell_type": "markdown",
   "metadata": {},
   "source": [
    "# Model Comparisons\n",
    "\n",
    "Comparing the DDM to other congitive models"
   ]
  },
  {
   "cell_type": "code",
   "execution_count": 52,
   "metadata": {},
   "outputs": [
    {
     "name": "stdout",
     "output_type": "stream",
     "text": [
      "/Users/celefthe/Programming/projects/language_decision\n"
     ]
    }
   ],
   "source": [
    "# Environment setup\n",
    "%matplotlib inline\n",
    "%cd /lang_dec\n",
    "# Imports\n",
    "import warnings; warnings.filterwarnings('ignore')\n",
    "import hddm\n",
    "import math\n",
    "import scipy\n",
    "import numpy as np\n",
    "import matplotlib.pyplot as plt\n",
    "import seaborn as sns\n",
    "from utils import model_tools, signal_detection"
   ]
  },
  {
   "cell_type": "code",
   "execution_count": 3,
   "metadata": {},
   "outputs": [
    {
     "data": {
      "text/plain": [
       "<hddm.models.hddm_info.HDDM at 0x11bfc1400>"
      ]
     },
     "execution_count": 3,
     "metadata": {},
     "output_type": "execute_result"
    }
   ],
   "source": [
    "# Import pilot models\n",
    "pilot_data = hddm.load_csv('/lang_dec/data/pilot_clean.csv')\n",
    "pilot_model = hddm.HDDM(pilot_data, depends_on={'v': 'stim'}, bias=True)\n",
    "pilot_model.load_db(dbname='language_decision/models/pilot', db='txt')\n",
    "\n",
    "pilot_model_threshold = hddm.HDDM(pilot_data, depends_on={'v': 'stim', 'a': 'stim'})\n",
    "pilot_model_threshold.load_db(dbname='language_decision/models/pilot_threshold', db='txt')"
   ]
  },
  {
   "cell_type": "code",
   "execution_count": 4,
   "metadata": {},
   "outputs": [
    {
     "data": {
      "text/plain": [
       "<hddm.models.hddm_info.HDDM at 0x11ca98dd8>"
      ]
     },
     "execution_count": 4,
     "metadata": {},
     "output_type": "execute_result"
    }
   ],
   "source": [
    "# Import control models\n",
    "controls_data = hddm.load_csv('/lang_dec/data/controls_clean.csv')\n",
    "controls_model = hddm.HDDM(controls_data, depends_on={'v': 'stim'}, bias=True)\n",
    "controls_model.load_db(dbname='language_decision/models/controls', db='txt')\n",
    "\n",
    "controls_model_threshold = hddm.HDDM(controls_data, depends_on={'v': 'stim', 'a': 'stim'})\n",
    "controls_model_threshold.load_db(dbname='language_decision/models/controls_threshold', db='txt')"
   ]
  },
  {
   "cell_type": "code",
   "execution_count": 5,
   "metadata": {},
   "outputs": [
    {
     "data": {
      "text/plain": [
       "<hddm.models.hddm_info.HDDM at 0x11cd5d4a8>"
      ]
     },
     "execution_count": 5,
     "metadata": {},
     "output_type": "execute_result"
    }
   ],
   "source": [
    "# Import patient models\n",
    "patients_data = hddm.load_csv('/lang_dec/data/patients_clean.csv')\n",
    "patients_model = hddm.HDDM(patients_data, depends_on={'v': 'stim'}, bias=True)\n",
    "patients_model.load_db(dbname='language_decision/models/patients', db='txt')\n",
    "\n",
    "patients_model_threshold = hddm.HDDM(patients_data, depends_on={'v': 'stim', 'a': 'stim'})\n",
    "patients_model_threshold.load_db(dbname='language_decision/models/patients_threshold', db='txt')"
   ]
  },
  {
   "cell_type": "markdown",
   "metadata": {},
   "source": [
    "## DDM vs Signal Detection Theory\n",
    "\n",
    "Comparing DDM to Signal Detection - does d' correlate with DDM parameters?"
   ]
  },
  {
   "cell_type": "code",
   "execution_count": 9,
   "metadata": {
    "collapsed": true
   },
   "outputs": [],
   "source": [
    "def get_d_primes(dataset, stim1, stim2, include_id=False):\n",
    "    d_primes = dict()\n",
    "    subject_ids = set(dataset.subj_idx)\n",
    "    for subject_id in subject_ids:\n",
    "        stim1_data = dataset.loc[\n",
    "            dataset['subj_idx'] == subject_id].loc[\n",
    "            dataset['stim'] == str(stim1)]\n",
    "        stim1_trials = len(stim1_data)\n",
    "        hits = len(stim1_data.loc[\n",
    "            dataset['response'] == 1.0])\n",
    "        \n",
    "        stim2_data = dataset.loc[\n",
    "            dataset['subj_idx'] == subject_id].loc[\n",
    "            dataset['stim'] == str(stim2)]\n",
    "        stim2_trials = len(stim2_data)\n",
    "        \n",
    "        fas = len(stim2_data.loc[\n",
    "            dataset['response'] == 0.0])\n",
    "        \n",
    "        if not stim1_trials or not stim2_trials:\n",
    "            d_primes[subject_id] = None # N/A placeholder value\n",
    "            continue\n",
    "        \n",
    "        d_prime = signal_detection.signal_detection(\n",
    "            n_stim1=stim1_trials, \n",
    "            n_stim2=stim2_trials, \n",
    "            hits=hits, \n",
    "            false_alarms=fas)['d_prime']\n",
    "        d_primes[subject_id] = d_prime\n",
    "       \n",
    "    if not include_id:\n",
    "        return list(d_primes.values())\n",
    "    return d_primes"
   ]
  },
  {
   "cell_type": "markdown",
   "metadata": {},
   "source": [
    "### Threshold difference / d'"
   ]
  },
  {
   "cell_type": "code",
   "execution_count": 73,
   "metadata": {
    "collapsed": true
   },
   "outputs": [],
   "source": [
    "def match_dprime_to_threshold(dataset, model, stim1, stim2):\n",
    "    subject_ids = set(dataset.subj_idx)\n",
    "    d_primes = get_d_primes(dataset, stim1, stim2, include_id=True)\n",
    "    for subject_id in subject_ids:\n",
    "        try:\n",
    "            d_prime = d_primes[subject_id]\n",
    "            threshold_stim1 = model.values['a_subj(' + stim1 + ').' + str(subject_id)]\n",
    "            threshold_stim2 = model.values['a_subj(' + stim2 + ').' + str(subject_id)]\n",
    "            threshold_diff = abs(threshold_stim2 - threshold_stim1)\n",
    "            yield (d_prime, threshold_diff)\n",
    "        except:\n",
    "            continue"
   ]
  },
  {
   "cell_type": "markdown",
   "metadata": {},
   "source": [
    "#### SS vs US"
   ]
  },
  {
   "cell_type": "code",
   "execution_count": 67,
   "metadata": {},
   "outputs": [
    {
     "data": {
      "text/plain": [
       "SpearmanrResult(correlation=-0.059293989339526398, pvalue=0.82732969410252977)"
      ]
     },
     "execution_count": 67,
     "metadata": {},
     "output_type": "execute_result"
    },
    {
     "data": {
      "image/png": "[encoded data removed]",
      "text/plain": [
       "<matplotlib.figure.Figure at 0x120d380b8>"
      ]
     },
     "metadata": {},
     "output_type": "display_data"
    }
   ],
   "source": [
    "d2t_ss_us = np.array([*match_dprime_to_threshold(pilot_data, pilot_model_threshold, 'SS', 'US')])\n",
    "\n",
    "plt.scatter(d2t_ss_us[:,0], d2t_ss_us[:,1])\n",
    "scipy.stats.spearmanr(d2t_ss_us)"
   ]
  },
  {
   "cell_type": "code",
   "execution_count": 45,
   "metadata": {},
   "outputs": [
    {
     "data": {
      "text/plain": [
       "SpearmanrResult(correlation=0.27322953332351235, pvalue=0.60035459042911143)"
      ]
     },
     "execution_count": 45,
     "metadata": {},
     "output_type": "execute_result"
    },
    {
     "data": {
      "image/png": "[encoded data removed]",
      "text/plain": [
       "<matplotlib.figure.Figure at 0x1207d7a20>"
      ]
     },
     "metadata": {},
     "output_type": "display_data"
    }
   ],
   "source": [
    "d2t_ss_us = np.array([*match_dprime_to_threshold(controls_data, controls_model_threshold, 'SS', 'US')])\n",
    "\n",
    "plt.scatter(d2t_ss_us[:,0], d2t_ss_us[:,1])\n",
    "scipy.stats.spearmanr(d2t_ss_us)"
   ]
  },
  {
   "cell_type": "code",
   "execution_count": 46,
   "metadata": {},
   "outputs": [
    {
     "data": {
      "text/plain": [
       "SpearmanrResult(correlation=0.66060606060606053, pvalue=0.037588377571409391)"
      ]
     },
     "execution_count": 46,
     "metadata": {},
     "output_type": "execute_result"
    },
    {
     "data": {
      "image/png": "[encoded data removed]",
      "text/plain": [
       "<matplotlib.figure.Figure at 0x1208d0cf8>"
      ]
     },
     "metadata": {},
     "output_type": "display_data"
    }
   ],
   "source": [
    "d2t_ss_us = np.array([*match_dprime_to_threshold(patients_data, patients_model_threshold, 'SS', 'US')])\n",
    "\n",
    "plt.scatter(d2t_ss_us[:,0], d2t_ss_us[:,1])\n",
    "scipy.stats.spearmanr(d2t_ss_us)"
   ]
  },
  {
   "cell_type": "markdown",
   "metadata": {},
   "source": [
    "#### SS vs CS"
   ]
  },
  {
   "cell_type": "code",
   "execution_count": 13,
   "metadata": {},
   "outputs": [
    {
     "data": {
      "text/plain": [
       "SpearmanrResult(correlation=-0.40487450835060296, pvalue=0.1197982750976964)"
      ]
     },
     "execution_count": 13,
     "metadata": {},
     "output_type": "execute_result"
    },
    {
     "data": {
      "image/png": "[encoded data removed]",
      "text/plain": [
       "<matplotlib.figure.Figure at 0x12094b080>"
      ]
     },
     "metadata": {},
     "output_type": "display_data"
    }
   ],
   "source": [
    "d2t_ss_cs = np.array([*match_dprime_to_threshold(pilot_data, pilot_model_threshold, 'SS', 'CS')])\n",
    "\n",
    "plt.scatter(d2t_ss_cs[:,0], d2t_ss_cs[:,1])\n",
    "scipy.stats.spearmanr(d2t_ss_cs)"
   ]
  },
  {
   "cell_type": "code",
   "execution_count": 14,
   "metadata": {},
   "outputs": [
    {
     "data": {
      "text/plain": [
       "SpearmanrResult(correlation=-0.25714285714285717, pvalue=0.62278717201166178)"
      ]
     },
     "execution_count": 14,
     "metadata": {},
     "output_type": "execute_result"
    },
    {
     "data": {
      "image/png": "[encoded data removed]",
      "text/plain": [
       "<matplotlib.figure.Figure at 0x120a36a90>"
      ]
     },
     "metadata": {},
     "output_type": "display_data"
    }
   ],
   "source": [
    "d2t_ss_cs = np.array([*match_dprime_to_threshold(controls_data, controls_model_threshold, 'SS', 'CS')])\n",
    "\n",
    "plt.scatter(d2t_ss_cs[:,0], d2t_ss_cs[:,1])\n",
    "scipy.stats.spearmanr(d2t_ss_cs)"
   ]
  },
  {
   "cell_type": "code",
   "execution_count": 15,
   "metadata": {},
   "outputs": [
    {
     "data": {
      "text/plain": [
       "SpearmanrResult(correlation=-0.49090909090909085, pvalue=0.14965567342083677)"
      ]
     },
     "execution_count": 15,
     "metadata": {},
     "output_type": "execute_result"
    },
    {
     "data": {
      "image/png": "[encoded data removed]",
      "text/plain": [
       "<matplotlib.figure.Figure at 0x1209e0630>"
      ]
     },
     "metadata": {},
     "output_type": "display_data"
    }
   ],
   "source": [
    "d2t_ss_cs = np.array([*match_dprime_to_threshold(patients_data, patients_model_threshold, 'SS', 'CS')])\n",
    "\n",
    "plt.scatter(d2t_ss_cs[:,0], d2t_ss_cs[:,1])\n",
    "scipy.stats.spearmanr(d2t_ss_cs)"
   ]
  },
  {
   "cell_type": "markdown",
   "metadata": {},
   "source": [
    "#### SS vs CP"
   ]
  },
  {
   "cell_type": "code",
   "execution_count": 16,
   "metadata": {},
   "outputs": [
    {
     "data": {
      "text/plain": [
       "SpearmanrResult(correlation=0.38166348634199038, pvalue=0.1446439813312958)"
      ]
     },
     "execution_count": 16,
     "metadata": {},
     "output_type": "execute_result"
    },
    {
     "data": {
      "image/png": "[encoded data removed]",
      "text/plain": [
       "<matplotlib.figure.Figure at 0x120bf97b8>"
      ]
     },
     "metadata": {},
     "output_type": "display_data"
    }
   ],
   "source": [
    "d2t_ss_cp = np.array([*match_dprime_to_threshold(pilot_data, pilot_model_threshold, 'SS', 'CP')])\n",
    "\n",
    "plt.scatter(d2t_ss_cp[:,0], d2t_ss_cp[:,1])\n",
    "scipy.stats.spearmanr(d2t_ss_cp)"
   ]
  },
  {
   "cell_type": "code",
   "execution_count": 17,
   "metadata": {},
   "outputs": [
    {
     "data": {
      "text/plain": [
       "SpearmanrResult(correlation=-0.14285714285714288, pvalue=0.7871720116618075)"
      ]
     },
     "execution_count": 17,
     "metadata": {},
     "output_type": "execute_result"
    },
    {
     "data": {
      "image/png": "[encoded data removed]",
      "text/plain": [
       "<matplotlib.figure.Figure at 0x120e57e80>"
      ]
     },
     "metadata": {},
     "output_type": "display_data"
    }
   ],
   "source": [
    "d2t_ss_cp = np.array([*match_dprime_to_threshold(controls_data, controls_model_threshold, 'SS', 'CP')])\n",
    "\n",
    "plt.scatter(d2t_ss_cp[:,0], d2t_ss_cp[:,1])\n",
    "scipy.stats.spearmanr(d2t_ss_cp)"
   ]
  },
  {
   "cell_type": "code",
   "execution_count": 18,
   "metadata": {},
   "outputs": [
    {
     "data": {
      "text/plain": [
       "SpearmanrResult(correlation=-0.68333333333333335, pvalue=0.042442272087072311)"
      ]
     },
     "execution_count": 18,
     "metadata": {},
     "output_type": "execute_result"
    },
    {
     "data": {
      "image/png": "[encoded data removed]",
      "text/plain": [
       "<matplotlib.figure.Figure at 0x120e6bda0>"
      ]
     },
     "metadata": {},
     "output_type": "display_data"
    }
   ],
   "source": [
    "d2t_ss_cp = np.array([*match_dprime_to_threshold(patients_data, patients_model_threshold, 'SS', 'CP')])\n",
    "\n",
    "plt.scatter(d2t_ss_cp[:,0], d2t_ss_cp[:,1])\n",
    "scipy.stats.spearmanr(d2t_ss_cp)"
   ]
  },
  {
   "cell_type": "markdown",
   "metadata": {},
   "source": [
    "### Drift rate / d'"
   ]
  },
  {
   "cell_type": "code",
   "execution_count": 19,
   "metadata": {
    "collapsed": true
   },
   "outputs": [],
   "source": [
    "def match_dprime_to_driftrate(dataset, model, stim1, stim2):\n",
    "    subject_ids = set(dataset.subj_idx)\n",
    "    d_primes = get_d_primes(dataset, stim1, stim2, include_id=True)\n",
    "    for subject_id in subject_ids:\n",
    "        try:\n",
    "            d_prime = d_primes[subject_id]\n",
    "            v_stim1 = model.values['v_subj(' + stim1 + ').' + str(subject_id)]\n",
    "            v_stim2 = model.values['v_subj(' + stim2 + ').' + str(subject_id)]\n",
    "            v_diff = abs(v_stim2 - v_stim1)\n",
    "            yield (d_prime, v_diff)\n",
    "        except: \n",
    "            continue"
   ]
  },
  {
   "cell_type": "markdown",
   "metadata": {},
   "source": [
    "#### SS vs US"
   ]
  },
  {
   "cell_type": "code",
   "execution_count": 26,
   "metadata": {},
   "outputs": [
    {
     "data": {
      "text/plain": [
       "SpearmanrResult(correlation=-0.29959068297865976, pvalue=0.25961865774098775)"
      ]
     },
     "execution_count": 26,
     "metadata": {},
     "output_type": "execute_result"
    },
    {
     "data": {
      "image/png": "[encoded data removed]",
      "text/plain": [
       "<matplotlib.figure.Figure at 0x120d19278>"
      ]
     },
     "metadata": {},
     "output_type": "display_data"
    }
   ],
   "source": [
    "d2v_ss_us = np.array([*match_dprime_to_driftrate(pilot_data, pilot_model_threshold, 'SS', 'US')])\n",
    "plt.scatter(d2v_ss_us[:,0], d2v_ss_us[:,1])\n",
    "scipy.stats.spearmanr(d2v_ss_us)"
   ]
  },
  {
   "cell_type": "code",
   "execution_count": 27,
   "metadata": {},
   "outputs": [
    {
     "data": {
      "text/plain": [
       "SpearmanrResult(correlation=0.21251185925162072, pvalue=0.68603086600889585)"
      ]
     },
     "execution_count": 27,
     "metadata": {},
     "output_type": "execute_result"
    },
    {
     "data": {
      "image/png": "[encoded data removed]",
      "text/plain": [
       "<matplotlib.figure.Figure at 0x120ee9ba8>"
      ]
     },
     "metadata": {},
     "output_type": "display_data"
    }
   ],
   "source": [
    "d2v_ss_us = np.array([*match_dprime_to_driftrate(controls_data, controls_model_threshold, 'SS', 'US')])\n",
    "plt.scatter(d2v_ss_us[:,0], d2v_ss_us[:,1])\n",
    "scipy.stats.spearmanr(d2v_ss_us)"
   ]
  },
  {
   "cell_type": "code",
   "execution_count": 28,
   "metadata": {},
   "outputs": [
    {
     "data": {
      "text/plain": [
       "SpearmanrResult(correlation=-0.018181818181818181, pvalue=0.96024041812862426)"
      ]
     },
     "execution_count": 28,
     "metadata": {},
     "output_type": "execute_result"
    },
    {
     "data": {
      "image/png": "[encoded data removed]",
      "text/plain": [
       "<matplotlib.figure.Figure at 0x1209e7e48>"
      ]
     },
     "metadata": {},
     "output_type": "display_data"
    }
   ],
   "source": [
    "d2v_ss_us = np.array([*match_dprime_to_driftrate(patients_data, patients_model_threshold, 'SS', 'US')])\n",
    "plt.scatter(d2v_ss_us[:,0], d2v_ss_us[:,1])\n",
    "scipy.stats.spearmanr(d2v_ss_us)"
   ]
  },
  {
   "cell_type": "markdown",
   "metadata": {},
   "source": [
    "#### SS vs CS"
   ]
  },
  {
   "cell_type": "code",
   "execution_count": 29,
   "metadata": {},
   "outputs": [
    {
     "data": {
      "text/plain": [
       "SpearmanrResult(correlation=-0.092971183399027324, pvalue=0.73200385751893948)"
      ]
     },
     "execution_count": 29,
     "metadata": {},
     "output_type": "execute_result"
    },
    {
     "data": {
      "image/png": "[encoded data removed]",
      "text/plain": [
       "<matplotlib.figure.Figure at 0x1210b9dd8>"
      ]
     },
     "metadata": {},
     "output_type": "display_data"
    }
   ],
   "source": [
    "d2v_ss_cs = np.array([*match_dprime_to_driftrate(pilot_data, pilot_model_threshold, 'SS', 'CS')])\n",
    "plt.scatter(d2v_ss_cs[:,0], d2v_ss_cs[:,1])\n",
    "scipy.stats.spearmanr(d2v_ss_cs)"
   ]
  },
  {
   "cell_type": "code",
   "execution_count": 30,
   "metadata": {},
   "outputs": [
    {
     "data": {
      "text/plain": [
       "SpearmanrResult(correlation=-0.028571428571428574, pvalue=0.95715451895043735)"
      ]
     },
     "execution_count": 30,
     "metadata": {},
     "output_type": "execute_result"
    },
    {
     "data": {
      "image/png": "[encoded data removed]",
      "text/plain": [
       "<matplotlib.figure.Figure at 0x120f1d470>"
      ]
     },
     "metadata": {},
     "output_type": "display_data"
    }
   ],
   "source": [
    "d2v_ss_cs = np.array([*match_dprime_to_driftrate(controls_data, controls_model_threshold, 'SS', 'CS')])\n",
    "plt.scatter(d2v_ss_cs[:,0], d2v_ss_cs[:,1])\n",
    "scipy.stats.spearmanr(d2v_ss_cs)"
   ]
  },
  {
   "cell_type": "code",
   "execution_count": 31,
   "metadata": {},
   "outputs": [
    {
     "data": {
      "text/plain": [
       "SpearmanrResult(correlation=-0.63636363636363624, pvalue=0.04791172612997547)"
      ]
     },
     "execution_count": 31,
     "metadata": {},
     "output_type": "execute_result"
    },
    {
     "data": {
      "image/png": "[encoded data removed]",
      "text/plain": [
       "<matplotlib.figure.Figure at 0x11c80acc0>"
      ]
     },
     "metadata": {},
     "output_type": "display_data"
    }
   ],
   "source": [
    "d2v_ss_cs = np.array([*match_dprime_to_driftrate(patients_data, patients_model_threshold, 'SS', 'CS')])\n",
    "plt.scatter(d2v_ss_cs[:,0], d2v_ss_cs[:,1])\n",
    "scipy.stats.spearmanr(d2v_ss_cs)"
   ]
  },
  {
   "cell_type": "markdown",
   "metadata": {},
   "source": [
    "#### SS vs CP"
   ]
  },
  {
   "cell_type": "code",
   "execution_count": 32,
   "metadata": {},
   "outputs": [
    {
     "data": {
      "text/plain": [
       "SpearmanrResult(correlation=0.0014793158385348465, pvalue=0.99566175193362283)"
      ]
     },
     "execution_count": 32,
     "metadata": {},
     "output_type": "execute_result"
    },
    {
     "data": {
      "image/png": "[encoded data removed]",
      "text/plain": [
       "<matplotlib.figure.Figure at 0x1209e09b0>"
      ]
     },
     "metadata": {},
     "output_type": "display_data"
    }
   ],
   "source": [
    "d2v_ss_cp = np.array([*match_dprime_to_driftrate(pilot_data, pilot_model_threshold, 'SS', 'CP')])\n",
    "plt.scatter(d2v_ss_cp[:,0], d2v_ss_cp[:,1])\n",
    "scipy.stats.spearmanr(d2v_ss_cp)"
   ]
  },
  {
   "cell_type": "code",
   "execution_count": 33,
   "metadata": {},
   "outputs": [
    {
     "data": {
      "text/plain": [
       "SpearmanrResult(correlation=-0.59999999999999998, pvalue=0.20799999999999982)"
      ]
     },
     "execution_count": 33,
     "metadata": {},
     "output_type": "execute_result"
    },
    {
     "data": {
      "image/png": "[encoded data removed]",
      "text/plain": [
       "<matplotlib.figure.Figure at 0x1209d8320>"
      ]
     },
     "metadata": {},
     "output_type": "display_data"
    }
   ],
   "source": [
    "d2v_ss_cp = np.array([*match_dprime_to_driftrate(controls_data, controls_model_threshold, 'SS', 'CP')])\n",
    "plt.scatter(d2v_ss_cp[:,0], d2v_ss_cp[:,1])\n",
    "scipy.stats.spearmanr(d2v_ss_cp)"
   ]
  },
  {
   "cell_type": "code",
   "execution_count": 34,
   "metadata": {},
   "outputs": [
    {
     "data": {
      "text/plain": [
       "SpearmanrResult(correlation=-0.79999999999999993, pvalue=0.0096279247253798304)"
      ]
     },
     "execution_count": 34,
     "metadata": {},
     "output_type": "execute_result"
    },
    {
     "data": {
      "image/png": "[encoded data removed]",
      "text/plain": [
       "<matplotlib.figure.Figure at 0x120c17be0>"
      ]
     },
     "metadata": {},
     "output_type": "display_data"
    }
   ],
   "source": [
    "d2v_ss_cp = np.array([*match_dprime_to_driftrate(patients_data, patients_model_threshold, 'SS', 'CP')])\n",
    "plt.scatter(d2v_ss_cp[:,0], d2v_ss_cp[:,1])\n",
    "scipy.stats.spearmanr(d2v_ss_cp)"
   ]
  },
  {
   "cell_type": "markdown",
   "metadata": {},
   "source": [
    "### Drift rate & threshold diff / d'"
   ]
  },
  {
   "cell_type": "code",
   "execution_count": 103,
   "metadata": {
    "collapsed": true
   },
   "outputs": [],
   "source": [
    "def match_dprime_to_combined(dataset, model, stim1, stim2):\n",
    "    subject_ids = set(dataset.subj_idx)\n",
    "    d_primes = get_d_primes(dataset, stim1, stim2, include_id=True)\n",
    "    for subject_id in subject_ids:\n",
    "        try:\n",
    "            d_prime = d_primes[subject_id]\n",
    "            v_stim1 = model.values['v_subj(' + stim1 + ').' + str(subject_id)]\n",
    "            v_stim2 = model.values['v_subj(' + stim2 + ').' + str(subject_id)]\n",
    "            v_diff = abs(v_stim2 - v_stim1)\n",
    "            threshold_stim1 = model.values['a_subj(' + stim1 + ').' + str(subject_id)]\n",
    "            threshold_stim2 = model.values['a_subj(' + stim2 + ').' + str(subject_id)]\n",
    "            threshold_diff = abs(threshold_stim2 - threshold_stim1)\n",
    "            yield (d_prime, threshold_diff * v_diff )\n",
    "        except: \n",
    "            continue"
   ]
  },
  {
   "cell_type": "markdown",
   "metadata": {},
   "source": [
    "#### SS vs US"
   ]
  },
  {
   "cell_type": "code",
   "execution_count": 114,
   "metadata": {},
   "outputs": [
    {
     "data": {
      "text/plain": [
       "SpearmanrResult(correlation=-0.17788196801857922, pvalue=0.50983246497337653)"
      ]
     },
     "execution_count": 114,
     "metadata": {},
     "output_type": "execute_result"
    },
    {
     "data": {
      "image/png": "[encoded data removed]",
      "text/plain": [
       "<matplotlib.figure.Figure at 0x11d01beb8>"
      ]
     },
     "metadata": {},
     "output_type": "display_data"
    }
   ],
   "source": [
    "combined_ss_us = np.array([*match_dprime_to_combined(pilot_data, pilot_model_threshold, 'SS', 'US')])\n",
    "plt.scatter(combined_ss_us[:,0], combined_ss_us[:,1])\n",
    "scipy.stats.spearmanr(combined_ss_us)"
   ]
  },
  {
   "cell_type": "code",
   "execution_count": 113,
   "metadata": {},
   "outputs": [
    {
     "data": {
      "text/plain": [
       "SpearmanrResult(correlation=0.21251185925162072, pvalue=0.68603086600889585)"
      ]
     },
     "execution_count": 113,
     "metadata": {},
     "output_type": "execute_result"
    },
    {
     "data": {
      "image/png": "[encoded data removed]",
      "text/plain": [
       "<matplotlib.figure.Figure at 0x120a52ac8>"
      ]
     },
     "metadata": {},
     "output_type": "display_data"
    }
   ],
   "source": [
    "combined_ss_us = np.array([*match_dprime_to_combined(controls_data, controls_model_threshold, 'SS', 'US')])\n",
    "plt.scatter(combined_ss_us[:,0], combined_ss_us[:,1])\n",
    "scipy.stats.spearmanr(combined_ss_us)"
   ]
  },
  {
   "cell_type": "code",
   "execution_count": 112,
   "metadata": {},
   "outputs": [
    {
     "data": {
      "text/plain": [
       "SpearmanrResult(correlation=0.38181818181818183, pvalue=0.27625533338543595)"
      ]
     },
     "execution_count": 112,
     "metadata": {},
     "output_type": "execute_result"
    },
    {
     "data": {
      "image/png": "[encoded data removed]",
      "text/plain": [
       "<matplotlib.figure.Figure at 0x120c02e48>"
      ]
     },
     "metadata": {},
     "output_type": "display_data"
    }
   ],
   "source": [
    "combined_ss_us = np.array([*match_dprime_to_combined(patients_data, patients_model_threshold, 'SS', 'US')])\n",
    "plt.scatter(combined_ss_us[:,0], combined_ss_us[:,1])\n",
    "scipy.stats.spearmanr(combined_ss_us)"
   ]
  },
  {
   "cell_type": "markdown",
   "metadata": {},
   "source": [
    "#### SS vs CS"
   ]
  },
  {
   "cell_type": "code",
   "execution_count": 111,
   "metadata": {},
   "outputs": [
    {
     "data": {
      "text/plain": [
       "SpearmanrResult(correlation=-0.2564205219553819, pvalue=0.3377395600753792)"
      ]
     },
     "execution_count": 111,
     "metadata": {},
     "output_type": "execute_result"
    },
    {
     "data": {
      "image/png": "[encoded data removed]",
      "text/plain": [
       "<matplotlib.figure.Figure at 0x1210b56d8>"
      ]
     },
     "metadata": {},
     "output_type": "display_data"
    }
   ],
   "source": [
    "combined_ss_cs = np.array([*match_dprime_to_combined(pilot_data, pilot_model_threshold, 'SS', 'CS')])\n",
    "plt.scatter(combined_ss_cs[:,0], combined_ss_cs[:,1])\n",
    "scipy.stats.spearmanr(combined_ss_cs)"
   ]
  },
  {
   "cell_type": "code",
   "execution_count": 110,
   "metadata": {},
   "outputs": [
    {
     "data": {
      "text/plain": [
       "SpearmanrResult(correlation=-0.028571428571428574, pvalue=0.95715451895043735)"
      ]
     },
     "execution_count": 110,
     "metadata": {},
     "output_type": "execute_result"
    },
    {
     "data": {
      "image/png": "[encoded data removed]",
      "text/plain": [
       "<matplotlib.figure.Figure at 0x120bc1d68>"
      ]
     },
     "metadata": {},
     "output_type": "display_data"
    }
   ],
   "source": [
    "combined_ss_cs = np.array([*match_dprime_to_combined(controls_data, controls_model_threshold, 'SS', 'CS')])\n",
    "plt.scatter(combined_ss_cs[:,0], combined_ss_cs[:,1])\n",
    "scipy.stats.spearmanr(combined_ss_cs)"
   ]
  },
  {
   "cell_type": "code",
   "execution_count": 109,
   "metadata": {},
   "outputs": [
    {
     "data": {
      "text/plain": [
       "SpearmanrResult(correlation=-0.59999999999999998, pvalue=0.066687999999999956)"
      ]
     },
     "execution_count": 109,
     "metadata": {},
     "output_type": "execute_result"
    },
    {
     "data": {
      "image/png": "[encoded data removed]",
      "text/plain": [
       "<matplotlib.figure.Figure at 0x120f22ef0>"
      ]
     },
     "metadata": {},
     "output_type": "display_data"
    }
   ],
   "source": [
    "combined_ss_cs = np.array([*match_dprime_to_combined(patients_data, patients_model_threshold, 'SS', 'CS')])\n",
    "plt.scatter(combined_ss_cs[:,0], combined_ss_cs[:,1])\n",
    "scipy.stats.spearmanr(combined_ss_cs)"
   ]
  },
  {
   "cell_type": "markdown",
   "metadata": {},
   "source": [
    "#### SS vs CP"
   ]
  },
  {
   "cell_type": "code",
   "execution_count": 115,
   "metadata": {},
   "outputs": [
    {
     "data": {
      "text/plain": [
       "SpearmanrResult(correlation=0.33284606367034048, pvalue=0.20778413420573164)"
      ]
     },
     "execution_count": 115,
     "metadata": {},
     "output_type": "execute_result"
    },
    {
     "data": {
      "image/png": "[encoded data removed]",
      "text/plain": [
       "<matplotlib.figure.Figure at 0x11cf8e5c0>"
      ]
     },
     "metadata": {},
     "output_type": "display_data"
    }
   ],
   "source": [
    "combined_ss_cp = np.array([*match_dprime_to_combined(pilot_data, pilot_model_threshold, 'SS', 'CP')])\n",
    "plt.scatter(combined_ss_cp[:,0], combined_ss_cp[:,1])\n",
    "scipy.stats.spearmanr(combined_ss_cp)"
   ]
  },
  {
   "cell_type": "code",
   "execution_count": 116,
   "metadata": {},
   "outputs": [
    {
     "data": {
      "text/plain": [
       "SpearmanrResult(correlation=-0.25714285714285717, pvalue=0.62278717201166178)"
      ]
     },
     "execution_count": 116,
     "metadata": {},
     "output_type": "execute_result"
    },
    {
     "data": {
      "image/png": "[encoded data removed]",
      "text/plain": [
       "<matplotlib.figure.Figure at 0x1210944e0>"
      ]
     },
     "metadata": {},
     "output_type": "display_data"
    }
   ],
   "source": [
    "combined_ss_cp = np.array([*match_dprime_to_combined(controls_data, controls_model_threshold, 'SS', 'CP')])\n",
    "plt.scatter(combined_ss_cp[:,0], combined_ss_cp[:,1])\n",
    "scipy.stats.spearmanr(combined_ss_cp)"
   ]
  },
  {
   "cell_type": "code",
   "execution_count": 117,
   "metadata": {},
   "outputs": [
    {
     "data": {
      "text/plain": [
       "SpearmanrResult(correlation=-0.90000000000000002, pvalue=0.00094306232234032928)"
      ]
     },
     "execution_count": 117,
     "metadata": {},
     "output_type": "execute_result"
    },
    {
     "data": {
      "image/png": "[encoded data removed]",
      "text/plain": [
       "<matplotlib.figure.Figure at 0x1210b5ef0>"
      ]
     },
     "metadata": {},
     "output_type": "display_data"
    }
   ],
   "source": [
    "combined_ss_cp = np.array([*match_dprime_to_combined(patients_data, patients_model_threshold, 'SS', 'CP')])\n",
    "plt.scatter(combined_ss_cp[:,0], combined_ss_cp[:,1])\n",
    "scipy.stats.spearmanr(combined_ss_cp)"
   ]
  }
 ],
 "metadata": {
  "kernelspec": {
   "display_name": "Python 3",
   "language": "python",
   "name": "python3"
  },
  "language_info": {
   "codemirror_mode": {
    "name": "ipython",
    "version": 3
   },
   "file_extension": ".py",
   "mimetype": "text/x-python",
   "name": "python",
   "nbconvert_exporter": "python",
   "pygments_lexer": "ipython3",
   "version": "3.5.3"
  }
 },
 "nbformat": 4,
 "nbformat_minor": 2
}
