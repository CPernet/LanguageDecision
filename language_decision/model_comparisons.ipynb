{
 "cells": [
  {
   "cell_type": "markdown",
   "metadata": {},
   "source": [
    "# Model Comparisons\n",
    "\n",
    "Comparing the DDM to other congitive models"
   ]
  },
  {
   "cell_type": "code",
   "execution_count": 1,
   "metadata": {},
   "outputs": [
    {
     "name": "stdout",
     "output_type": "stream",
     "text": [
      "/Users/celefthe/Programming/projects/language_decision\n"
     ]
    }
   ],
   "source": [
    "# Environment setup\n",
    "%matplotlib inline\n",
    "%cd /lang_dec\n",
    "# Imports\n",
    "import warnings; warnings.filterwarnings('ignore')\n",
    "import hddm\n",
    "import math\n",
    "import scipy\n",
    "import numpy as np\n",
    "import matplotlib.pyplot as plt\n",
    "import seaborn as sns\n",
    "import bayesian_bootstrap.bootstrap as bootstrap\n",
    "from utils import model_tools, signal_detection"
   ]
  },
  {
   "cell_type": "code",
   "execution_count": 2,
   "metadata": {},
   "outputs": [
    {
     "data": {
      "text/plain": [
       "<hddm.models.hddm_info.HDDM at 0x10cabcf98>"
      ]
     },
     "execution_count": 2,
     "metadata": {},
     "output_type": "execute_result"
    }
   ],
   "source": [
    "# Import pilot models\n",
    "pilot_data = hddm.load_csv('/lang_dec/data/pilot_clean.csv')\n",
    "pilot_model = hddm.HDDM(pilot_data, depends_on={'v': 'stim'}, bias=True)\n",
    "pilot_model.load_db(dbname='language_decision/models/pilot', db='txt')\n",
    "\n",
    "#pilot_model_threshold = hddm.HDDM(pilot_data, depends_on={'v': 'stim', 'a': 'stim'})\n",
    "#pilot_model_threshold.load_db(dbname='language_decision/models/pilot_threshold', db='txt')"
   ]
  },
  {
   "cell_type": "code",
   "execution_count": 3,
   "metadata": {},
   "outputs": [
    {
     "data": {
      "text/plain": [
       "<hddm.models.hddm_info.HDDM at 0x1191ad1d0>"
      ]
     },
     "execution_count": 3,
     "metadata": {},
     "output_type": "execute_result"
    }
   ],
   "source": [
    "# Import control models\n",
    "controls_data = hddm.load_csv('/lang_dec/data/controls_clean.csv')\n",
    "controls_model = hddm.HDDM(controls_data, depends_on={'v': 'stim'}, bias=True)\n",
    "controls_model.load_db(dbname='language_decision/models/controls', db='txt')\n",
    "\n",
    "#controls_model_threshold = hddm.HDDM(controls_data, depends_on={'v': 'stim', 'a': 'stim'}, bias=True)\n",
    "#controls_model_threshold.load_db(dbname='language_decision/models/controls_threshold', db='txt')"
   ]
  },
  {
   "cell_type": "code",
   "execution_count": 4,
   "metadata": {},
   "outputs": [
    {
     "data": {
      "text/plain": [
       "<hddm.models.hddm_info.HDDM at 0x11910e160>"
      ]
     },
     "execution_count": 4,
     "metadata": {},
     "output_type": "execute_result"
    }
   ],
   "source": [
    "# Import patient models\n",
    "patients_data = hddm.load_csv('/lang_dec/data/patients_clean.csv')\n",
    "patients_model = hddm.HDDM(patients_data, depends_on={'v': 'stim'}, bias=True)\n",
    "patients_model.load_db(dbname='language_decision/models/patients', db='txt')\n",
    "\n",
    "#patients_model_threshold = hddm.HDDM(patients_data, depends_on={'v': 'stim', 'a': 'stim'})\n",
    "#patients_model_threshold.load_db(dbname='language_decision/models/patients_threshold', db='txt')"
   ]
  },
  {
   "cell_type": "markdown",
   "metadata": {},
   "source": [
    "## DDM vs Signal Detection Theory\n",
    "\n",
    "Comparing DDM to Signal Detection - does d' correlate with DDM parameters?"
   ]
  },
  {
   "cell_type": "code",
   "execution_count": 5,
   "metadata": {
    "collapsed": true
   },
   "outputs": [],
   "source": [
    "def get_d_primes(dataset, stim1, stim2, include_id=False):\n",
    "    d_primes = dict()\n",
    "    subject_ids = set(dataset.subj_idx)\n",
    "    for subject_id in subject_ids:\n",
    "        stim1_data = dataset.loc[\n",
    "            dataset['subj_idx'] == subject_id].loc[\n",
    "            dataset['stim'] == str(stim1)]\n",
    "        stim1_trials = len(stim1_data)\n",
    "        hits = len(stim1_data.loc[\n",
    "            dataset['response'] == 1.0])\n",
    "        \n",
    "        stim2_data = dataset.loc[\n",
    "            dataset['subj_idx'] == subject_id].loc[\n",
    "            dataset['stim'] == str(stim2)]\n",
    "        stim2_trials = len(stim2_data)\n",
    "        \n",
    "        fas = len(stim2_data.loc[\n",
    "            dataset['response'] == 0.0])\n",
    "        \n",
    "        if not stim1_trials or not stim2_trials:\n",
    "            d_primes[subject_id] = None # N/A placeholder value\n",
    "            continue\n",
    "        \n",
    "        d_prime = signal_detection.signal_detection(\n",
    "            n_stim1=stim1_trials, \n",
    "            n_stim2=stim2_trials, \n",
    "            hits=hits, \n",
    "            false_alarms=fas)['d_prime']\n",
    "        d_primes[subject_id] = d_prime\n",
    "       \n",
    "    if not include_id:\n",
    "        return list(d_primes.values())\n",
    "    return d_primes"
   ]
  },
  {
   "cell_type": "markdown",
   "metadata": {},
   "source": [
    "## d' distributions"
   ]
  },
  {
   "cell_type": "markdown",
   "metadata": {},
   "source": [
    "### Pilot"
   ]
  },
  {
   "cell_type": "code",
   "execution_count": 21,
   "metadata": {},
   "outputs": [
    {
     "data": {
      "text/plain": [
       "(array([ 1.,  0.,  0.,  1.,  0.,  0.,  7.,  0.,  0.,  7.]),\n",
       " array([ 3.33500058,  3.42710957,  3.51921856,  3.61132755,  3.70343654,\n",
       "         3.79554553,  3.88765451,  3.9797635 ,  4.07187249,  4.16398148,\n",
       "         4.25609047]),\n",
       " <a list of 10 Patch objects>)"
      ]
     },
     "execution_count": 21,
     "metadata": {},
     "output_type": "execute_result"
    },
    {
     "data": {
      "image/png": "[encoded data removed]",
      "text/plain": [
       "<matplotlib.figure.Figure at 0x119d3feb8>"
      ]
     },
     "metadata": {},
     "output_type": "display_data"
    }
   ],
   "source": [
    "plt.hist(get_d_primes(pilot_data, 'SS', 'US'))"
   ]
  },
  {
   "cell_type": "code",
   "execution_count": 22,
   "metadata": {},
   "outputs": [
    {
     "data": {
      "text/plain": [
       "(array([ 5.,  0.,  0.,  0.,  1.,  5.,  0.,  0.,  0.,  5.]),\n",
       " array([ 3.62913118,  3.69182711,  3.75452304,  3.81721897,  3.8799149 ,\n",
       "         3.94261082,  4.00530675,  4.06800268,  4.13069861,  4.19339454,\n",
       "         4.25609047]),\n",
       " <a list of 10 Patch objects>)"
      ]
     },
     "execution_count": 22,
     "metadata": {},
     "output_type": "execute_result"
    },
    {
     "data": {
      "image/png": "[encoded data removed]",
      "text/plain": [
       "<matplotlib.figure.Figure at 0x1193610f0>"
      ]
     },
     "metadata": {},
     "output_type": "display_data"
    }
   ],
   "source": [
    "plt.hist(get_d_primes(pilot_data, 'SS', 'CS'))"
   ]
  },
  {
   "cell_type": "code",
   "execution_count": 23,
   "metadata": {},
   "outputs": [
    {
     "data": {
      "text/plain": [
       "(array([ 1.,  0.,  3.,  5.,  1.,  2.,  0.,  3.,  0.,  1.]),\n",
       " array([ 2.8013362 ,  2.94681163,  3.09228706,  3.23776248,  3.38323791,\n",
       "         3.52871334,  3.67418876,  3.81966419,  3.96513962,  4.11061504,\n",
       "         4.25609047]),\n",
       " <a list of 10 Patch objects>)"
      ]
     },
     "execution_count": 23,
     "metadata": {},
     "output_type": "execute_result"
    },
    {
     "data": {
      "image/png": "[encoded data removed]",
      "text/plain": [
       "<matplotlib.figure.Figure at 0x119342358>"
      ]
     },
     "metadata": {},
     "output_type": "display_data"
    }
   ],
   "source": [
    "plt.hist(get_d_primes(pilot_data, 'SS', 'CP'))"
   ]
  },
  {
   "cell_type": "markdown",
   "metadata": {},
   "source": [
    "### Controls"
   ]
  },
  {
   "cell_type": "code",
   "execution_count": 24,
   "metadata": {},
   "outputs": [
    {
     "data": {
      "text/plain": [
       "(array([ 1.,  0.,  0.,  0.,  0.,  0.,  1.,  0.,  1.,  3.]),\n",
       " array([ 1.48725198,  1.73472277,  1.98219356,  2.22966435,  2.47713514,\n",
       "         2.72460593,  2.97207672,  3.2195475 ,  3.46701829,  3.71448908,\n",
       "         3.96195987]),\n",
       " <a list of 10 Patch objects>)"
      ]
     },
     "execution_count": 24,
     "metadata": {},
     "output_type": "execute_result"
    },
    {
     "data": {
      "image/png": "[encoded data removed]",
      "text/plain": [
       "<matplotlib.figure.Figure at 0x119b40a90>"
      ]
     },
     "metadata": {},
     "output_type": "display_data"
    }
   ],
   "source": [
    "plt.hist(get_d_primes(controls_data, 'SS', 'US'))"
   ]
  },
  {
   "cell_type": "code",
   "execution_count": 25,
   "metadata": {},
   "outputs": [
    {
     "data": {
      "text/plain": [
       "(array([ 1.,  0.,  0.,  0.,  0.,  1.,  1.,  1.,  1.,  1.]),\n",
       " array([ 0.93901198,  1.24130677,  1.54360156,  1.84589635,  2.14819114,\n",
       "         2.45048593,  2.75278071,  3.0550755 ,  3.35737029,  3.65966508,\n",
       "         3.96195987]),\n",
       " <a list of 10 Patch objects>)"
      ]
     },
     "execution_count": 25,
     "metadata": {},
     "output_type": "execute_result"
    },
    {
     "data": {
      "image/png": "[encoded data removed]",
      "text/plain": [
       "<matplotlib.figure.Figure at 0x119acdcc0>"
      ]
     },
     "metadata": {},
     "output_type": "display_data"
    }
   ],
   "source": [
    "plt.hist(get_d_primes(controls_data, 'SS', 'CS'))"
   ]
  },
  {
   "cell_type": "code",
   "execution_count": 28,
   "metadata": {},
   "outputs": [
    {
     "data": {
      "text/plain": [
       "(array([ 1.,  0.,  0.,  1.,  0.,  0.,  1.,  1.,  1.,  1.]),\n",
       " array([-0.25014907,  0.14164876,  0.5334466 ,  0.92524443,  1.31704227,\n",
       "         1.7088401 ,  2.10063794,  2.49243577,  2.8842336 ,  3.27603144,\n",
       "         3.66782927]),\n",
       " <a list of 10 Patch objects>)"
      ]
     },
     "execution_count": 28,
     "metadata": {},
     "output_type": "execute_result"
    },
    {
     "data": {
      "image/png": "[encoded data removed]",
      "text/plain": [
       "<matplotlib.figure.Figure at 0x119d50c50>"
      ]
     },
     "metadata": {},
     "output_type": "display_data"
    }
   ],
   "source": [
    "plt.hist(get_d_primes(controls_data, 'SS', 'CP'))"
   ]
  },
  {
   "cell_type": "markdown",
   "metadata": {},
   "source": [
    "### Patients"
   ]
  },
  {
   "cell_type": "code",
   "execution_count": 29,
   "metadata": {},
   "outputs": [
    {
     "data": {
      "text/plain": [
       "(array([ 1.,  0.,  0.,  1.,  1.,  0.,  2.,  1.,  0.,  4.]),\n",
       " array([-2.24897313, -1.66291731, -1.07686149, -0.49080566,  0.09525016,\n",
       "         0.68130598,  1.2673618 ,  1.85341763,  2.43947345,  3.02552927,\n",
       "         3.61158509]),\n",
       " <a list of 10 Patch objects>)"
      ]
     },
     "execution_count": 29,
     "metadata": {},
     "output_type": "execute_result"
    },
    {
     "data": {
      "image/png": "[encoded data removed]",
      "text/plain": [
       "<matplotlib.figure.Figure at 0x11a146ac8>"
      ]
     },
     "metadata": {},
     "output_type": "display_data"
    }
   ],
   "source": [
    "plt.hist(get_d_primes(patients_data, 'SS', 'US'))"
   ]
  },
  {
   "cell_type": "code",
   "execution_count": 30,
   "metadata": {},
   "outputs": [
    {
     "data": {
      "text/plain": [
       "(array([ 1.,  0.,  0.,  0.,  2.,  1.,  0.,  1.,  2.,  3.]),\n",
       " array([-2.00946486, -1.55572351, -1.10198215, -0.6482408 , -0.19449945,\n",
       "         0.2592419 ,  0.71298325,  1.1667246 ,  1.62046595,  2.0742073 ,\n",
       "         2.52794865]),\n",
       " <a list of 10 Patch objects>)"
      ]
     },
     "execution_count": 30,
     "metadata": {},
     "output_type": "execute_result"
    },
    {
     "data": {
      "image/png": "[encoded data removed]",
      "text/plain": [
       "<matplotlib.figure.Figure at 0x11a154e48>"
      ]
     },
     "metadata": {},
     "output_type": "display_data"
    }
   ],
   "source": [
    "plt.hist(get_d_primes(patients_data, 'SS', 'CS'))"
   ]
  },
  {
   "cell_type": "code",
   "execution_count": 34,
   "metadata": {},
   "outputs": [
    {
     "data": {
      "text/plain": [
       "(array([ 1.,  0.,  1.,  1.,  0.,  1.,  0.,  3.,  1.,  1.]),\n",
       " array([-0.55363827, -0.26098277,  0.03167274,  0.32432825,  0.61698375,\n",
       "         0.90963926,  1.20229477,  1.49495027,  1.78760578,  2.08026129,\n",
       "         2.37291679]),\n",
       " <a list of 10 Patch objects>)"
      ]
     },
     "execution_count": 34,
     "metadata": {},
     "output_type": "execute_result"
    },
    {
     "data": {
      "image/png": "[encoded data removed]",
      "text/plain": [
       "<matplotlib.figure.Figure at 0x11d7098d0>"
      ]
     },
     "metadata": {},
     "output_type": "display_data"
    }
   ],
   "source": [
    "plt.hist(list(filter(None, get_d_primes(patients_data, 'SS', 'CP'))))"
   ]
  },
  {
   "cell_type": "markdown",
   "metadata": {},
   "source": [
    "### Drift rate / d'"
   ]
  },
  {
   "cell_type": "code",
   "execution_count": 6,
   "metadata": {
    "collapsed": true
   },
   "outputs": [],
   "source": [
    "def match_dprime_to_driftrate(dataset, model, stim1, stim2):\n",
    "    subject_ids = set(dataset.subj_idx)\n",
    "    d_primes = get_d_primes(dataset, stim1, stim2, include_id=True)\n",
    "    for subject_id in subject_ids:\n",
    "        try:\n",
    "            d_prime = d_primes[subject_id]\n",
    "            v_stim1 = model.values['v_subj(' + stim1 + ').' + str(subject_id)]\n",
    "            v_stim2 = model.values['v_subj(' + stim2 + ').' + str(subject_id)]\n",
    "            v_diff = abs(v_stim2 - v_stim1)\n",
    "            yield (d_prime, v_diff)\n",
    "        except: \n",
    "            continue"
   ]
  },
  {
   "cell_type": "markdown",
   "metadata": {},
   "source": [
    "#### SS vs US"
   ]
  },
  {
   "cell_type": "code",
   "execution_count": 7,
   "metadata": {},
   "outputs": [
    {
     "data": {
      "text/plain": [
       "SpearmanrResult(correlation=0.37136761744229696, pvalue=0.15671034318106991)"
      ]
     },
     "execution_count": 7,
     "metadata": {},
     "output_type": "execute_result"
    },
    {
     "data": {
      "image/png": "[encoded data removed]",
      "text/plain": [
       "<matplotlib.figure.Figure at 0x1192e69b0>"
      ]
     },
     "metadata": {},
     "output_type": "display_data"
    }
   ],
   "source": [
    "dprime_driftrate = np.array([*match_dprime_to_driftrate(pilot_data, pilot_model, 'SS', 'US')])\n",
    "x = dprime_driftrate[:,0]\n",
    "y = dprime_driftrate[:,1]\n",
    "\n",
    "plt.scatter(x, y)\n",
    "scipy.stats.spearmanr(x, y)"
   ]
  },
  {
   "cell_type": "code",
   "execution_count": 8,
   "metadata": {},
   "outputs": [
    {
     "data": {
      "text/plain": [
       "SpearmanrResult(correlation=-0.27322953332351235, pvalue=0.60035459042911143)"
      ]
     },
     "execution_count": 8,
     "metadata": {},
     "output_type": "execute_result"
    },
    {
     "data": {
      "image/png": "[encoded data removed]",
      "text/plain": [
       "<matplotlib.figure.Figure at 0x1192fd5f8>"
      ]
     },
     "metadata": {},
     "output_type": "display_data"
    }
   ],
   "source": [
    "dprime_driftrate = np.array([*match_dprime_to_driftrate(controls_data, controls_model, 'SS', 'US')])\n",
    "x = dprime_driftrate[:,0]\n",
    "y = dprime_driftrate[:,1]\n",
    "\n",
    "plt.scatter(x, y)\n",
    "scipy.stats.spearmanr(x, y)"
   ]
  },
  {
   "cell_type": "code",
   "execution_count": 9,
   "metadata": {},
   "outputs": [
    {
     "data": {
      "text/plain": [
       "SpearmanrResult(correlation=-0.29696969696969694, pvalue=0.40470167127015688)"
      ]
     },
     "execution_count": 9,
     "metadata": {},
     "output_type": "execute_result"
    },
    {
     "data": {
      "image/png": "[encoded data removed]",
      "text/plain": [
       "<matplotlib.figure.Figure at 0x11934f320>"
      ]
     },
     "metadata": {},
     "output_type": "display_data"
    }
   ],
   "source": [
    "dprime_driftrate = np.array([*match_dprime_to_driftrate(patients_data, patients_model, 'SS', 'US')])\n",
    "x = dprime_driftrate[:,0]\n",
    "y = dprime_driftrate[:,1]\n",
    "\n",
    "plt.scatter(x, y)\n",
    "scipy.stats.spearmanr(x, y)"
   ]
  },
  {
   "cell_type": "markdown",
   "metadata": {},
   "source": [
    "#### SS vs CS"
   ]
  },
  {
   "cell_type": "code",
   "execution_count": 10,
   "metadata": {},
   "outputs": [
    {
     "data": {
      "text/plain": [
       "SpearmanrResult(correlation=0.19943818374307479, pvalue=0.45897847575469752)"
      ]
     },
     "execution_count": 10,
     "metadata": {},
     "output_type": "execute_result"
    },
    {
     "data": {
      "image/png": "[encoded data removed]",
      "text/plain": [
       "<matplotlib.figure.Figure at 0x119b405c0>"
      ]
     },
     "metadata": {},
     "output_type": "display_data"
    }
   ],
   "source": [
    "dprime_driftrate = np.array([*match_dprime_to_driftrate(pilot_data, pilot_model, 'SS', 'CS')])\n",
    "x = dprime_driftrate[:,0]\n",
    "y = dprime_driftrate[:,1]\n",
    "\n",
    "plt.scatter(x, y)\n",
    "scipy.stats.spearmanr(x, y)"
   ]
  },
  {
   "cell_type": "code",
   "execution_count": 11,
   "metadata": {},
   "outputs": [
    {
     "data": {
      "text/plain": [
       "SpearmanrResult(correlation=0.4285714285714286, pvalue=0.39650145772594741)"
      ]
     },
     "execution_count": 11,
     "metadata": {},
     "output_type": "execute_result"
    },
    {
     "data": {
      "image/png": "[encoded data removed]",
      "text/plain": [
       "<matplotlib.figure.Figure at 0x119a84ba8>"
      ]
     },
     "metadata": {},
     "output_type": "display_data"
    }
   ],
   "source": [
    "dprime_driftrate = np.array([*match_dprime_to_driftrate(controls_data, controls_model, 'SS', 'CS')])\n",
    "x = dprime_driftrate[:,0]\n",
    "y = dprime_driftrate[:,1]\n",
    "\n",
    "plt.scatter(x, y)\n",
    "scipy.stats.spearmanr(x, y)"
   ]
  },
  {
   "cell_type": "code",
   "execution_count": 12,
   "metadata": {},
   "outputs": [
    {
     "data": {
      "text/plain": [
       "SpearmanrResult(correlation=-0.45454545454545447, pvalue=0.18690481034933201)"
      ]
     },
     "execution_count": 12,
     "metadata": {},
     "output_type": "execute_result"
    },
    {
     "data": {
      "image/png": "[encoded data removed]",
      "text/plain": [
       "<matplotlib.figure.Figure at 0x119eb72b0>"
      ]
     },
     "metadata": {},
     "output_type": "display_data"
    }
   ],
   "source": [
    "dprime_driftrate = np.array([*match_dprime_to_driftrate(patients_data, patients_model, 'SS', 'CS')])\n",
    "x = dprime_driftrate[:,0]\n",
    "y = dprime_driftrate[:,1]\n",
    "\n",
    "plt.scatter(x, y)\n",
    "scipy.stats.spearmanr(x, y)"
   ]
  },
  {
   "cell_type": "markdown",
   "metadata": {},
   "source": [
    "#### SS vs CP"
   ]
  },
  {
   "cell_type": "code",
   "execution_count": 13,
   "metadata": {},
   "outputs": [
    {
     "data": {
      "text/plain": [
       "SpearmanrResult(correlation=-0.094676213666230177, pvalue=0.7272620157241807)"
      ]
     },
     "execution_count": 13,
     "metadata": {},
     "output_type": "execute_result"
    },
    {
     "data": {
      "image/png": "[encoded data removed]",
      "text/plain": [
       "<matplotlib.figure.Figure at 0x119d39cc0>"
      ]
     },
     "metadata": {},
     "output_type": "display_data"
    }
   ],
   "source": [
    "dprime_driftrate = np.array([*match_dprime_to_driftrate(pilot_data, pilot_model, 'SS', 'CP')])\n",
    "x = dprime_driftrate[:,0]\n",
    "y = dprime_driftrate[:,1]\n",
    "\n",
    "plt.scatter(x, y)\n",
    "scipy.stats.spearmanr(x, y)"
   ]
  },
  {
   "cell_type": "code",
   "execution_count": 14,
   "metadata": {},
   "outputs": [
    {
     "data": {
      "text/plain": [
       "SpearmanrResult(correlation=-0.59999999999999998, pvalue=0.20799999999999982)"
      ]
     },
     "execution_count": 14,
     "metadata": {},
     "output_type": "execute_result"
    },
    {
     "data": {
      "image/png": "[encoded data removed]",
      "text/plain": [
       "<matplotlib.figure.Figure at 0x119b409e8>"
      ]
     },
     "metadata": {},
     "output_type": "display_data"
    }
   ],
   "source": [
    "dprime_driftrate = np.array([*match_dprime_to_driftrate(controls_data, controls_model, 'SS', 'CP')])\n",
    "x = dprime_driftrate[:,0]\n",
    "y = dprime_driftrate[:,1]\n",
    "\n",
    "plt.scatter(x, y)\n",
    "scipy.stats.spearmanr(x, y)"
   ]
  },
  {
   "cell_type": "code",
   "execution_count": 15,
   "metadata": {},
   "outputs": [
    {
     "data": {
      "text/plain": [
       "SpearmanrResult(correlation=-0.58333333333333337, pvalue=0.099185816479883226)"
      ]
     },
     "execution_count": 15,
     "metadata": {},
     "output_type": "execute_result"
    },
    {
     "data": {
      "image/png": "[encoded data removed]",
      "text/plain": [
       "<matplotlib.figure.Figure at 0x119c4a940>"
      ]
     },
     "metadata": {},
     "output_type": "display_data"
    }
   ],
   "source": [
    "dprime_driftrate = np.array([*match_dprime_to_driftrate(patients_data, patients_model, 'SS', 'CP')])\n",
    "x = dprime_driftrate[:,0]\n",
    "y = dprime_driftrate[:,1]\n",
    "\n",
    "plt.scatter(x, y)\n",
    "scipy.stats.spearmanr(x, y)"
   ]
  },
  {
   "cell_type": "markdown",
   "metadata": {},
   "source": [
    "### Low d' comparisons\n",
    "\n",
    "Compare ddm drift rate only with low d'\n",
    "\n",
    "Ratcliff, R. (2014). Measuring psychometric functions with the diffusion model. Journal of Experimental Psychology: Human Perception and Performance, 40(2), 870-888.\n",
    "http://dx.doi.org/10.1037/a0034954\n",
    "\n",
    "Patients are the best candidates for this (SSvsCS, SSvsCP)"
   ]
  },
  {
   "cell_type": "code",
   "execution_count": 16,
   "metadata": {},
   "outputs": [
    {
     "data": {
      "text/plain": [
       "SpearmanrResult(correlation=-0.45454545454545447, pvalue=0.18690481034933201)"
      ]
     },
     "execution_count": 16,
     "metadata": {},
     "output_type": "execute_result"
    },
    {
     "data": {
      "image/png": "[encoded data removed]",
      "text/plain": [
       "<matplotlib.figure.Figure at 0x11935ba20>"
      ]
     },
     "metadata": {},
     "output_type": "display_data"
    }
   ],
   "source": [
    "dprime_driftrate = np.array([*match_dprime_to_driftrate(patients_data, \n",
    "                                                 patients_model, 'SS', 'CS')])\n",
    "x = dprime_driftrate[:,0]\n",
    "y = dprime_driftrate[:,1]\n",
    "\n",
    "plt.scatter(x, y)\n",
    "scipy.stats.spearmanr(x, y)"
   ]
  },
  {
   "cell_type": "code",
   "execution_count": 17,
   "metadata": {},
   "outputs": [
    {
     "data": {
      "text/plain": [
       "SpearmanrResult(correlation=-0.58333333333333337, pvalue=0.099185816479883226)"
      ]
     },
     "execution_count": 17,
     "metadata": {},
     "output_type": "execute_result"
    },
    {
     "data": {
      "image/png": "[encoded data removed]",
      "text/plain": [
       "<matplotlib.figure.Figure at 0x119d708d0>"
      ]
     },
     "metadata": {},
     "output_type": "display_data"
    }
   ],
   "source": [
    "dprime_driftrate = np.array([*match_dprime_to_driftrate(patients_data, \n",
    "                                                 patients_model, 'SS', 'CP')])\n",
    "x = dprime_driftrate[:,0]\n",
    "y = dprime_driftrate[:,1]\n",
    "\n",
    "plt.scatter(x, y)\n",
    "scipy.stats.spearmanr(x, y)"
   ]
  }
 ],
 "metadata": {
  "kernelspec": {
   "display_name": "Python 3",
   "language": "python",
   "name": "python3"
  },
  "language_info": {
   "codemirror_mode": {
    "name": "ipython",
    "version": 3
   },
   "file_extension": ".py",
   "mimetype": "text/x-python",
   "name": "python",
   "nbconvert_exporter": "python",
   "pygments_lexer": "ipython3",
   "version": "3.5.3"
  }
 },
 "nbformat": 4,
 "nbformat_minor": 2
}
